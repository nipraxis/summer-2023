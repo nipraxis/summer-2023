{
 "cells": [
  {
   "cell_type": "markdown",
   "id": "4320e672",
   "metadata": {},
   "source": [
    "# Practice with Numpy arrays"
   ]
  },
  {
   "cell_type": "code",
   "execution_count": 1,
   "id": "161105f5",
   "metadata": {
    "execution": {
     "iopub.execute_input": "2022-03-31T11:30:10.815404Z",
     "iopub.status.busy": "2022-03-31T11:30:10.814138Z",
     "iopub.status.idle": "2022-03-31T11:30:11.196856Z",
     "shell.execute_reply": "2022-03-31T11:30:11.197522Z"
    }
   },
   "outputs": [],
   "source": [
    "# Don't change this cell; just run it.\n",
    "# The array library\n",
    "import numpy as np\n",
    "\n",
    "# Only show 6 decimals when printing numbers in arrays.\n",
    "np.set_printoptions(precision=6)\n",
    "\n",
    "# The OKpy testing system.\n",
    "from client.api.notebook import Notebook\n",
    "ok = Notebook('array_practice.ok')"
   ]
  },
  {
   "cell_type": "markdown",
   "id": "73f9c0fb",
   "metadata": {},
   "source": [
    "## Simple arrays\n",
    "\n",
    "\n",
    "Create an array with variable name `a` and the following contents (shape (3, 4)):\n",
    "\n",
    "```\n",
    "2  7 12  0\n",
    "3  9  3  4\n",
    "4  0  1  3\n",
    "```\n",
    "\n",
    "To answer the question, replace the `...` in the cell below with the correct text."
   ]
  },
  {
   "cell_type": "code",
   "execution_count": 2,
   "id": "2cc53f47",
   "metadata": {
    "execution": {
     "iopub.execute_input": "2022-03-31T11:30:11.209914Z",
     "iopub.status.busy": "2022-03-31T11:30:11.208735Z",
     "iopub.status.idle": "2022-03-31T11:30:11.214703Z",
     "shell.execute_reply": "2022-03-31T11:30:11.215181Z"
    }
   },
   "outputs": [],
   "source": [
    "#- create array \"a\" with values\n",
    "#-     2  7 12  0\n",
    "#-     3  9  3  4\n",
    "#-     4  0  1  3\n",
    "a = np.array([[2, 7, 12, 0], [3, 9, 3, 4], [4, 0, 1,  3]])\n",
    "# Show the result.\n",
    "a"
   ]
  },
  {
   "cell_type": "code",
   "execution_count": 3,
   "id": "02b415b2",
   "metadata": {
    "execution": {
     "iopub.execute_input": "2022-03-31T11:30:11.220884Z",
     "iopub.status.busy": "2022-03-31T11:30:11.218944Z",
     "iopub.status.idle": "2022-03-31T11:30:11.266860Z",
     "shell.execute_reply": "2022-03-31T11:30:11.267386Z"
    }
   },
   "outputs": [],
   "source": [
    "_ = ok.grade('q_a')"
   ]
  },
  {
   "cell_type": "markdown",
   "id": "e6d0e5b0",
   "metadata": {},
   "source": [
    "Show the`shape` of the array `a`."
   ]
  },
  {
   "cell_type": "code",
   "execution_count": 4,
   "id": "3d86581f",
   "metadata": {
    "execution": {
     "iopub.execute_input": "2022-03-31T11:30:11.273652Z",
     "iopub.status.busy": "2022-03-31T11:30:11.272880Z",
     "iopub.status.idle": "2022-03-31T11:30:11.276377Z",
     "shell.execute_reply": "2022-03-31T11:30:11.276890Z"
    }
   },
   "outputs": [],
   "source": [
    "#- Array shape?\n",
    "a.shape"
   ]
  },
  {
   "cell_type": "markdown",
   "id": "c3371385",
   "metadata": {},
   "source": [
    "Show the `ndim` of the array `a`."
   ]
  },
  {
   "cell_type": "code",
   "execution_count": 5,
   "id": "3e70f219",
   "metadata": {
    "execution": {
     "iopub.execute_input": "2022-03-31T11:30:11.281598Z",
     "iopub.status.busy": "2022-03-31T11:30:11.280839Z",
     "iopub.status.idle": "2022-03-31T11:30:11.284617Z",
     "shell.execute_reply": "2022-03-31T11:30:11.285194Z"
    }
   },
   "outputs": [],
   "source": [
    "#- Array ndim?\n",
    "a.ndim"
   ]
  },
  {
   "cell_type": "markdown",
   "id": "0472d98f",
   "metadata": {},
   "source": [
    "How about the `len` of the array?"
   ]
  },
  {
   "cell_type": "code",
   "execution_count": 6,
   "id": "a92ad3c5",
   "metadata": {
    "execution": {
     "iopub.execute_input": "2022-03-31T11:30:11.290326Z",
     "iopub.status.busy": "2022-03-31T11:30:11.289508Z",
     "iopub.status.idle": "2022-03-31T11:30:11.292694Z",
     "shell.execute_reply": "2022-03-31T11:30:11.293521Z"
    }
   },
   "outputs": [],
   "source": [
    "#- Array length\n",
    "len(a)"
   ]
  },
  {
   "cell_type": "markdown",
   "id": "245f4ade",
   "metadata": {},
   "source": [
    "Can you get the `ndim` and `len` from the shape?"
   ]
  },
  {
   "cell_type": "code",
   "execution_count": 7,
   "id": "e8907e53",
   "metadata": {
    "execution": {
     "iopub.execute_input": "2022-03-31T11:30:11.298652Z",
     "iopub.status.busy": "2022-03-31T11:30:11.297860Z",
     "iopub.status.idle": "2022-03-31T11:30:11.300980Z",
     "shell.execute_reply": "2022-03-31T11:30:11.301789Z"
    }
   },
   "outputs": [],
   "source": [
    "#- Get ndim and length from the shape\n",
    "len(a.shape) == a.ndim\n",
    "a.shape[0] == len(a)"
   ]
  },
  {
   "cell_type": "markdown",
   "id": "bd15c062",
   "metadata": {},
   "source": [
    "## Creating arrays using functions\n",
    "\n",
    "\n",
    "Create a 1D array from 2 through 5 inclusive."
   ]
  },
  {
   "cell_type": "code",
   "execution_count": 8,
   "id": "64ce9270",
   "metadata": {
    "execution": {
     "iopub.execute_input": "2022-03-31T11:30:11.306443Z",
     "iopub.status.busy": "2022-03-31T11:30:11.305675Z",
     "iopub.status.idle": "2022-03-31T11:30:11.308955Z",
     "shell.execute_reply": "2022-03-31T11:30:11.309403Z"
    }
   },
   "outputs": [],
   "source": [
    "#- 1D array 2 through 5\n",
    "two_through_five = np.arange(2, 6)\n",
    "# Show the result\n",
    "two_through_five"
   ]
  },
  {
   "cell_type": "code",
   "execution_count": 9,
   "id": "b9b3c9a7",
   "metadata": {
    "execution": {
     "iopub.execute_input": "2022-03-31T11:30:11.313826Z",
     "iopub.status.busy": "2022-03-31T11:30:11.313063Z",
     "iopub.status.idle": "2022-03-31T11:30:11.334322Z",
     "shell.execute_reply": "2022-03-31T11:30:11.333111Z"
    }
   },
   "outputs": [],
   "source": [
    "_ = ok.grade('q_two_through_five')"
   ]
  },
  {
   "cell_type": "markdown",
   "id": "ae51550e",
   "metadata": {},
   "source": [
    "Make an array with 10 equally spaced elements between 2 and 5 inclusive."
   ]
  },
  {
   "cell_type": "code",
   "execution_count": 10,
   "id": "99747ead",
   "metadata": {
    "execution": {
     "iopub.execute_input": "2022-03-31T11:30:11.340501Z",
     "iopub.status.busy": "2022-03-31T11:30:11.339774Z",
     "iopub.status.idle": "2022-03-31T11:30:11.342892Z",
     "shell.execute_reply": "2022-03-31T11:30:11.343343Z"
    }
   },
   "outputs": [],
   "source": [
    "#- 10 equally spaced elements between 2 and 5\n",
    "spaced = np.linspace(2, 5, 10)\n",
    "# Show the result\n",
    "spaced"
   ]
  },
  {
   "cell_type": "code",
   "execution_count": 11,
   "id": "a06c869a",
   "metadata": {
    "execution": {
     "iopub.execute_input": "2022-03-31T11:30:11.347711Z",
     "iopub.status.busy": "2022-03-31T11:30:11.346939Z",
     "iopub.status.idle": "2022-03-31T11:30:11.369148Z",
     "shell.execute_reply": "2022-03-31T11:30:11.367304Z"
    },
    "lines_to_next_cell": 2
   },
   "outputs": [],
   "source": [
    "_ = ok.grade('q_spaced')"
   ]
  },
  {
   "cell_type": "markdown",
   "id": "d660711b",
   "metadata": {},
   "source": [
    "Make an all-ones array shape (4, 4)."
   ]
  },
  {
   "cell_type": "code",
   "execution_count": 12,
   "id": "d21f5e34",
   "metadata": {
    "execution": {
     "iopub.execute_input": "2022-03-31T11:30:11.374260Z",
     "iopub.status.busy": "2022-03-31T11:30:11.373421Z",
     "iopub.status.idle": "2022-03-31T11:30:11.376426Z",
     "shell.execute_reply": "2022-03-31T11:30:11.377155Z"
    }
   },
   "outputs": [],
   "source": [
    "#- Shape 4,4 array of 1\n",
    "all_ones = np.ones((4, 4))\n",
    "# Show the result\n",
    "all_ones"
   ]
  },
  {
   "cell_type": "code",
   "execution_count": 13,
   "id": "8d2197b6",
   "metadata": {
    "execution": {
     "iopub.execute_input": "2022-03-31T11:30:11.381438Z",
     "iopub.status.busy": "2022-03-31T11:30:11.380712Z",
     "iopub.status.idle": "2022-03-31T11:30:11.400079Z",
     "shell.execute_reply": "2022-03-31T11:30:11.398099Z"
    },
    "lines_to_next_cell": 2
   },
   "outputs": [],
   "source": [
    "_ = ok.grade('q_all_ones')"
   ]
  },
  {
   "cell_type": "markdown",
   "id": "c3bb492e",
   "metadata": {},
   "source": [
    "Make an identity array shape (6, 6)."
   ]
  },
  {
   "cell_type": "code",
   "execution_count": 14,
   "id": "dd8e2186",
   "metadata": {
    "execution": {
     "iopub.execute_input": "2022-03-31T11:30:11.404963Z",
     "iopub.status.busy": "2022-03-31T11:30:11.404199Z",
     "iopub.status.idle": "2022-03-31T11:30:11.406967Z",
     "shell.execute_reply": "2022-03-31T11:30:11.407602Z"
    }
   },
   "outputs": [],
   "source": [
    "#- Identity array shape 6, 6\n",
    "my_eye = np.eye(6)\n",
    "# Show the result\n",
    "my_eye"
   ]
  },
  {
   "cell_type": "code",
   "execution_count": 15,
   "id": "be2ed58e",
   "metadata": {
    "execution": {
     "iopub.execute_input": "2022-03-31T11:30:11.411508Z",
     "iopub.status.busy": "2022-03-31T11:30:11.410820Z",
     "iopub.status.idle": "2022-03-31T11:30:11.431138Z",
     "shell.execute_reply": "2022-03-31T11:30:11.429074Z"
    }
   },
   "outputs": [],
   "source": [
    "_ = ok.grade('q_my_eye')"
   ]
  },
  {
   "cell_type": "markdown",
   "id": "48facacf",
   "metadata": {},
   "source": [
    "Make this array with a single Python / numpy command:\n",
    "\n",
    "```\n",
    "1  0  0\n",
    "0  2  0\n",
    "0  0  3\n",
    "```\n",
    "\n",
    "Hint: what type of array is this?"
   ]
  },
  {
   "cell_type": "code",
   "execution_count": 16,
   "id": "3d9b00aa",
   "metadata": {
    "execution": {
     "iopub.execute_input": "2022-03-31T11:30:11.435639Z",
     "iopub.status.busy": "2022-03-31T11:30:11.434844Z",
     "iopub.status.idle": "2022-03-31T11:30:11.437551Z",
     "shell.execute_reply": "2022-03-31T11:30:11.437972Z"
    }
   },
   "outputs": [],
   "source": [
    "#- Array with top left value == 1 etc\n",
    "one_two_three = np.diag([1, 2, 3])\n",
    "# Show the result\n",
    "one_two_three"
   ]
  },
  {
   "cell_type": "code",
   "execution_count": 17,
   "id": "81f12196",
   "metadata": {
    "execution": {
     "iopub.execute_input": "2022-03-31T11:30:11.441649Z",
     "iopub.status.busy": "2022-03-31T11:30:11.440925Z",
     "iopub.status.idle": "2022-03-31T11:30:11.464131Z",
     "shell.execute_reply": "2022-03-31T11:30:11.462642Z"
    }
   },
   "outputs": [],
   "source": [
    "_ = ok.grade('q_one_two_three')"
   ]
  },
  {
   "cell_type": "markdown",
   "id": "a321d82c",
   "metadata": {},
   "source": [
    "Here is a Numpy random number generator object:"
   ]
  },
  {
   "cell_type": "code",
   "execution_count": 18,
   "id": "8a8425e1",
   "metadata": {
    "execution": {
     "iopub.execute_input": "2022-03-31T11:30:11.470427Z",
     "iopub.status.busy": "2022-03-31T11:30:11.469708Z",
     "iopub.status.idle": "2022-03-31T11:30:11.472575Z",
     "shell.execute_reply": "2022-03-31T11:30:11.473017Z"
    }
   },
   "outputs": [],
   "source": [
    "rng = np.random.default_rng()\n",
    "rng"
   ]
  },
  {
   "cell_type": "markdown",
   "id": "b22d72d9",
   "metadata": {},
   "source": [
    "Look at the docstring for `rng.standard_normal`.  Here's a cell that you can\n",
    "use to do that.  In particular, check out the examples.  "
   ]
  },
  {
   "cell_type": "code",
   "execution_count": 19,
   "id": "38d3d29b",
   "metadata": {
    "execution": {
     "iopub.execute_input": "2022-03-31T11:30:11.477794Z",
     "iopub.status.busy": "2022-03-31T11:30:11.476952Z",
     "iopub.status.idle": "2022-03-31T11:30:11.479759Z",
     "shell.execute_reply": "2022-03-31T11:30:11.480329Z"
    }
   },
   "outputs": [],
   "source": [
    "# Use this cell with Jupyter's ? help system to check the docstring."
   ]
  },
  {
   "cell_type": "markdown",
   "id": "a6a9fdf7",
   "metadata": {},
   "source": [
    "Make a shape (3, 5) array with random numbers from a standard normal\n",
    "distribution (a normal distribution with mean 0 and variance 1)."
   ]
  },
  {
   "cell_type": "code",
   "execution_count": 20,
   "id": "c5f5cf8c",
   "metadata": {
    "execution": {
     "iopub.execute_input": "2022-03-31T11:30:11.485268Z",
     "iopub.status.busy": "2022-03-31T11:30:11.484588Z",
     "iopub.status.idle": "2022-03-31T11:30:11.488894Z",
     "shell.execute_reply": "2022-03-31T11:30:11.489299Z"
    }
   },
   "outputs": [],
   "source": [
    "#- Array of random numbers shape 3, 5\n",
    "rand_arr = rng.standard_normal(size=(3, 5))\n",
    "# Show the result\n",
    "rand_arr"
   ]
  },
  {
   "cell_type": "code",
   "execution_count": 21,
   "id": "4d03d5a9",
   "metadata": {
    "execution": {
     "iopub.execute_input": "2022-03-31T11:30:11.493450Z",
     "iopub.status.busy": "2022-03-31T11:30:11.492777Z",
     "iopub.status.idle": "2022-03-31T11:30:11.516568Z",
     "shell.execute_reply": "2022-03-31T11:30:11.514894Z"
    }
   },
   "outputs": [],
   "source": [
    "_ = ok.grade('q_rand_arr')"
   ]
  },
  {
   "cell_type": "markdown",
   "id": "91cfd420",
   "metadata": {},
   "source": [
    "## Simple visualizations\n",
    "\n",
    "\n",
    "Make an array `x` with 100 evenly spaced values between 0 and 2 \\* pi;"
   ]
  },
  {
   "cell_type": "code",
   "execution_count": 22,
   "id": "c8230968",
   "metadata": {
    "execution": {
     "iopub.execute_input": "2022-03-31T11:30:11.524891Z",
     "iopub.status.busy": "2022-03-31T11:30:11.524041Z",
     "iopub.status.idle": "2022-03-31T11:30:11.529718Z",
     "shell.execute_reply": "2022-03-31T11:30:11.530351Z"
    }
   },
   "outputs": [],
   "source": [
    "#- x is an array with 100 evenly spaced numbers 0 - 2 pi\n",
    "x = np.linspace(0, 2 * np.pi, 100)\n",
    "# Show the result\n",
    "x"
   ]
  },
  {
   "cell_type": "code",
   "execution_count": 23,
   "id": "d38b5d57",
   "metadata": {
    "execution": {
     "iopub.execute_input": "2022-03-31T11:30:11.535250Z",
     "iopub.status.busy": "2022-03-31T11:30:11.534277Z",
     "iopub.status.idle": "2022-03-31T11:30:11.556677Z",
     "shell.execute_reply": "2022-03-31T11:30:11.555927Z"
    }
   },
   "outputs": [],
   "source": [
    "_ = ok.grade('q_x')"
   ]
  },
  {
   "cell_type": "markdown",
   "id": "84bf7a92",
   "metadata": {},
   "source": [
    "Make an array `y` which contains the cosine of the corresponding value in `x`\n",
    "— so `y[i] = cos(x[i])` (hint: `np.lookfor('cosine')`)."
   ]
  },
  {
   "cell_type": "code",
   "execution_count": 24,
   "id": "c4d896f0",
   "metadata": {
    "execution": {
     "iopub.execute_input": "2022-03-31T11:30:11.562733Z",
     "iopub.status.busy": "2022-03-31T11:30:11.561965Z",
     "iopub.status.idle": "2022-03-31T11:30:11.565481Z",
     "shell.execute_reply": "2022-03-31T11:30:11.565951Z"
    }
   },
   "outputs": [],
   "source": [
    "#- y has cosines of values in x\n",
    "y = np.cos(x)\n",
    "# Show the result\n",
    "y"
   ]
  },
  {
   "cell_type": "code",
   "execution_count": 25,
   "id": "f1f032a7",
   "metadata": {
    "execution": {
     "iopub.execute_input": "2022-03-31T11:30:11.570059Z",
     "iopub.status.busy": "2022-03-31T11:30:11.569316Z",
     "iopub.status.idle": "2022-03-31T11:30:11.589604Z",
     "shell.execute_reply": "2022-03-31T11:30:11.588257Z"
    }
   },
   "outputs": [],
   "source": [
    "_ = ok.grade('q_y')"
   ]
  },
  {
   "cell_type": "markdown",
   "id": "6a6a9067",
   "metadata": {},
   "source": [
    "Plot `x` against `y`;"
   ]
  },
  {
   "cell_type": "code",
   "execution_count": 26,
   "id": "dfef9204",
   "metadata": {
    "execution": {
     "iopub.execute_input": "2022-03-31T11:30:11.594048Z",
     "iopub.status.busy": "2022-03-31T11:30:11.593149Z",
     "iopub.status.idle": "2022-03-31T11:30:12.025736Z",
     "shell.execute_reply": "2022-03-31T11:30:12.026154Z"
    }
   },
   "outputs": [],
   "source": [
    "#- plot x against y\n",
    "# Import the plotting library in the standard way.\n",
    "import matplotlib.pyplot as plt\n",
    "plt.plot(x, y)"
   ]
  },
  {
   "cell_type": "markdown",
   "id": "4f9b061a",
   "metadata": {},
   "source": [
    "Make a 10 by 20 array of mean 0 variance 1 normal random numbers;"
   ]
  },
  {
   "cell_type": "code",
   "execution_count": 27,
   "id": "b7fd5cae",
   "metadata": {
    "execution": {
     "iopub.execute_input": "2022-03-31T11:30:12.031886Z",
     "iopub.status.busy": "2022-03-31T11:30:12.031218Z",
     "iopub.status.idle": "2022-03-31T11:30:12.034039Z",
     "shell.execute_reply": "2022-03-31T11:30:12.034588Z"
    }
   },
   "outputs": [],
   "source": [
    "#- Shape 10, 20 array of random numbers\n",
    "rand_arr_10_20 = rng.standard_normal(size=(10, 20))\n",
    "# Show the result\n",
    "rand_arr_10_20"
   ]
  },
  {
   "cell_type": "code",
   "execution_count": 28,
   "id": "77e202d6",
   "metadata": {
    "execution": {
     "iopub.execute_input": "2022-03-31T11:30:12.038235Z",
     "iopub.status.busy": "2022-03-31T11:30:12.037619Z",
     "iopub.status.idle": "2022-03-31T11:30:12.055599Z",
     "shell.execute_reply": "2022-03-31T11:30:12.054288Z"
    }
   },
   "outputs": [],
   "source": [
    "_ = ok.grade('q_rand_arr_10_20')"
   ]
  },
  {
   "cell_type": "markdown",
   "id": "028bdb49",
   "metadata": {},
   "source": [
    "Display this array as an image;"
   ]
  },
  {
   "cell_type": "code",
   "execution_count": 29,
   "id": "30619f50",
   "metadata": {
    "execution": {
     "iopub.execute_input": "2022-03-31T11:30:12.077226Z",
     "iopub.status.busy": "2022-03-31T11:30:12.076631Z",
     "iopub.status.idle": "2022-03-31T11:30:12.168736Z",
     "shell.execute_reply": "2022-03-31T11:30:12.169151Z"
    }
   },
   "outputs": [],
   "source": [
    "#- Display as image\n",
    "plt.imshow(rand_arr_10_20)"
   ]
  },
  {
   "cell_type": "markdown",
   "id": "bae33539",
   "metadata": {},
   "source": [
    "Investigate `plt.cm` and `plt.plot`.  See if you can work out how to make the\n",
    "displayed image be grayscale instead of color."
   ]
  },
  {
   "cell_type": "code",
   "execution_count": 30,
   "id": "de1dd8fd",
   "metadata": {
    "execution": {
     "iopub.execute_input": "2022-03-31T11:30:12.189291Z",
     "iopub.status.busy": "2022-03-31T11:30:12.188624Z",
     "iopub.status.idle": "2022-03-31T11:30:12.282901Z",
     "shell.execute_reply": "2022-03-31T11:30:12.283323Z"
    }
   },
   "outputs": [],
   "source": [
    "#- Grayscale image of array\n",
    "plt.imshow(rand_arr, cmap=plt.cm.gray)"
   ]
  },
  {
   "cell_type": "markdown",
   "id": "c337a3aa",
   "metadata": {},
   "source": [
    "## Indexing and slicing, array creation\n",
    "\n",
    "See discussion at Index ordering and reshape in NumPy and MATLAB.\n",
    "\n",
    "\n",
    "Create the following array, call this `a` (you did this before):\n",
    "\n",
    "```\n",
    "2  7 12  0\n",
    "3  9  3  4\n",
    "4  0  1  3\n",
    "```"
   ]
  },
  {
   "cell_type": "code",
   "execution_count": 31,
   "id": "7e9994af",
   "metadata": {
    "execution": {
     "iopub.execute_input": "2022-03-31T11:30:12.288751Z",
     "iopub.status.busy": "2022-03-31T11:30:12.288020Z",
     "iopub.status.idle": "2022-03-31T11:30:12.290861Z",
     "shell.execute_reply": "2022-03-31T11:30:12.291374Z"
    }
   },
   "outputs": [],
   "source": [
    "#- Create array \"a\"\n",
    "a = np.array([[2, 7, 12, 0], [3, 9, 3, 4], [4, 0, 1,  3]])\n",
    "# Show the result.\n",
    "a"
   ]
  },
  {
   "cell_type": "code",
   "execution_count": 32,
   "id": "f51aade2",
   "metadata": {
    "execution": {
     "iopub.execute_input": "2022-03-31T11:30:12.295050Z",
     "iopub.status.busy": "2022-03-31T11:30:12.294397Z",
     "iopub.status.idle": "2022-03-31T11:30:12.311636Z",
     "shell.execute_reply": "2022-03-31T11:30:12.310423Z"
    }
   },
   "outputs": [],
   "source": [
    "_ = ok.grade('q_a')"
   ]
  },
  {
   "cell_type": "markdown",
   "id": "0ecd79eb",
   "metadata": {},
   "source": [
    "Get the 2nd row of `a`.  It should be equal to `[ 3 9 3 4]`."
   ]
  },
  {
   "cell_type": "code",
   "execution_count": 33,
   "id": "bfe7fe0c",
   "metadata": {
    "execution": {
     "iopub.execute_input": "2022-03-31T11:30:12.316364Z",
     "iopub.status.busy": "2022-03-31T11:30:12.315592Z",
     "iopub.status.idle": "2022-03-31T11:30:12.319183Z",
     "shell.execute_reply": "2022-03-31T11:30:12.319792Z"
    }
   },
   "outputs": [],
   "source": [
    "#- 2nd row of a\n",
    "second_row = a[1]\n",
    "# Show the result\n",
    "second_row"
   ]
  },
  {
   "cell_type": "code",
   "execution_count": 34,
   "id": "72c7589f",
   "metadata": {
    "execution": {
     "iopub.execute_input": "2022-03-31T11:30:12.331601Z",
     "iopub.status.busy": "2022-03-31T11:30:12.329639Z",
     "iopub.status.idle": "2022-03-31T11:30:12.365629Z",
     "shell.execute_reply": "2022-03-31T11:30:12.366133Z"
    }
   },
   "outputs": [],
   "source": [
    "_ = ok.grade('q_second_row')"
   ]
  },
  {
   "cell_type": "markdown",
   "id": "d8b37d9e",
   "metadata": {},
   "source": [
    "Get the 3rd column of `a` (`[12 3 1]`);"
   ]
  },
  {
   "cell_type": "code",
   "execution_count": 35,
   "id": "12c28b77",
   "metadata": {
    "execution": {
     "iopub.execute_input": "2022-03-31T11:30:12.371090Z",
     "iopub.status.busy": "2022-03-31T11:30:12.370327Z",
     "iopub.status.idle": "2022-03-31T11:30:12.373473Z",
     "shell.execute_reply": "2022-03-31T11:30:12.373993Z"
    }
   },
   "outputs": [],
   "source": [
    "#- 3rd column of a\n",
    "third_column = a[:, 2]\n",
    "# Show the result\n",
    "third_column"
   ]
  },
  {
   "cell_type": "code",
   "execution_count": 36,
   "id": "b119a95e",
   "metadata": {
    "execution": {
     "iopub.execute_input": "2022-03-31T11:30:12.378058Z",
     "iopub.status.busy": "2022-03-31T11:30:12.377315Z",
     "iopub.status.idle": "2022-03-31T11:30:12.396705Z",
     "shell.execute_reply": "2022-03-31T11:30:12.395394Z"
    }
   },
   "outputs": [],
   "source": [
    "_ = ok.grade('q_third_column')"
   ]
  },
  {
   "cell_type": "markdown",
   "id": "d6339de2",
   "metadata": {},
   "source": [
    "Create the following array, and call it `six_two`.  Notice that the array values do not have decimal points - they are integers (counting numbers).  Create this array to make sure you have integers and not floating point values.\n",
    "\n",
    "```\n",
    "[[1, 1, 1, 1],\n",
    "[1, 1, 1, 1],\n",
    "[1, 1, 1, 2],\n",
    "[1, 6, 1, 1]]\n",
    "```\n",
    "\n",
    "Please don't type in the values, but work out how to construct the array by\n",
    "making a good starting point, and assigning to the elements that aren't yet\n",
    "correct.\n",
    "\n",
    "Par for this course: 3 statements.\n",
    "\n",
    "*Hint*: Individual array elements can be accessed similarly to a list, e.g.\n",
    "`a[1]` or `a[1, 2]`."
   ]
  },
  {
   "cell_type": "code",
   "execution_count": 37,
   "id": "b95e8eb8",
   "metadata": {
    "execution": {
     "iopub.execute_input": "2022-03-31T11:30:12.401815Z",
     "iopub.status.busy": "2022-03-31T11:30:12.401075Z",
     "iopub.status.idle": "2022-03-31T11:30:12.403668Z",
     "shell.execute_reply": "2022-03-31T11:30:12.404165Z"
    }
   },
   "outputs": [],
   "source": [
    "#- Build given arrays\n",
    "six_two = np.ones((4, 4), dtype=np.int64)  # Would be float by default\n",
    "six_two[3, 1] = 6\n",
    "six_two[2, 3] = 2\n",
    "# Show the result\n",
    "six_two"
   ]
  },
  {
   "cell_type": "code",
   "execution_count": 38,
   "id": "f89a6976",
   "metadata": {
    "execution": {
     "iopub.execute_input": "2022-03-31T11:30:12.407547Z",
     "iopub.status.busy": "2022-03-31T11:30:12.406901Z",
     "iopub.status.idle": "2022-03-31T11:30:12.425298Z",
     "shell.execute_reply": "2022-03-31T11:30:12.424132Z"
    }
   },
   "outputs": [],
   "source": [
    "_ = ok.grade('q_six_two')"
   ]
  },
  {
   "cell_type": "markdown",
   "id": "2ea74626",
   "metadata": {},
   "source": [
    "Now create this array, and call it `off_stripe`.  Notice these are floating\n",
    "point values.  Again, don't create the array by typing in the values, but work\n",
    "out how to create this array with the Numpy function(s).\n",
    "\n",
    "```\n",
    "[[0., 0., 0., 0., 0., 0.],\n",
    "[2., 0., 0., 0., 0., 0.],\n",
    "[0., 3., 0., 0., 0., 0.],\n",
    "[0., 0., 4., 0., 0., 0.],\n",
    "[0., 0., 0., 5., 0., 0.],\n",
    "[0., 0., 0., 0., 6., 0.]]\n",
    "```\n",
    "\n",
    "Par is one statement!\n",
    "\n",
    "*Hint*: Examine the docstring for `np.diag`."
   ]
  },
  {
   "cell_type": "code",
   "execution_count": 39,
   "id": "6a8a00e7",
   "metadata": {
    "execution": {
     "iopub.execute_input": "2022-03-31T11:30:12.430303Z",
     "iopub.status.busy": "2022-03-31T11:30:12.429582Z",
     "iopub.status.idle": "2022-03-31T11:30:12.432467Z",
     "shell.execute_reply": "2022-03-31T11:30:12.432885Z"
    }
   },
   "outputs": [],
   "source": [
    "# Need a float input to diag for float output\n",
    "off_stripe = np.diag([2., 3., 4, 5, 6], -1)\n",
    "# Show the result\n",
    "off_stripe"
   ]
  },
  {
   "cell_type": "code",
   "execution_count": 40,
   "id": "cab8c4d4",
   "metadata": {
    "execution": {
     "iopub.execute_input": "2022-03-31T11:30:12.436616Z",
     "iopub.status.busy": "2022-03-31T11:30:12.435860Z",
     "iopub.status.idle": "2022-03-31T11:30:12.453660Z",
     "shell.execute_reply": "2022-03-31T11:30:12.452408Z"
    }
   },
   "outputs": [],
   "source": [
    "_ = ok.grade('q_off_stripe')"
   ]
  },
  {
   "cell_type": "markdown",
   "id": "631593f8",
   "metadata": {},
   "source": [
    "Skim through the documentation for `np.tile`, and use this function to\n",
    "construct the array:\n",
    "\n",
    "```\n",
    "[[4, 3, 4, 3, 4, 3],\n",
    "[2, 1, 2, 1, 2, 1],\n",
    "[4, 3, 4, 3, 4, 3],\n",
    "[2, 1, 2, 1, 2, 1]]\n",
    "```\n",
    "\n",
    "Call the array `my_tiled`."
   ]
  },
  {
   "cell_type": "code",
   "execution_count": 41,
   "id": "6646a5c7",
   "metadata": {
    "execution": {
     "iopub.execute_input": "2022-03-31T11:30:12.458229Z",
     "iopub.status.busy": "2022-03-31T11:30:12.457581Z",
     "iopub.status.idle": "2022-03-31T11:30:12.460013Z",
     "shell.execute_reply": "2022-03-31T11:30:12.460433Z"
    }
   },
   "outputs": [],
   "source": [
    "#- Use np.tile to construct array\n",
    "my_tiled = np.tile([[4, 3], [2, 1]], (2, 3))\n",
    "# Show the result\n",
    "my_tiled"
   ]
  },
  {
   "cell_type": "code",
   "execution_count": 42,
   "id": "144845eb",
   "metadata": {
    "execution": {
     "iopub.execute_input": "2022-03-31T11:30:12.463948Z",
     "iopub.status.busy": "2022-03-31T11:30:12.463260Z",
     "iopub.status.idle": "2022-03-31T11:30:12.479952Z",
     "shell.execute_reply": "2022-03-31T11:30:12.478735Z"
    }
   },
   "outputs": [],
   "source": [
    "_ = ok.grade('q_my_tiled')"
   ]
  },
  {
   "cell_type": "markdown",
   "id": "09f2811b",
   "metadata": {},
   "source": [
    "## Fancy indexing using Boolean arrays\n",
    "\n",
    "\n",
    "Here we create the following array `a` (same as before):\n",
    "\n",
    "```\n",
    "2  7 12  0\n",
    "3  9  3  4\n",
    "4  0  1  3\n",
    "```"
   ]
  },
  {
   "cell_type": "code",
   "execution_count": 43,
   "id": "2405d497",
   "metadata": {
    "execution": {
     "iopub.execute_input": "2022-03-31T11:30:12.483772Z",
     "iopub.status.busy": "2022-03-31T11:30:12.483188Z",
     "iopub.status.idle": "2022-03-31T11:30:12.485183Z",
     "shell.execute_reply": "2022-03-31T11:30:12.485610Z"
    }
   },
   "outputs": [],
   "source": [
    "# Create array a\n",
    "# Recreate it here, just in case.\n",
    "a = np.array([[2, 7, 12, 0], [3, 9, 3, 4], [4, 0, 1, 3]])"
   ]
  },
  {
   "cell_type": "markdown",
   "id": "9fb2b76a",
   "metadata": {},
   "source": [
    "Use `>` to make a mask that is true where the elements are greater than\n",
    "5, like this:\n",
    "\n",
    "```\n",
    "False True  True  False\n",
    "False True  False False\n",
    "False False False False\n",
    "```\n",
    "\n",
    "Call this array `my_mask`."
   ]
  },
  {
   "cell_type": "code",
   "execution_count": 44,
   "id": "6491dfb8",
   "metadata": {
    "execution": {
     "iopub.execute_input": "2022-03-31T11:30:12.490061Z",
     "iopub.status.busy": "2022-03-31T11:30:12.489452Z",
     "iopub.status.idle": "2022-03-31T11:30:12.491922Z",
     "shell.execute_reply": "2022-03-31T11:30:12.492331Z"
    }
   },
   "outputs": [],
   "source": [
    "#- Make mask for values greater than 5\n",
    "my_mask = a > 5\n",
    "# Show the result\n",
    "my_mask"
   ]
  },
  {
   "cell_type": "code",
   "execution_count": 45,
   "id": "b4208f27",
   "metadata": {
    "execution": {
     "iopub.execute_input": "2022-03-31T11:30:12.495706Z",
     "iopub.status.busy": "2022-03-31T11:30:12.495046Z",
     "iopub.status.idle": "2022-03-31T11:30:12.515387Z",
     "shell.execute_reply": "2022-03-31T11:30:12.514046Z"
    },
    "lines_to_next_cell": 2
   },
   "outputs": [],
   "source": [
    "_ = ok.grade('q_my_mask')"
   ]
  },
  {
   "cell_type": "markdown",
   "id": "950bf3a3",
   "metadata": {},
   "source": [
    "Put all the elements in `a` that are greater than 5 into a new array `gt_5`."
   ]
  },
  {
   "cell_type": "code",
   "execution_count": 46,
   "id": "02128e98",
   "metadata": {
    "execution": {
     "iopub.execute_input": "2022-03-31T11:30:12.519677Z",
     "iopub.status.busy": "2022-03-31T11:30:12.518913Z",
     "iopub.status.idle": "2022-03-31T11:30:12.522005Z",
     "shell.execute_reply": "2022-03-31T11:30:12.522544Z"
    }
   },
   "outputs": [],
   "source": [
    "#- Return all values in a that are greater than 5\n",
    "gt_5 = a[my_mask]\n",
    "# Show the result\n",
    "gt_5"
   ]
  },
  {
   "cell_type": "code",
   "execution_count": 47,
   "id": "ed13be0d",
   "metadata": {
    "execution": {
     "iopub.execute_input": "2022-03-31T11:30:12.527036Z",
     "iopub.status.busy": "2022-03-31T11:30:12.526349Z",
     "iopub.status.idle": "2022-03-31T11:30:12.543377Z",
     "shell.execute_reply": "2022-03-31T11:30:12.542179Z"
    }
   },
   "outputs": [],
   "source": [
    "_ = ok.grade('q_gt_5')"
   ]
  },
  {
   "cell_type": "markdown",
   "id": "b6ed4da3",
   "metadata": {},
   "source": [
    "Set all the elements greater than 5 to be equal to 5, to get this:\n",
    "\n",
    "```\n",
    "2  5  5  0\n",
    "3  5  3  4\n",
    "4  0  1  3\n",
    "```\n",
    "\n",
    "Call this array `b`.  Start with `b` as a new copy of `a`."
   ]
  },
  {
   "cell_type": "code",
   "execution_count": 48,
   "id": "4a40a77c",
   "metadata": {
    "execution": {
     "iopub.execute_input": "2022-03-31T11:30:12.547655Z",
     "iopub.status.busy": "2022-03-31T11:30:12.547024Z",
     "iopub.status.idle": "2022-03-31T11:30:12.549478Z",
     "shell.execute_reply": "2022-03-31T11:30:12.549953Z"
    }
   },
   "outputs": [],
   "source": [
    "#- Set all elements greater than 5 to equal 5\n",
    "# Copy the array `a` in order not to write over it.\n",
    "b = a.copy()\n",
    "b[my_mask] = 5\n",
    "# Show the result\n",
    "b"
   ]
  },
  {
   "cell_type": "code",
   "execution_count": 49,
   "id": "33ea23c2",
   "metadata": {
    "execution": {
     "iopub.execute_input": "2022-03-31T11:30:12.553384Z",
     "iopub.status.busy": "2022-03-31T11:30:12.552691Z",
     "iopub.status.idle": "2022-03-31T11:30:12.571730Z",
     "shell.execute_reply": "2022-03-31T11:30:12.569783Z"
    },
    "lines_to_next_cell": 2
   },
   "outputs": [],
   "source": [
    "_ = ok.grade('q_b')"
   ]
  },
  {
   "cell_type": "markdown",
   "id": "0fa04f47",
   "metadata": {},
   "source": [
    "## Elementwise operations\n",
    "\n",
    "\n",
    "Remember our array `a`:\n",
    "\n",
    "```\n",
    "2  7 12  0\n",
    "3  9  3  4\n",
    "4  0  1  3\n",
    "```\n",
    "\n",
    "Use array slicing to get a new array composed of the even columns (0, 2) of\n",
    "`a`. Now get the array that contains the odd columns (1, 3) of `a`.  Add these\n",
    "two arrays."
   ]
  },
  {
   "cell_type": "code",
   "execution_count": 50,
   "id": "3f1a1b03",
   "metadata": {
    "execution": {
     "iopub.execute_input": "2022-03-31T11:30:12.576776Z",
     "iopub.status.busy": "2022-03-31T11:30:12.576154Z",
     "iopub.status.idle": "2022-03-31T11:30:12.578601Z",
     "shell.execute_reply": "2022-03-31T11:30:12.579061Z"
    }
   },
   "outputs": [],
   "source": [
    "#- Add even and odd columns of a\n",
    "a = np.array([[2, 7, 12, 0], [3, 9, 3, 4], [4, 0, 1,  3]])\n",
    "even_columns = a[:, ::2]\n",
    "odd_columns = a[:, 1::2]\n",
    "even_plus_odd = even_columns + odd_columns\n",
    "# Show the result\n",
    "even_plus_odd"
   ]
  },
  {
   "cell_type": "code",
   "execution_count": 51,
   "id": "b9edd8ad",
   "metadata": {
    "execution": {
     "iopub.execute_input": "2022-03-31T11:30:12.582402Z",
     "iopub.status.busy": "2022-03-31T11:30:12.581805Z",
     "iopub.status.idle": "2022-03-31T11:30:12.599938Z",
     "shell.execute_reply": "2022-03-31T11:30:12.598042Z"
    },
    "lines_to_next_cell": 2
   },
   "outputs": [],
   "source": [
    "_ = ok.grade('q_even_plus_odd')"
   ]
  },
  {
   "cell_type": "markdown",
   "id": "5c961e17",
   "metadata": {},
   "source": [
    "Generate the following array, call it `powers_of_two`:\n",
    "\n",
    "```\n",
    "[2**0, 2**1, 2**2, 2**3, 2**4]\n",
    "```"
   ]
  },
  {
   "cell_type": "code",
   "execution_count": 52,
   "id": "91f41a33",
   "metadata": {
    "execution": {
     "iopub.execute_input": "2022-03-31T11:30:12.604523Z",
     "iopub.status.busy": "2022-03-31T11:30:12.603839Z",
     "iopub.status.idle": "2022-03-31T11:30:12.606489Z",
     "shell.execute_reply": "2022-03-31T11:30:12.606906Z"
    }
   },
   "outputs": [],
   "source": [
    "#- Generate array of powers of 2\n",
    "powers_of_two = 2 ** np.arange(5)\n",
    "# Show the result\n",
    "powers_of_two"
   ]
  },
  {
   "cell_type": "code",
   "execution_count": 53,
   "id": "f507e694",
   "metadata": {
    "execution": {
     "iopub.execute_input": "2022-03-31T11:30:12.610378Z",
     "iopub.status.busy": "2022-03-31T11:30:12.609791Z",
     "iopub.status.idle": "2022-03-31T11:30:12.628344Z",
     "shell.execute_reply": "2022-03-31T11:30:12.627001Z"
    },
    "lines_to_next_cell": 2
   },
   "outputs": [],
   "source": [
    "_ = ok.grade('q_powers_of_two')"
   ]
  },
  {
   "cell_type": "markdown",
   "id": "72af6ed2",
   "metadata": {},
   "source": [
    "Generate an array length 10 such that this is true of the elements (where\n",
    "`my_values[i]` is the element of `my_values` at index `i`):\n",
    "\n",
    "```\n",
    "my_values[i] = 2 ** (3 * i) - i\n",
    "```"
   ]
  },
  {
   "cell_type": "code",
   "execution_count": 54,
   "id": "baaa467f",
   "metadata": {
    "execution": {
     "iopub.execute_input": "2022-03-31T11:30:12.632444Z",
     "iopub.status.busy": "2022-03-31T11:30:12.631860Z",
     "iopub.status.idle": "2022-03-31T11:30:12.634341Z",
     "shell.execute_reply": "2022-03-31T11:30:12.634750Z"
    }
   },
   "outputs": [],
   "source": [
    "#- Generate array\n",
    "inds = np.arange(10)\n",
    "my_values = 2 ** (3 * inds) - inds\n",
    "# Show the result\n",
    "my_values"
   ]
  },
  {
   "cell_type": "code",
   "execution_count": 55,
   "id": "93c9600a",
   "metadata": {
    "execution": {
     "iopub.execute_input": "2022-03-31T11:30:12.638203Z",
     "iopub.status.busy": "2022-03-31T11:30:12.637576Z",
     "iopub.status.idle": "2022-03-31T11:30:12.655929Z",
     "shell.execute_reply": "2022-03-31T11:30:12.654678Z"
    }
   },
   "outputs": [],
   "source": [
    "_ = ok.grade('q_my_values')"
   ]
  },
  {
   "cell_type": "markdown",
   "id": "0cfddf04",
   "metadata": {},
   "source": [
    "## Summary functions\n",
    "\n",
    "Remember our array `a`:\n",
    "\n",
    "```\n",
    "2  7 12  0\n",
    "3  9  3  4\n",
    "4  0  1  3\n",
    "```"
   ]
  },
  {
   "cell_type": "code",
   "execution_count": 56,
   "id": "3289e518",
   "metadata": {
    "execution": {
     "iopub.execute_input": "2022-03-31T11:30:12.660202Z",
     "iopub.status.busy": "2022-03-31T11:30:12.659464Z",
     "iopub.status.idle": "2022-03-31T11:30:12.661478Z",
     "shell.execute_reply": "2022-03-31T11:30:12.661893Z"
    }
   },
   "outputs": [],
   "source": [
    "# Run the cell to re-create the array\n",
    "a = np.array([[2, 7, 12, 0], [3, 9, 3, 4], [4, 0, 1,  3]])"
   ]
  },
  {
   "cell_type": "markdown",
   "id": "9854e275",
   "metadata": {},
   "source": [
    "Show the sum of all the values."
   ]
  },
  {
   "cell_type": "code",
   "execution_count": 57,
   "id": "0de43f1f",
   "metadata": {
    "execution": {
     "iopub.execute_input": "2022-03-31T11:30:12.665863Z",
     "iopub.status.busy": "2022-03-31T11:30:12.665225Z",
     "iopub.status.idle": "2022-03-31T11:30:12.667921Z",
     "shell.execute_reply": "2022-03-31T11:30:12.668499Z"
    }
   },
   "outputs": [],
   "source": [
    "#- Sum of values in a\n",
    "a_sum = np.sum(a)\n",
    "# Show the result\n",
    "a_sum"
   ]
  },
  {
   "cell_type": "code",
   "execution_count": 58,
   "id": "7c98e7c7",
   "metadata": {
    "execution": {
     "iopub.execute_input": "2022-03-31T11:30:12.672388Z",
     "iopub.status.busy": "2022-03-31T11:30:12.671768Z",
     "iopub.status.idle": "2022-03-31T11:30:12.688284Z",
     "shell.execute_reply": "2022-03-31T11:30:12.686944Z"
    },
    "lines_to_next_cell": 2
   },
   "outputs": [],
   "source": [
    "_ = ok.grade('q_a_sum')"
   ]
  },
  {
   "cell_type": "markdown",
   "id": "af658c2b",
   "metadata": {},
   "source": [
    "Show the sum of the columns."
   ]
  },
  {
   "cell_type": "code",
   "execution_count": 59,
   "id": "779a2d21",
   "metadata": {
    "execution": {
     "iopub.execute_input": "2022-03-31T11:30:12.692375Z",
     "iopub.status.busy": "2022-03-31T11:30:12.691787Z",
     "iopub.status.idle": "2022-03-31T11:30:12.694175Z",
     "shell.execute_reply": "2022-03-31T11:30:12.694676Z"
    }
   },
   "outputs": [],
   "source": [
    "#- Sum of the values of the columns in a.\n",
    "#- There are four columns, so there will be four values.\n",
    "# Sum over the first axis, leaving the second.\n",
    "col_sum = np.sum(a, axis=0)\n",
    "# Show the result\n",
    "col_sum"
   ]
  },
  {
   "cell_type": "code",
   "execution_count": 60,
   "id": "229f4306",
   "metadata": {
    "execution": {
     "iopub.execute_input": "2022-03-31T11:30:12.698204Z",
     "iopub.status.busy": "2022-03-31T11:30:12.697578Z",
     "iopub.status.idle": "2022-03-31T11:30:12.716246Z",
     "shell.execute_reply": "2022-03-31T11:30:12.715085Z"
    }
   },
   "outputs": [],
   "source": [
    "_ = ok.grade('q_col_sum')"
   ]
  },
  {
   "cell_type": "markdown",
   "id": "057dc7e4",
   "metadata": {},
   "source": [
    "Show the sum of the rows."
   ]
  },
  {
   "cell_type": "code",
   "execution_count": 61,
   "id": "4a8f3917",
   "metadata": {
    "execution": {
     "iopub.execute_input": "2022-03-31T11:30:12.721127Z",
     "iopub.status.busy": "2022-03-31T11:30:12.720110Z",
     "iopub.status.idle": "2022-03-31T11:30:12.724258Z",
     "shell.execute_reply": "2022-03-31T11:30:12.724753Z"
    }
   },
   "outputs": [],
   "source": [
    "#- Sum of the values of the rows in a\n",
    "# Sum over the second axis, leaving the first.\n",
    "row_sum = np.sum(a, axis=1)\n",
    "# Show the result\n",
    "row_sum"
   ]
  },
  {
   "cell_type": "code",
   "execution_count": 62,
   "id": "f004aae8",
   "metadata": {
    "execution": {
     "iopub.execute_input": "2022-03-31T11:30:12.729027Z",
     "iopub.status.busy": "2022-03-31T11:30:12.728252Z",
     "iopub.status.idle": "2022-03-31T11:30:12.751458Z",
     "shell.execute_reply": "2022-03-31T11:30:12.750122Z"
    }
   },
   "outputs": [],
   "source": [
    "_ = ok.grade('q_row_sum')"
   ]
  },
  {
   "cell_type": "markdown",
   "id": "5569a486",
   "metadata": {},
   "source": [
    "Show the mean of all the values in `a`."
   ]
  },
  {
   "cell_type": "code",
   "execution_count": 63,
   "id": "2a5b5532",
   "metadata": {
    "execution": {
     "iopub.execute_input": "2022-03-31T11:30:12.759222Z",
     "iopub.status.busy": "2022-03-31T11:30:12.758178Z",
     "iopub.status.idle": "2022-03-31T11:30:12.762628Z",
     "shell.execute_reply": "2022-03-31T11:30:12.763281Z"
    }
   },
   "outputs": [],
   "source": [
    "#- Mean of all the values in a\n",
    "a_mean = np.mean(a)\n",
    "# Show the result\n",
    "a_mean"
   ]
  },
  {
   "cell_type": "code",
   "execution_count": 64,
   "id": "7eaf1d6d",
   "metadata": {
    "execution": {
     "iopub.execute_input": "2022-03-31T11:30:12.770820Z",
     "iopub.status.busy": "2022-03-31T11:30:12.769717Z",
     "iopub.status.idle": "2022-03-31T11:30:12.794406Z",
     "shell.execute_reply": "2022-03-31T11:30:12.793123Z"
    },
    "lines_to_next_cell": 2
   },
   "outputs": [],
   "source": [
    "_ = ok.grade('q_a_mean')"
   ]
  },
  {
   "cell_type": "markdown",
   "id": "ea01a833",
   "metadata": {},
   "source": [
    "Show the min of all the values."
   ]
  },
  {
   "cell_type": "code",
   "execution_count": 65,
   "id": "47456897",
   "metadata": {
    "execution": {
     "iopub.execute_input": "2022-03-31T11:30:12.799168Z",
     "iopub.status.busy": "2022-03-31T11:30:12.798483Z",
     "iopub.status.idle": "2022-03-31T11:30:12.801994Z",
     "shell.execute_reply": "2022-03-31T11:30:12.802597Z"
    }
   },
   "outputs": [],
   "source": [
    "#- Minimum of all the values in a\n",
    "a_min = np.min(a)\n",
    "# Show the result\n",
    "a_min"
   ]
  },
  {
   "cell_type": "code",
   "execution_count": 66,
   "id": "c98964c0",
   "metadata": {
    "execution": {
     "iopub.execute_input": "2022-03-31T11:30:12.806542Z",
     "iopub.status.busy": "2022-03-31T11:30:12.805782Z",
     "iopub.status.idle": "2022-03-31T11:30:12.822954Z",
     "shell.execute_reply": "2022-03-31T11:30:12.821747Z"
    }
   },
   "outputs": [],
   "source": [
    "_ = ok.grade('q_a_min')"
   ]
  },
  {
   "cell_type": "markdown",
   "id": "24fbeb1e",
   "metadata": {},
   "source": [
    "The max?"
   ]
  },
  {
   "cell_type": "code",
   "execution_count": 67,
   "id": "fb3f3822",
   "metadata": {
    "execution": {
     "iopub.execute_input": "2022-03-31T11:30:12.827112Z",
     "iopub.status.busy": "2022-03-31T11:30:12.826455Z",
     "iopub.status.idle": "2022-03-31T11:30:12.828916Z",
     "shell.execute_reply": "2022-03-31T11:30:12.829395Z"
    }
   },
   "outputs": [],
   "source": [
    "#- Maximum of all the values in a\n",
    "a_max = np.max(a)\n",
    "# Show the result\n",
    "a_max"
   ]
  },
  {
   "cell_type": "code",
   "execution_count": 68,
   "id": "8dfe1e86",
   "metadata": {
    "execution": {
     "iopub.execute_input": "2022-03-31T11:30:12.832769Z",
     "iopub.status.busy": "2022-03-31T11:30:12.832147Z",
     "iopub.status.idle": "2022-03-31T11:30:12.848492Z",
     "shell.execute_reply": "2022-03-31T11:30:12.847252Z"
    }
   },
   "outputs": [],
   "source": [
    "_ = ok.grade('q_a_min')"
   ]
  },
  {
   "cell_type": "markdown",
   "id": "8a9d57dc",
   "metadata": {},
   "source": [
    "## Done.\n",
    "\n",
    "Congratulations, you're done with the assignment!  Be sure to:\n",
    "\n",
    "- **run all the tests** (the next cell has a shortcut for that).\n",
    "- **Save and Checkpoint** from the `File` menu."
   ]
  },
  {
   "cell_type": "code",
   "execution_count": 69,
   "id": "d68d5e8a",
   "metadata": {
    "execution": {
     "iopub.execute_input": "2022-03-31T11:30:12.852310Z",
     "iopub.status.busy": "2022-03-31T11:30:12.851731Z",
     "iopub.status.idle": "2022-03-31T11:30:13.309349Z",
     "shell.execute_reply": "2022-03-31T11:30:13.308148Z"
    }
   },
   "outputs": [],
   "source": [
    "# For your convenience, you can run this cell to run all the tests at once!\n",
    "import os\n",
    "_ = [ok.grade(q[:-3]) for q in os.listdir(\"tests\") if q.startswith('q')]"
   ]
  }
 ],
 "metadata": {
  "jupytext": {
   "notebook_metadata_filter": "all,-language_info",
   "split_at_heading": true,
   "text_representation": {
    "extension": ".Rmd",
    "format_name": "rmarkdown",
    "format_version": "1.1",
    "jupytext_version": "1.2.4"
   }
  },
  "kernelspec": {
   "display_name": "Python 3",
   "language": "python",
   "name": "python3"
  },
  "language_info": {
   "codemirror_mode": {
    "name": "ipython",
    "version": 3
   },
   "file_extension": ".py",
   "mimetype": "text/x-python",
   "name": "python",
   "nbconvert_exporter": "python",
   "pygments_lexer": "ipython3",
   "version": "3.8.13"
  }
 },
 "nbformat": 4,
 "nbformat_minor": 5
}
