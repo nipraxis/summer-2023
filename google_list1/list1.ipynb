{
 "cells": [
  {
   "cell_type": "markdown",
   "id": "ff08ae8e",
   "metadata": {},
   "source": [
    "# Basic list exercises\n",
    "\n",
    "Copyright 2010 Google Inc. Licensed under the Apache License, Version 2.0\n",
    "<http://www.apache.org/licenses/LICENSE-2.0>"
   ]
  },
  {
   "cell_type": "markdown",
   "id": "c890a437",
   "metadata": {},
   "source": [
    "Google's Python Class:\n",
    "<http://code.google.com/edu/languages/google-python-class/>\n"
   ]
  },
  {
   "cell_type": "markdown",
   "id": "04d7f13e",
   "metadata": {},
   "source": [
    "## Introduction"
   ]
  },
  {
   "cell_type": "markdown",
   "id": "5b62d300",
   "metadata": {},
   "source": [
    "You might want to read the [Google course chapter on\n",
    "lists](https://developers.google.com/edu/python/lists) and on\n",
    "[sorting](https://developers.google.com/edu/python/sorting).\n",
    "\n",
    "Fill in the code for the functions below.\n",
    "\n",
    "When you have filled in the code for the function, run the tests for the function in the cell below the function.\n",
    "\n",
    "The tests call the function with a few different inputs.  If the function is not correct, they will give an `AssertionError`.  If the function appears to be correct, the test cell will run without error.\n",
    "\n",
    "The starter code for each function includes a `return ...` which is just a\n",
    "placeholder for your code.\n",
    "\n",
    "It's OK if you do not complete all the functions, and there are some\n",
    "additional functions to try in the `google_list2` exercise.\n"
   ]
  },
  {
   "cell_type": "markdown",
   "id": "ac12da31",
   "metadata": {},
   "source": [
    "## match_ends"
   ]
  },
  {
   "cell_type": "markdown",
   "id": "b1f4c41b",
   "metadata": {},
   "source": [
    "Given a list of strings, return the count of the number of strings where the\n",
    "string length is 2 or more and the first and last chars of the string are the\n",
    "same."
   ]
  },
  {
   "cell_type": "code",
   "execution_count": null,
   "id": "31add8e7",
   "metadata": {},
   "outputs": [],
   "source": [
    "def match_ends(words):\n",
    "    count = 0\n",
    "    for word in words:\n",
    "            # Do something\n",
    "    return ..."
   ]
  },
  {
   "cell_type": "code",
   "execution_count": null,
   "id": "8dcc49c4",
   "metadata": {},
   "outputs": [],
   "source": [
    "# Run this cell to test your function\n",
    "assert match_ends(['aba', 'xyz', 'aa', 'x', 'bbb']) == 3\n",
    "assert match_ends(['', 'x', 'xy', 'xyx', 'xx']) == 2\n",
    "assert match_ends(['aaa', 'be', 'abc', 'hello']) == 1"
   ]
  },
  {
   "cell_type": "markdown",
   "id": "c3633443",
   "metadata": {},
   "source": [
    "## front_x"
   ]
  },
  {
   "cell_type": "markdown",
   "id": "c280423f",
   "metadata": {},
   "source": [
    "Given a list of strings, return a list with the strings in sorted order, except\n",
    "group all the strings that begin with 'x' first. For example `['mix', 'xyz',\n",
    "'apple', 'xanadu', 'aardvark']` yields `['xanadu', 'xyz', 'aardvark', 'apple',\n",
    "'mix']`.\n",
    "\n",
    "**Hint**: this can be done by making 2 lists and sorting each of them\n",
    "before combining them."
   ]
  },
  {
   "cell_type": "code",
   "execution_count": null,
   "id": "5af27b65",
   "metadata": {},
   "outputs": [],
   "source": [
    "def front_x(words):\n",
    "    x_list = []\n",
    "    other_list = []\n",
    "    # Put each word into the x_list or the other_list.\n",
    "    ...\n",
    "    return ..."
   ]
  },
  {
   "cell_type": "code",
   "execution_count": null,
   "id": "606d96cc",
   "metadata": {},
   "outputs": [],
   "source": [
    "# Run this cell to test your function\n",
    "# The \\ at the end of the next line tells Python that the code statement\n",
    "# continues over to the next line.\n",
    "assert front_x(['bbb', 'ccc', 'axx', 'xzz', 'xaa']) == \\\n",
    "     ['xaa', 'xzz', 'axx', 'bbb', 'ccc']\n",
    "assert front_x(['ccc', 'bbb', 'aaa', 'xcc', 'xaa']) == \\\n",
    "     ['xaa', 'xcc', 'aaa', 'bbb', 'ccc']\n",
    "assert front_x(['mix', 'xyz', 'apple', 'xanadu', 'aardvark']) == \\\n",
    "     ['xanadu', 'xyz', 'aardvark', 'apple', 'mix']"
   ]
  },
  {
   "cell_type": "markdown",
   "id": "a0b17a26",
   "metadata": {},
   "source": [
    "## sort_last"
   ]
  },
  {
   "cell_type": "markdown",
   "id": "6598adb2",
   "metadata": {},
   "source": [
    "Given a list of non-empty tuples, return a list sorted in increasing\n",
    "order by the last element in each tuple.\n",
    "\n",
    "For example `[(1, 7), (1, 3), (3, 4, 5), (2, 2)]` yields `[(2, 2), (1, 3), (3,\n",
    "4, 5), (1, 7)]`\n",
    "\n",
    "**Hint**: use a custom `key=` function to extract the last element form each\n",
    "tuple."
   ]
  },
  {
   "cell_type": "code",
   "execution_count": null,
   "id": "95a9733b",
   "metadata": {},
   "outputs": [],
   "source": [
    "#- Consider defining your custom function here.\n",
    "...\n",
    "def sort_last(tuples):\n",
    "    #- +++your code here+++\n",
    "    return ..."
   ]
  },
  {
   "cell_type": "code",
   "execution_count": null,
   "id": "373b10d5",
   "metadata": {},
   "outputs": [],
   "source": [
    "# Run this cell to test your function\n",
    "assert sort_last([(1, 3), (3, 2), (2, 1)]) == \\\n",
    "     [(2, 1), (3, 2), (1, 3)]\n",
    "assert sort_last([(2, 3), (1, 2), (3, 1)]) == \\\n",
    "     [(3, 1), (1, 2), (2, 3)]\n",
    "assert sort_last([(1, 7), (1, 3), (3, 4, 5), (2, 2)]) == \\\n",
    "     [(2, 2), (1, 3), (3, 4, 5), (1, 7)]"
   ]
  },
  {
   "cell_type": "markdown",
   "id": "3ca4d9b1",
   "metadata": {},
   "source": [
    "## That's it!\n",
    "\n",
    "You've finished the exercise."
   ]
  }
 ],
 "metadata": {
  "jupytext": {
   "cell_metadata_filter": "-all",
   "notebook_metadata_filter": "all,-language_info",
   "split_at_heading": true,
   "text_representation": {
    "extension": ".Rmd",
    "format_name": "rmarkdown",
    "format_version": "1.2",
    "jupytext_version": "1.13.7"
   }
  },
  "kernelspec": {
   "display_name": "Python 3",
   "language": "python",
   "name": "python3"
  }
 },
 "nbformat": 4,
 "nbformat_minor": 5
}
