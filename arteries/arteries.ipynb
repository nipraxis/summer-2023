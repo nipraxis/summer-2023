{
 "cells": [
  {
   "cell_type": "markdown",
   "id": "d0dbc747",
   "metadata": {},
   "source": [
    "# Find the arteries"
   ]
  },
  {
   "cell_type": "code",
   "execution_count": null,
   "id": "2653c71d",
   "metadata": {},
   "outputs": [],
   "source": [
    "#: Our usual imports\n",
    "import numpy as np  # Python array library\n",
    "import matplotlib.pyplot as plt  # Python plotting library"
   ]
  },
  {
   "cell_type": "markdown",
   "id": "c2232627",
   "metadata": {},
   "source": [
    "The major arteries in a T1 MRI image often have high signal (white when\n",
    "displaying in gray-scale).\n",
    "\n",
    "Our task is to see if we can pick out the courses of the [vertebral, basilar](http://en.wikipedia.org/wiki/Vertebral_artery#mediaviewer/File:Vertebral_artery_3D_AP.jpg)\n",
    "and [carotid](http://en.wikipedia.org/wiki/Internal_carotid_artery#mediaviewer/File:Magnetic_resonance_angiogram_of_segments_of_the_internal_carotid_artery.jpg)\n",
    "arteries on this image.\n",
    "\n",
    "The image is `ds107_sub001_highres.nii`.\n",
    "\n",
    "Download this image as a file to the computer you're working on with:"
   ]
  },
  {
   "cell_type": "code",
   "execution_count": null,
   "id": "84e68662",
   "metadata": {},
   "outputs": [],
   "source": [
    "# Run this cell.\n",
    "import nipraxis\n",
    "structural_fname = nipraxis.fetch_file('ds107_sub001_highres.nii')\n",
    "structural_fname"
   ]
  },
  {
   "cell_type": "markdown",
   "id": "84475992",
   "metadata": {},
   "source": [
    "This time we are going to load the image using the `nibabel` library."
   ]
  },
  {
   "cell_type": "code",
   "execution_count": null,
   "id": "f2a3ec20",
   "metadata": {},
   "outputs": [],
   "source": [
    "#: Import nibabel\n",
    "import nibabel as nib"
   ]
  },
  {
   "cell_type": "markdown",
   "id": "86a759ea",
   "metadata": {},
   "source": [
    "Try loading the image using nibabel, to make an image object. Use tab\n",
    "completion on `nib.` to see if you can find the function you need.  Go back to\n",
    "have a look at [What is an\n",
    "image?](https://textbook.nipraxis.org/what_is_an_image) if you are stuck."
   ]
  },
  {
   "cell_type": "code",
   "execution_count": null,
   "id": "41f0210b",
   "metadata": {},
   "outputs": [],
   "source": [
    "#- Use nibabel to load the image ds107_sub001_highres.nii\n",
    "img = ...\n",
    "# The resulting image object.\n",
    "img"
   ]
  },
  {
   "cell_type": "markdown",
   "id": "3211001f",
   "metadata": {},
   "source": [
    "Now get the image array data from the nibabel image object.\n",
    "\n",
    "**Hint**: You will need to use a **method** of the image object.\n",
    "\n",
    "**Hint**: Don’t forget to use tab completion on the image object if you can’t\n",
    "remember or don’t know the methods of the object.\n",
    "\n",
    "**Hint**: The method you are looking for, gets floating point data from the\n",
    "image.  If this hint isn't immediately helpful, check the hint above."
   ]
  },
  {
   "cell_type": "code",
   "execution_count": null,
   "id": "b7f0cf94",
   "metadata": {},
   "outputs": [],
   "source": [
    "data = ...\n",
    "# Show the data shape\n",
    "data.shape"
   ]
  },
  {
   "cell_type": "code",
   "execution_count": null,
   "id": "ca4cbe19",
   "metadata": {},
   "outputs": [],
   "source": [
    "assert 'data' in dir()  # data variable exists.\n",
    "assert data is not ...  # data changed from default value.\n",
    "assert isinstance(data, np.ndarray)  # data is an array.\n",
    "assert data.shape == (256, 256, 192)  # It is the correct shape."
   ]
  },
  {
   "cell_type": "markdown",
   "id": "3266a180",
   "metadata": {},
   "source": [
    "Try plotting a few slices over the third dimension to see whether you can see\n",
    "the arteries. For example, if `data` is your image array data, then you might\n",
    "plot the *first* slice over the third dimension, with this code."
   ]
  },
  {
   "cell_type": "code",
   "execution_count": null,
   "id": "3bdee9a1",
   "metadata": {},
   "outputs": [],
   "source": [
    "# Plotting a slice over the third dimension.\n",
    "# Try changing the 0 here to some other slice number.\n",
    "plt.imshow(data[:, :, 0], cmap='gray')"
   ]
  },
  {
   "cell_type": "markdown",
   "id": "24810a32",
   "metadata": {},
   "source": [
    "Now try looking for a good threshold so that you pick up only the very high\n",
    "signal in the brain. A good place to start is to use `plt.hist` to get an idea\n",
    "of the spread of values within the volume and within the slice."
   ]
  },
  {
   "cell_type": "code",
   "execution_count": null,
   "id": "8e1bc631",
   "metadata": {},
   "outputs": [],
   "source": [
    "#- Here you might try plt.hist or something else to find a threshold"
   ]
  },
  {
   "cell_type": "markdown",
   "id": "b36cd9a5",
   "metadata": {},
   "source": [
    "Try making a binarized image with your threshold and displaying slices with\n",
    "that.\n",
    "\n",
    "The code below uses a *comparison* operator to generate a Boolean array from\n",
    "the floating point `data` array.  True in these arrays displays as white, and\n",
    "False as black.\n",
    "\n",
    "**For reflection**: With your threshold, what structures are you picking up?"
   ]
  },
  {
   "cell_type": "code",
   "execution_count": null,
   "id": "44bfa697",
   "metadata": {},
   "outputs": [],
   "source": [
    "#- Maybe display some slices from the data binarized with a threshold\n",
    "threshold = ...\n",
    "binarized_data = data > threshold\n",
    "plt.imshow(binarized_data[:, :, 30], cmap='gray')"
   ]
  },
  {
   "cell_type": "markdown",
   "id": "4702efc2",
   "metadata": {},
   "source": [
    "Now try taking a 3D subvolume out of the middle of the image.  Take the\n",
    "approximate middle in all three axes.  Use this to pick out a good subvolume\n",
    "of the image that still contains the big arteries.\n",
    "\n",
    "You can create a subvolume by slicing the original `data` array to select a subset of the original data.  For example, here we take a subvolume of the data that starts at the pixels at position 10, and then takes all pixels up to position -10 (10 *before* the end of the dimension).  It does this in all three dimensions.  This knocks off the first 10 and the last 10 pixels in each dimension."
   ]
  },
  {
   "cell_type": "code",
   "execution_count": null,
   "id": "f63402a8",
   "metadata": {},
   "outputs": [],
   "source": [
    "# Run this code.\n",
    "# A subvolume of the original data.\n",
    "# This shaves off 10 pixels from each side of the image.\n",
    "my_subvolume = data[10:-10, 10:-10, 10:-10]\n",
    "my_subvolume.shape"
   ]
  },
  {
   "cell_type": "markdown",
   "id": "9990cdd3",
   "metadata": {},
   "source": [
    "**Hint**: You will likely want to shave off more from the image, to make your\n",
    "subvolume containing the arteries.\n",
    "\n",
    "**Hint**: You may well want to shave off different amounts from different dimensions (axes) in the image.\n",
    "\n",
    "**Hint**: See [the solution](arteries_solution.ipynb) if you get stuck."
   ]
  },
  {
   "cell_type": "code",
   "execution_count": null,
   "id": "5551e0d8",
   "metadata": {},
   "outputs": [],
   "source": [
    "#- Create a smaller 3D subvolume from the image data that still\n",
    "#- contains the arteries. Replace the 10s, and -10s with better numbers.\n",
    "subvolume = data[10:-10, 10:-10, 10:-10]   # Change these."
   ]
  },
  {
   "cell_type": "markdown",
   "id": "05665a4d",
   "metadata": {},
   "source": [
    "Try binarizing the subvolume with some thresholds to see whether you can pick\n",
    "out the arteries without much other stuff.\n",
    "\n",
    "**Hint** — you might consider using the `np.percentile` function or `plt.hist`\n",
    "to find a good threshold."
   ]
  },
  {
   "cell_type": "code",
   "execution_count": null,
   "id": "bc262b4c",
   "metadata": {},
   "outputs": [],
   "source": [
    "#- Try a few plots of binarized slices and other stuff to find a good\n",
    "#- threshold.\n",
    "...\n",
    "binarized_subvolume = subvolume > ...\n",
    "# Show the binarized subvolume.\n",
    "plt.imshow(binarized_subvolume[:, :, 20], cmap='gray')"
   ]
  },
  {
   "cell_type": "markdown",
   "id": "7fdd5418",
   "metadata": {},
   "source": [
    "If you have a good threshold and a good binarized subset, see if you can see\n",
    "the arterial structure using the following fancy function to plot the\n",
    "binarized image with a 3D rendering.  To use this function, you will need to\n",
    "install the [scikit-image](http://scikit-image.org/) toolbox.  First see if\n",
    "scikit-image is installed with the command `import skimage` from the Python /\n",
    "IPython console.  If this gives you an `ImportError`, then open a *new\n",
    "terminal window* and install scikit-image with:\n",
    "\n",
    "```\n",
    "!pip3 install --user scikit-image\n",
    "```\n",
    "\n",
    "Careful – do *not* run this `pip3 install` command from Python / IPython /\n",
    "Jupyter, but from the terminal command window.\n",
    "\n",
    "When you have done the scikit-image install, continue with this code."
   ]
  },
  {
   "cell_type": "code",
   "execution_count": null,
   "id": "15379f82",
   "metadata": {},
   "outputs": [],
   "source": [
    "from skimage import measure"
   ]
  },
  {
   "cell_type": "markdown",
   "id": "866e5920",
   "metadata": {},
   "source": [
    "With that import done, here is the fancy function to display your subvolume in\n",
    "3D:"
   ]
  },
  {
   "cell_type": "code",
   "execution_count": null,
   "id": "bbe95cc7",
   "metadata": {},
   "outputs": [],
   "source": [
    "#: This function uses matplotlib 3D plotting and sckit-image for\n",
    "# rendering\n",
    "from mpl_toolkits.mplot3d.art3d import Poly3DCollection\n",
    "\n",
    "def binarized_surface(binary_array):\n",
    "    \"\"\" Do a 3D plot of the surfaces in a binarized image\n",
    "\n",
    "    The function does the plotting with scikit-image and some fancy\n",
    "    commands that we don't need to worry about at the moment.\n",
    "    \"\"\"\n",
    "    # Here we use the scikit-image \"measure\" function\n",
    "    verts, faces, _, _ = measure.marching_cubes(binary_array, 0)\n",
    "    fig = plt.figure(figsize=(10, 12))\n",
    "    ax = fig.add_subplot(111, projection='3d')\n",
    "\n",
    "    # Fancy indexing: `verts[faces]` to generate a collection of triangles\n",
    "    mesh = Poly3DCollection(verts[faces], linewidths=0, alpha=0.5)\n",
    "    ax.add_collection3d(mesh)\n",
    "    ax.set_xlim(0, binary_array.shape[0])\n",
    "    ax.set_ylim(0, binary_array.shape[1])\n",
    "    ax.set_zlim(0, binary_array.shape[2])"
   ]
  },
  {
   "cell_type": "markdown",
   "id": "f3b1cf3b",
   "metadata": {},
   "source": [
    "For example, let’s say you have a binarized subvolume of the original\n",
    "data called `binarized_subvolume`. You could do a 3D rendering of this\n",
    "binary image with:"
   ]
  },
  {
   "cell_type": "code",
   "execution_count": null,
   "id": "f5f1d510",
   "metadata": {},
   "outputs": [],
   "source": [
    "binarized_surface(binarized_subvolume)"
   ]
  }
 ],
 "metadata": {
  "jupytext": {
   "notebook_metadata_filter": "all,-language_info",
   "split_at_heading": true,
   "text_representation": {
    "extension": ".Rmd",
    "format_name": "rmarkdown",
    "format_version": "1.2",
    "jupytext_version": "1.13.7"
   }
  },
  "kernelspec": {
   "display_name": "Python 3",
   "language": "python",
   "name": "python3"
  }
 },
 "nbformat": 4,
 "nbformat_minor": 5
}
