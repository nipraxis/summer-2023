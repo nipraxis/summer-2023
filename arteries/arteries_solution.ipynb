{
 "cells": [
  {
   "cell_type": "markdown",
   "id": "fc594803",
   "metadata": {},
   "source": [
    "# Find the arteries"
   ]
  },
  {
   "cell_type": "code",
   "execution_count": 1,
   "id": "819a2525",
   "metadata": {
    "execution": {
     "iopub.execute_input": "2022-04-05T09:37:15.726075Z",
     "iopub.status.busy": "2022-04-05T09:37:15.725392Z",
     "iopub.status.idle": "2022-04-05T09:37:15.995958Z",
     "shell.execute_reply": "2022-04-05T09:37:15.996377Z"
    }
   },
   "outputs": [],
   "source": [
    "#: Our usual imports\n",
    "import numpy as np  # Python array library\n",
    "import matplotlib.pyplot as plt  # Python plotting library"
   ]
  },
  {
   "cell_type": "markdown",
   "id": "e0bde789",
   "metadata": {},
   "source": [
    "The major arteries in a T1 MRI image often have high signal (white when\n",
    "displaying in gray-scale).\n",
    "\n",
    "Our task is to see if we can pick out the courses of the [vertebral, basilar](http://en.wikipedia.org/wiki/Vertebral_artery#mediaviewer/File:Vertebral_artery_3D_AP.jpg)\n",
    "and [carotid](http://en.wikipedia.org/wiki/Internal_carotid_artery#mediaviewer/File:Magnetic_resonance_angiogram_of_segments_of_the_internal_carotid_artery.jpg)\n",
    "arteries on this image.\n",
    "\n",
    "The image is `ds107_sub001_highres.nii`.\n",
    "\n",
    "Download this image as a file to the computer you're working on with:"
   ]
  },
  {
   "cell_type": "code",
   "execution_count": 2,
   "id": "26f0be69",
   "metadata": {
    "execution": {
     "iopub.execute_input": "2022-04-05T09:37:16.000270Z",
     "iopub.status.busy": "2022-04-05T09:37:15.999567Z",
     "iopub.status.idle": "2022-04-05T09:37:16.099634Z",
     "shell.execute_reply": "2022-04-05T09:37:16.100116Z"
    }
   },
   "outputs": [],
   "source": [
    "# Run this cell.\n",
    "import nipraxis\n",
    "structural_fname = nipraxis.fetch_file('ds107_sub001_highres.nii')\n",
    "structural_fname"
   ]
  },
  {
   "cell_type": "markdown",
   "id": "3a3a7ae3",
   "metadata": {},
   "source": [
    "This time we are going to load the image using the `nibabel` library."
   ]
  },
  {
   "cell_type": "code",
   "execution_count": 3,
   "id": "67b474d0",
   "metadata": {
    "execution": {
     "iopub.execute_input": "2022-04-05T09:37:16.103848Z",
     "iopub.status.busy": "2022-04-05T09:37:16.103232Z",
     "iopub.status.idle": "2022-04-05T09:37:16.257879Z",
     "shell.execute_reply": "2022-04-05T09:37:16.258299Z"
    }
   },
   "outputs": [],
   "source": [
    "#: Import nibabel\n",
    "import nibabel as nib"
   ]
  },
  {
   "cell_type": "markdown",
   "id": "cc920471",
   "metadata": {},
   "source": [
    "Try loading the image using nibabel, to make an image object. Use tab\n",
    "completion on `nib.` to see if you can find the function you need.  Go back to\n",
    "have a look at [What is an\n",
    "image?](https://textbook.nipraxis.org/what_is_an_image) if you are stuck."
   ]
  },
  {
   "cell_type": "code",
   "execution_count": 4,
   "id": "01df6077",
   "metadata": {
    "execution": {
     "iopub.execute_input": "2022-04-05T09:37:16.262752Z",
     "iopub.status.busy": "2022-04-05T09:37:16.262141Z",
     "iopub.status.idle": "2022-04-05T09:37:16.266329Z",
     "shell.execute_reply": "2022-04-05T09:37:16.266802Z"
    }
   },
   "outputs": [],
   "source": [
    "#- Use nibabel to load the image ds107_sub001_highres.nii\n",
    "img = nib.load(structural_fname)\n",
    "# The resulting image object.\n",
    "img"
   ]
  },
  {
   "cell_type": "markdown",
   "id": "61aaad28",
   "metadata": {},
   "source": [
    "Now get the image array data from the nibabel image object.\n",
    "\n",
    "**Hint**: You will need to use a **method** of the image object.\n",
    "\n",
    "**Hint**: Don’t forget to use tab completion on the image object if you can’t\n",
    "remember or don’t know the methods of the object.\n",
    "\n",
    "**Hint**: The method you are looking for, gets floating point data from the\n",
    "image.  If this hint isn't immediately helpful, check the hint above."
   ]
  },
  {
   "cell_type": "code",
   "execution_count": 5,
   "id": "36b763e3",
   "metadata": {
    "execution": {
     "iopub.execute_input": "2022-04-05T09:37:16.292223Z",
     "iopub.status.busy": "2022-04-05T09:37:16.291526Z",
     "iopub.status.idle": "2022-04-05T09:37:16.345993Z",
     "shell.execute_reply": "2022-04-05T09:37:16.346402Z"
    }
   },
   "outputs": [],
   "source": [
    "data = img.get_fdata()\n",
    "# Show the data shape\n",
    "data.shape"
   ]
  },
  {
   "cell_type": "code",
   "execution_count": 6,
   "id": "a89a10ac",
   "metadata": {
    "execution": {
     "iopub.execute_input": "2022-04-05T09:37:16.350388Z",
     "iopub.status.busy": "2022-04-05T09:37:16.349798Z",
     "iopub.status.idle": "2022-04-05T09:37:16.351941Z",
     "shell.execute_reply": "2022-04-05T09:37:16.351499Z"
    }
   },
   "outputs": [],
   "source": [
    "assert 'data' in dir()  # data variable exists.\n",
    "assert data is not ...  # data changed from default value.\n",
    "assert isinstance(data, np.ndarray)  # data is an array.\n",
    "assert data.shape == (256, 256, 192)  # It is the correct shape."
   ]
  },
  {
   "cell_type": "markdown",
   "id": "43d19b5a",
   "metadata": {},
   "source": [
    "Try plotting a few slices over the third dimension to see whether you can see\n",
    "the arteries. For example, if `data` is your image array data, then you might\n",
    "plot the *first* slice over the third dimension, with this code."
   ]
  },
  {
   "cell_type": "code",
   "execution_count": 7,
   "id": "a1efbf4d",
   "metadata": {
    "execution": {
     "iopub.execute_input": "2022-04-05T09:37:16.373288Z",
     "iopub.status.busy": "2022-04-05T09:37:16.366717Z",
     "iopub.status.idle": "2022-04-05T09:37:16.474014Z",
     "shell.execute_reply": "2022-04-05T09:37:16.473580Z"
    }
   },
   "outputs": [],
   "source": [
    "# Plotting a slice over the third dimension.\n",
    "# Try changing the 0 here to some other slice number.\n",
    "plt.imshow(data[:, :, 0], cmap='gray')"
   ]
  },
  {
   "cell_type": "markdown",
   "id": "c6686b2a",
   "metadata": {},
   "source": [
    "Now try looking for a good threshold so that you pick up only the very high\n",
    "signal in the brain. A good place to start is to use `plt.hist` to get an idea\n",
    "of the spread of values within the volume and within the slice."
   ]
  },
  {
   "cell_type": "code",
   "execution_count": 8,
   "id": "e5cc635a",
   "metadata": {
    "execution": {
     "iopub.execute_input": "2022-04-05T09:37:16.477665Z",
     "iopub.status.busy": "2022-04-05T09:37:16.477078Z",
     "iopub.status.idle": "2022-04-05T09:37:17.138918Z",
     "shell.execute_reply": "2022-04-05T09:37:17.139517Z"
    }
   },
   "outputs": [],
   "source": [
    "#- Here you might try plt.hist or something else to find a threshold\n",
    "data_1d = data.ravel()\n",
    "plt.hist(data_1d, bins=100);"
   ]
  },
  {
   "cell_type": "markdown",
   "id": "53eee3ae",
   "metadata": {},
   "source": [
    "Try making a binarized image with your threshold and displaying slices with\n",
    "that.\n",
    "\n",
    "The code below uses a *comparison* operator to generate a Boolean array from\n",
    "the floating point `data` array.  True in these arrays displays as white, and\n",
    "False as black.\n",
    "\n",
    "**For reflection**: With your threshold, what structures are you picking up?"
   ]
  },
  {
   "cell_type": "code",
   "execution_count": 9,
   "id": "8fb1add3",
   "metadata": {
    "execution": {
     "iopub.execute_input": "2022-04-05T09:37:17.143336Z",
     "iopub.status.busy": "2022-04-05T09:37:17.142730Z",
     "iopub.status.idle": "2022-04-05T09:37:17.251558Z",
     "shell.execute_reply": "2022-04-05T09:37:17.251971Z"
    }
   },
   "outputs": [],
   "source": [
    "#- Maybe display some slices from the data binarized with a threshold\n",
    "threshold = 400\n",
    "binarized_data = data > threshold\n",
    "plt.imshow(binarized_data[:, :, 30], cmap='gray')"
   ]
  },
  {
   "cell_type": "markdown",
   "id": "9162a823",
   "metadata": {},
   "source": [
    "Now try taking a 3D subvolume out of the middle of the image.  Take the\n",
    "approximate middle in all three axes.  Use this to pick out a good subvolume\n",
    "of the image that still contains the big arteries.\n",
    "\n",
    "You can create a subvolume by slicing the original `data` array to select a subset of the original data.  For example, here we take a subvolume of the data that starts at the pixels at position 10, and then takes all pixels up to position -10 (10 *before* the end of the dimension).  It does this in all three dimensions.  This knocks off the first 10 and the last 10 pixels in each dimension."
   ]
  },
  {
   "cell_type": "code",
   "execution_count": 10,
   "id": "6d4d1487",
   "metadata": {
    "execution": {
     "iopub.execute_input": "2022-04-05T09:37:17.256543Z",
     "iopub.status.busy": "2022-04-05T09:37:17.255897Z",
     "iopub.status.idle": "2022-04-05T09:37:17.258468Z",
     "shell.execute_reply": "2022-04-05T09:37:17.258886Z"
    }
   },
   "outputs": [],
   "source": [
    "# Run this code.\n",
    "# A subvolume of the original data.\n",
    "# This shaves off 10 pixels from each side of the image.\n",
    "my_subvolume = data[10:-10, 10:-10, 10:-10]\n",
    "my_subvolume.shape"
   ]
  },
  {
   "cell_type": "markdown",
   "id": "eee07556",
   "metadata": {},
   "source": [
    "**Hint**: You will likely want to shave off more from the image, to make your\n",
    "subvolume containing the arteries.\n",
    "\n",
    "**Hint**: You may well want to shave off different amounts from different dimensions (axes) in the image.\n",
    "\n",
    "**Hint**: See [the solution](arteries_solution.ipynb) if you get stuck."
   ]
  },
  {
   "cell_type": "code",
   "execution_count": 11,
   "id": "530292de",
   "metadata": {
    "execution": {
     "iopub.execute_input": "2022-04-05T09:37:17.263313Z",
     "iopub.status.busy": "2022-04-05T09:37:17.262672Z",
     "iopub.status.idle": "2022-04-05T09:37:17.265151Z",
     "shell.execute_reply": "2022-04-05T09:37:17.265622Z"
    }
   },
   "outputs": [],
   "source": [
    "#- Create a smaller 3D subvolume from the image data that still\n",
    "#- contains the arteries. Replace the 10s, and -10s with better numbers.\n",
    "subvolume = data[90:-90, 90:-90, 10:130]\n",
    "# Show the shape of the subvolume.\n",
    "subvolume.shape"
   ]
  },
  {
   "cell_type": "markdown",
   "id": "3ecad3d3",
   "metadata": {},
   "source": [
    "Try binarizing the subvolume with some thresholds to see whether you can pick\n",
    "out the arteries without much other stuff.\n",
    "\n",
    "**Hint** — you might consider using the `np.percentile` function or `plt.hist`\n",
    "to find a good threshold."
   ]
  },
  {
   "cell_type": "code",
   "execution_count": 12,
   "id": "7c66644e",
   "metadata": {
    "execution": {
     "iopub.execute_input": "2022-04-05T09:37:17.269462Z",
     "iopub.status.busy": "2022-04-05T09:37:17.268864Z",
     "iopub.status.idle": "2022-04-05T09:37:17.391265Z",
     "shell.execute_reply": "2022-04-05T09:37:17.391678Z"
    }
   },
   "outputs": [],
   "source": [
    "#- Try a few plots of binarized slices and other stuff to find a good\n",
    "#- threshold.\n",
    "pct_99 = np.percentile(subvolume, 99)\n",
    "binarized_subvolume = subvolume > pct_99\n",
    "# Show the binarized subvolume.\n",
    "plt.imshow(binarized_subvolume[:, :, 20], cmap='gray')"
   ]
  },
  {
   "cell_type": "markdown",
   "id": "6bb0284b",
   "metadata": {},
   "source": [
    "If you have a good threshold and a good binarized subset, see if you can see\n",
    "the arterial structure using the following fancy function to plot the\n",
    "binarized image with a 3D rendering.  To use this function, you will need to\n",
    "install the [scikit-image](http://scikit-image.org/) toolbox.  First see if\n",
    "scikit-image is installed with the command `import skimage` from the Python /\n",
    "IPython console.  If this gives you an `ImportError`, then open a *new\n",
    "terminal window* and install scikit-image with:\n",
    "\n",
    "```\n",
    "!pip3 install --user scikit-image\n",
    "```\n",
    "\n",
    "Careful – do *not* run this `pip3 install` command from Python / IPython /\n",
    "Jupyter, but from the terminal command window.\n",
    "\n",
    "When you have done the scikit-image install, continue with this code."
   ]
  },
  {
   "cell_type": "code",
   "execution_count": 13,
   "id": "4056fba6",
   "metadata": {
    "execution": {
     "iopub.execute_input": "2022-04-05T09:37:17.395442Z",
     "iopub.status.busy": "2022-04-05T09:37:17.394848Z",
     "iopub.status.idle": "2022-04-05T09:37:17.681478Z",
     "shell.execute_reply": "2022-04-05T09:37:17.682027Z"
    }
   },
   "outputs": [],
   "source": [
    "from skimage import measure"
   ]
  },
  {
   "cell_type": "markdown",
   "id": "89f211e3",
   "metadata": {},
   "source": [
    "With that import done, here is the fancy function to display your subvolume in\n",
    "3D:"
   ]
  },
  {
   "cell_type": "code",
   "execution_count": 14,
   "id": "abdd943b",
   "metadata": {
    "execution": {
     "iopub.execute_input": "2022-04-05T09:37:17.687998Z",
     "iopub.status.busy": "2022-04-05T09:37:17.687144Z",
     "iopub.status.idle": "2022-04-05T09:37:17.689333Z",
     "shell.execute_reply": "2022-04-05T09:37:17.689745Z"
    }
   },
   "outputs": [],
   "source": [
    "#: This function uses matplotlib 3D plotting and sckit-image for\n",
    "# rendering\n",
    "from mpl_toolkits.mplot3d.art3d import Poly3DCollection\n",
    "\n",
    "def binarized_surface(binary_array):\n",
    "    \"\"\" Do a 3D plot of the surfaces in a binarized image\n",
    "\n",
    "    The function does the plotting with scikit-image and some fancy\n",
    "    commands that we don't need to worry about at the moment.\n",
    "    \"\"\"\n",
    "    # Here we use the scikit-image \"measure\" function\n",
    "    verts, faces, _, _ = measure.marching_cubes(binary_array, 0)\n",
    "    fig = plt.figure(figsize=(10, 12))\n",
    "    ax = fig.add_subplot(111, projection='3d')\n",
    "\n",
    "    # Fancy indexing: `verts[faces]` to generate a collection of triangles\n",
    "    mesh = Poly3DCollection(verts[faces], linewidths=0, alpha=0.5)\n",
    "    ax.add_collection3d(mesh)\n",
    "    ax.set_xlim(0, binary_array.shape[0])\n",
    "    ax.set_ylim(0, binary_array.shape[1])\n",
    "    ax.set_zlim(0, binary_array.shape[2])"
   ]
  },
  {
   "cell_type": "markdown",
   "id": "c9a10426",
   "metadata": {},
   "source": [
    "For example, let’s say you have a binarized subvolume of the original\n",
    "data called `binarized_subvolume`. You could do a 3D rendering of this\n",
    "binary image with:"
   ]
  },
  {
   "cell_type": "code",
   "execution_count": 15,
   "id": "4ec38c68",
   "metadata": {
    "execution": {
     "iopub.execute_input": "2022-04-05T09:37:17.693211Z",
     "iopub.status.busy": "2022-04-05T09:37:17.692624Z",
     "iopub.status.idle": "2022-04-05T09:37:19.543366Z",
     "shell.execute_reply": "2022-04-05T09:37:19.543797Z"
    }
   },
   "outputs": [],
   "source": [
    "binarized_surface(binarized_subvolume)"
   ]
  }
 ],
 "metadata": {
  "jupytext": {
   "notebook_metadata_filter": "all,-language_info",
   "split_at_heading": true,
   "text_representation": {
    "extension": ".Rmd",
    "format_name": "rmarkdown",
    "format_version": "1.2",
    "jupytext_version": "1.13.7"
   }
  },
  "kernelspec": {
   "display_name": "Python 3",
   "language": "python",
   "name": "python3"
  },
  "language_info": {
   "codemirror_mode": {
    "name": "ipython",
    "version": 3
   },
   "file_extension": ".py",
   "mimetype": "text/x-python",
   "name": "python",
   "nbconvert_exporter": "python",
   "pygments_lexer": "ipython3",
   "version": "3.8.13"
  }
 },
 "nbformat": 4,
 "nbformat_minor": 5
}
