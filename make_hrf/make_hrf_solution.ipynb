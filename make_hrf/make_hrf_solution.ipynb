{
 "cells": [
  {
   "cell_type": "markdown",
   "id": "8b046538",
   "metadata": {},
   "source": [
    "# Make your own hemodynamic response function"
   ]
  },
  {
   "cell_type": "code",
   "execution_count": 1,
   "id": "294208a2",
   "metadata": {
    "execution": {
     "iopub.execute_input": "2022-05-21T14:10:14.457984Z",
     "iopub.status.busy": "2022-05-21T14:10:14.456886Z",
     "iopub.status.idle": "2022-05-21T14:10:15.332540Z",
     "shell.execute_reply": "2022-05-21T14:10:15.332935Z"
    }
   },
   "outputs": [],
   "source": [
    "# Import array and plotting libraries.\n",
    "import numpy as np\n",
    "import matplotlib.pyplot as plt\n",
    "# Print arrays to 4 decimal places\n",
    "np.set_printoptions(precision=4, suppress=True)\n",
    "\n",
    "# Nibabel and course libraries.\n",
    "import nibabel as nib\n",
    "import nipraxis"
   ]
  },
  {
   "cell_type": "markdown",
   "id": "fb7e1220",
   "metadata": {},
   "source": [
    "The file `mt_hrf_estimates.txt` contains the estimated FMRI signal from voxels\n",
    "in the MT motion area at 0, 2, 4, …, 28 seconds after a brief moving visual\n",
    "stimulus (see:\n",
    "[http://nipy.org/nitime/examples/event_related_fmri.html](http://nipy.org/nitime/examples/event_related_fmri.html)).\n",
    "\n",
    "Here are the first four rows. The numbers are in exponential floating\n",
    "point format:\n",
    "\n",
    "```\n",
    "1.394086932967517900e-01\n",
    "3.938585701431884800e-01\n",
    "5.012927230566770476e-01\n",
    "5.676763716149294536e-01\n",
    "```\n",
    "\n",
    "Read the values from the file into an array `mt_hrf_estimates`. Make a new\n",
    "array `mt_hrf_times` with the times of acquisition (0, 2, …). Plot them\n",
    "together to see the HRF estimate at these times:"
   ]
  },
  {
   "cell_type": "code",
   "execution_count": 2,
   "id": "d15f2ceb",
   "metadata": {
    "execution": {
     "iopub.execute_input": "2022-05-21T14:10:15.337364Z",
     "iopub.status.busy": "2022-05-21T14:10:15.336726Z",
     "iopub.status.idle": "2022-05-21T14:10:15.478908Z",
     "shell.execute_reply": "2022-05-21T14:10:15.479496Z"
    }
   },
   "outputs": [],
   "source": [
    "#- Load the estimated values from the text file into an array\n",
    "#- Make an array of corresponding times\n",
    "mt_hrf_estimates = np.loadtxt('mt_hrf_estimates.txt')\n",
    "mt_hrf_times = np.arange(0, 30, 2)\n",
    "# Plot signal by time\n",
    "plt.plot(mt_hrf_times, mt_hrf_estimates)"
   ]
  },
  {
   "cell_type": "code",
   "execution_count": 3,
   "id": "e5139122",
   "metadata": {
    "execution": {
     "iopub.execute_input": "2022-05-21T14:10:15.484738Z",
     "iopub.status.busy": "2022-05-21T14:10:15.483845Z",
     "iopub.status.idle": "2022-05-21T14:10:15.486757Z",
     "shell.execute_reply": "2022-05-21T14:10:15.487323Z"
    },
    "lines_to_next_cell": 2
   },
   "outputs": [],
   "source": [
    "assert len(mt_hrf_times) == len(mt_hrf_estimates)\n",
    "assert np.all(mt_hrf_times[:3] == [0, 2, 4])\n",
    "assert mt_hrf_times[-1] == 28"
   ]
  },
  {
   "cell_type": "markdown",
   "id": "e59bb8df",
   "metadata": {},
   "source": [
    "We want to make a *hemodynamic response function* that matches this shape.\n",
    "\n",
    "Our function will accept an array that gives the times we want to calculate\n",
    "the HRF for, and returns the values of the HRF for those times. We will assume\n",
    "that the true HRF starts at zero, and gets to zero sometime around 30 seconds.\n",
    "\n",
    "Like SPM, I’m going to try using the sum of two [gamma\n",
    "distribution](https://en.wikipedia.org/wiki/Gamma_distribution)\n",
    "probability density functions."
   ]
  },
  {
   "cell_type": "code",
   "execution_count": 4,
   "id": "4353fc19",
   "metadata": {
    "execution": {
     "iopub.execute_input": "2022-05-21T14:10:15.493769Z",
     "iopub.status.busy": "2022-05-21T14:10:15.492870Z",
     "iopub.status.idle": "2022-05-21T14:10:15.885043Z",
     "shell.execute_reply": "2022-05-21T14:10:15.885528Z"
    }
   },
   "outputs": [],
   "source": [
    "#: import the gamma density function\n",
    "from scipy.stats import gamma"
   ]
  },
  {
   "cell_type": "markdown",
   "id": "3d596efe",
   "metadata": {},
   "source": [
    "Here’s my first shot:"
   ]
  },
  {
   "cell_type": "code",
   "execution_count": 5,
   "id": "c4017be2",
   "metadata": {
    "execution": {
     "iopub.execute_input": "2022-05-21T14:10:15.891549Z",
     "iopub.status.busy": "2022-05-21T14:10:15.890748Z",
     "iopub.status.idle": "2022-05-21T14:10:15.892648Z",
     "shell.execute_reply": "2022-05-21T14:10:15.893143Z"
    }
   },
   "outputs": [],
   "source": [
    "#: my attempt - you can do better than this\n",
    "def not_great_hrf(times):\n",
    "    \"\"\" Return values for HRF at given times \"\"\"\n",
    "    # Gamma pdf for the peak\n",
    "    peak_values = gamma.pdf(times, 6)\n",
    "    # Gamma pdf for the undershoot\n",
    "    undershoot_values = gamma.pdf(times, 12)\n",
    "    # Combine them\n",
    "    values = peak_values - 0.35 * undershoot_values\n",
    "    # Scale max to 0.6\n",
    "    return values / np.max(values) * 0.6"
   ]
  },
  {
   "cell_type": "code",
   "execution_count": 6,
   "id": "bb3dc34a",
   "metadata": {
    "execution": {
     "iopub.execute_input": "2022-05-21T14:10:15.917838Z",
     "iopub.status.busy": "2022-05-21T14:10:15.917235Z",
     "iopub.status.idle": "2022-05-21T14:10:16.020303Z",
     "shell.execute_reply": "2022-05-21T14:10:16.019855Z"
    }
   },
   "outputs": [],
   "source": [
    "#: plot the data against my estimate\n",
    "plt.plot(mt_hrf_times, not_great_hrf(mt_hrf_times), label='not_great_hrf')\n",
    "plt.plot(mt_hrf_times, mt_hrf_estimates, label='mt_hrf_estimates')\n",
    "plt.legend()"
   ]
  },
  {
   "cell_type": "markdown",
   "id": "59a2f676",
   "metadata": {},
   "source": [
    "Now see if you can make a better function by playing with the Gamma\n",
    "distribution PDF parameter, and the mix of the two gamma distribution\n",
    "functions. Call your function `mt_hrf`"
   ]
  },
  {
   "cell_type": "code",
   "execution_count": 7,
   "id": "1578f63f",
   "metadata": {
    "execution": {
     "iopub.execute_input": "2022-05-21T14:10:16.025730Z",
     "iopub.status.busy": "2022-05-21T14:10:16.025065Z",
     "iopub.status.idle": "2022-05-21T14:10:16.026873Z",
     "shell.execute_reply": "2022-05-21T14:10:16.027290Z"
    }
   },
   "outputs": [],
   "source": [
    "#- Your \"mt_hrf\" function here\n",
    "def mt_hrf(times):\n",
    "    \"\"\" Return values for HRF at given times \"\"\"\n",
    "    # Gamma pdf for the peak\n",
    "    peak_values = gamma.pdf(times, 7)\n",
    "    # Gamma pdf for the undershoot\n",
    "    undershoot_values = gamma.pdf(times, 20)\n",
    "    # Combine them\n",
    "    values = peak_values - undershoot_values\n",
    "    # Scale max to 0.6\n",
    "    return values / np.max(values) * 0.6"
   ]
  },
  {
   "cell_type": "code",
   "execution_count": 8,
   "id": "1f92871b",
   "metadata": {
    "execution": {
     "iopub.execute_input": "2022-05-21T14:10:16.034485Z",
     "iopub.status.busy": "2022-05-21T14:10:16.033888Z",
     "iopub.status.idle": "2022-05-21T14:10:16.149898Z",
     "shell.execute_reply": "2022-05-21T14:10:16.150374Z"
    }
   },
   "outputs": [],
   "source": [
    "#- Plot your function against the mt_hrf_estimates data to test\n",
    "plt.plot(mt_hrf_times, mt_hrf(mt_hrf_times), label='mt_hrf')\n",
    "plt.plot(mt_hrf_times, mt_hrf_estimates, label='mt_hrf_estimates')\n",
    "plt.legend()"
   ]
  },
  {
   "cell_type": "markdown",
   "id": "3c1e1f6e",
   "metadata": {},
   "source": [
    "For extra points - other than looking at these plots, how would you\n",
    "convince me your function is better than mine?"
   ]
  },
  {
   "cell_type": "code",
   "execution_count": 9,
   "id": "8c307a7e",
   "metadata": {
    "execution": {
     "iopub.execute_input": "2022-05-21T14:10:16.157165Z",
     "iopub.status.busy": "2022-05-21T14:10:16.156332Z",
     "iopub.status.idle": "2022-05-21T14:10:16.159183Z",
     "shell.execute_reply": "2022-05-21T14:10:16.159598Z"
    }
   },
   "outputs": [],
   "source": [
    "#- Evidence that your function is better than mine?\n",
    "#- Your code below, to persuade me.\n",
    "np.corrcoef(mt_hrf_times, not_great_hrf(mt_hrf_times))\n",
    "np.corrcoef(mt_hrf_times, mt_hrf(mt_hrf_times))"
   ]
  },
  {
   "cell_type": "markdown",
   "id": "38f2d14c",
   "metadata": {},
   "source": [
    "## Modeling\n",
    "\n",
    "We are going to be analyzing the data for the 4D image\n",
    "`ds114_sub009_t2r1.nii` again."
   ]
  },
  {
   "cell_type": "code",
   "execution_count": 10,
   "id": "06d64be4",
   "metadata": {
    "execution": {
     "iopub.execute_input": "2022-05-21T14:10:16.163444Z",
     "iopub.status.busy": "2022-05-21T14:10:16.162856Z",
     "iopub.status.idle": "2022-05-21T14:10:16.362848Z",
     "shell.execute_reply": "2022-05-21T14:10:16.363267Z"
    }
   },
   "outputs": [],
   "source": [
    "# Fetch the data file.\n",
    "data_fname = nipraxis.fetch_file('ds114_sub009_t2r1.nii')\n",
    "# Show the file name of the fetched data.\n",
    "img = nib.load(data_fname)\n",
    "# Load data, drop first (bad) volume.\n",
    "data = img.get_fdata()[..., 1:]\n",
    "data.shape"
   ]
  },
  {
   "cell_type": "code",
   "execution_count": 11,
   "id": "3677bb71",
   "metadata": {
    "execution": {
     "iopub.execute_input": "2022-05-21T14:10:16.367708Z",
     "iopub.status.busy": "2022-05-21T14:10:16.367062Z",
     "iopub.status.idle": "2022-05-21T14:10:16.488657Z",
     "shell.execute_reply": "2022-05-21T14:10:16.489789Z"
    }
   },
   "outputs": [],
   "source": [
    "# Fetch, load the condition file\n",
    "from nipraxis.stimuli import events2neural\n",
    "\n",
    "cond_fname = nipraxis.fetch_file('ds114_sub009_t2r1_cond.txt')\n",
    "TR = 2.5  # time between volumes\n",
    "n_trs = img.shape[-1]  # The original number of TRs\n",
    "neural_prediction = events2neural(cond_fname, TR, n_trs)\n",
    "# Drop value corresponding to first bad volume, dropped above.\n",
    "neural_prediction = neural_prediction[1:]\n",
    "plt.plot(neural_prediction)\n",
    "plt.ylim(0, 1.2)"
   ]
  },
  {
   "cell_type": "markdown",
   "id": "ed021b68",
   "metadata": {},
   "source": [
    "For now, we’re going to play with data for a single voxel.\n",
    "\n",
    "In the *First go at brain activation* exercise, we subtracted the rest scans\n",
    "from the task scans, something like this:"
   ]
  },
  {
   "cell_type": "code",
   "execution_count": 12,
   "id": "3e5b4a78",
   "metadata": {
    "execution": {
     "iopub.execute_input": "2022-05-21T14:10:16.494601Z",
     "iopub.status.busy": "2022-05-21T14:10:16.493987Z",
     "iopub.status.idle": "2022-05-21T14:10:16.614105Z",
     "shell.execute_reply": "2022-05-21T14:10:16.614608Z"
    }
   },
   "outputs": [],
   "source": [
    "#: subtracting rest from task scans\n",
    "task_scans = data[..., neural_prediction == 1]\n",
    "rest_scans = data[..., neural_prediction == 0]\n",
    "difference = np.mean(task_scans, axis=-1) - np.mean(rest_scans, axis=-1)"
   ]
  },
  {
   "cell_type": "code",
   "execution_count": 13,
   "id": "5f5ac674",
   "metadata": {
    "execution": {
     "iopub.execute_input": "2022-05-21T14:10:16.635908Z",
     "iopub.status.busy": "2022-05-21T14:10:16.635308Z",
     "iopub.status.idle": "2022-05-21T14:10:16.732812Z",
     "shell.execute_reply": "2022-05-21T14:10:16.733308Z"
    }
   },
   "outputs": [],
   "source": [
    "#: showing slice 14 from the difference image\n",
    "plt.imshow(difference[:, :, 14], cmap='gray')"
   ]
  },
  {
   "cell_type": "markdown",
   "id": "8386efd9",
   "metadata": {},
   "source": [
    "It looks like there’s a voxel that is greater for activation than rest at\n",
    "about (i, j, k) == (45, 43, 14).\n",
    "\n",
    "Get and plot the values for this voxel position, for every remaining volume in\n",
    "the 4D data. You can do it with a loop, but slicing is much nicer."
   ]
  },
  {
   "cell_type": "code",
   "execution_count": 14,
   "id": "27c46c2e",
   "metadata": {
    "execution": {
     "iopub.execute_input": "2022-05-21T14:10:16.754204Z",
     "iopub.status.busy": "2022-05-21T14:10:16.749354Z",
     "iopub.status.idle": "2022-05-21T14:10:16.859213Z",
     "shell.execute_reply": "2022-05-21T14:10:16.859650Z"
    }
   },
   "outputs": [],
   "source": [
    "#- Get the values for (i, j, k) = (45, 43, 14) and every volume.\n",
    "voxel_values = data[45, 43, 14, :]\n",
    "# Plot the values (voxel time course).\n",
    "plt.plot(voxel_values)"
   ]
  },
  {
   "cell_type": "code",
   "execution_count": 15,
   "id": "2e4095a6",
   "metadata": {
    "execution": {
     "iopub.execute_input": "2022-05-21T14:10:16.863335Z",
     "iopub.status.busy": "2022-05-21T14:10:16.862758Z",
     "iopub.status.idle": "2022-05-21T14:10:16.864783Z",
     "shell.execute_reply": "2022-05-21T14:10:16.865190Z"
    }
   },
   "outputs": [],
   "source": [
    "assert len(voxel_values) == 172"
   ]
  },
  {
   "cell_type": "markdown",
   "id": "a90765ea",
   "metadata": {},
   "source": [
    "Correlate the predicted neural time series with the voxel time course:"
   ]
  },
  {
   "cell_type": "code",
   "execution_count": 16,
   "id": "0d60cc70",
   "metadata": {
    "execution": {
     "iopub.execute_input": "2022-05-21T14:10:16.869385Z",
     "iopub.status.busy": "2022-05-21T14:10:16.868710Z",
     "iopub.status.idle": "2022-05-21T14:10:16.873090Z",
     "shell.execute_reply": "2022-05-21T14:10:16.873618Z"
    }
   },
   "outputs": [],
   "source": [
    "#- Correlation of predicted neural time course with voxel signal time\n",
    "#- course\n",
    "correlation = np.corrcoef(neural_prediction, voxel_values)[0, 1]\n",
    "# Show the result.\n",
    "correlation"
   ]
  },
  {
   "cell_type": "code",
   "execution_count": 17,
   "id": "b2a5b3bc",
   "metadata": {
    "execution": {
     "iopub.execute_input": "2022-05-21T14:10:16.877571Z",
     "iopub.status.busy": "2022-05-21T14:10:16.876983Z",
     "iopub.status.idle": "2022-05-21T14:10:16.878952Z",
     "shell.execute_reply": "2022-05-21T14:10:16.879372Z"
    }
   },
   "outputs": [],
   "source": [
    "# Should be scalar (single value).  Did you select the value\n",
    "# from the correlation array?\n",
    "assert correlation.size == 1\n",
    "assert np.round(correlation, 3) == 0.312"
   ]
  },
  {
   "cell_type": "markdown",
   "id": "965abeea",
   "metadata": {},
   "source": [
    "Now we will do a predicted hemodynamic time course using convolution.\n",
    "\n",
    "Next we need to get the HRF vector to convolve with.\n",
    "\n",
    "Remember we have defined the HRF as a function of time, not TRs.\n",
    "\n",
    "For our convolution, we need to *sample* the HRF at times corresponding the\n",
    "start of the TRs.\n",
    "\n",
    "So, we need to sample at times (0, 2.5, …)\n",
    "\n",
    "Make a vector of times at which to sample the HRF. We want to sample every TR\n",
    "up until (but not including) somewhere near 35 seconds (where the HRF should\n",
    "have got close to zero again)."
   ]
  },
  {
   "cell_type": "code",
   "execution_count": 18,
   "id": "85319810",
   "metadata": {
    "execution": {
     "iopub.execute_input": "2022-05-21T14:10:16.883553Z",
     "iopub.status.busy": "2022-05-21T14:10:16.882907Z",
     "iopub.status.idle": "2022-05-21T14:10:16.885419Z",
     "shell.execute_reply": "2022-05-21T14:10:16.885827Z"
    }
   },
   "outputs": [],
   "source": [
    "#- Make a vector of times at which to sample the HRF\n",
    "hrf_times = np.arange(0, 35, TR)\n",
    "# Show the result\n",
    "hrf_times"
   ]
  },
  {
   "cell_type": "code",
   "execution_count": 19,
   "id": "011109cd",
   "metadata": {
    "execution": {
     "iopub.execute_input": "2022-05-21T14:10:16.891529Z",
     "iopub.status.busy": "2022-05-21T14:10:16.890712Z",
     "iopub.status.idle": "2022-05-21T14:10:16.892678Z",
     "shell.execute_reply": "2022-05-21T14:10:16.893217Z"
    }
   },
   "outputs": [],
   "source": [
    "assert np.allclose(hrf_times[:4], [0, 2.5, 5, 7.5])\n",
    "assert np.allclose(hrf_times[-2:], [30.0, 32.5])\n",
    "assert len(hrf_times) == 14"
   ]
  },
  {
   "cell_type": "markdown",
   "id": "ceb78d08",
   "metadata": {},
   "source": [
    "Sample your `mt_hrf` HRF function at these times and plot:"
   ]
  },
  {
   "cell_type": "code",
   "execution_count": 20,
   "id": "1d83f928",
   "metadata": {
    "execution": {
     "iopub.execute_input": "2022-05-21T14:10:16.914695Z",
     "iopub.status.busy": "2022-05-21T14:10:16.913965Z",
     "iopub.status.idle": "2022-05-21T14:10:17.008825Z",
     "shell.execute_reply": "2022-05-21T14:10:17.009248Z"
    }
   },
   "outputs": [],
   "source": [
    "#- Sample HRF at given times\n",
    "hrf_signal = mt_hrf(hrf_times)\n",
    "#- Plot HRF samples against times\n",
    "plt.plot(hrf_times, hrf_signal)"
   ]
  },
  {
   "cell_type": "markdown",
   "id": "afebbb09",
   "metadata": {},
   "source": [
    "Convolve the predicted neural time course with the HRF samples:"
   ]
  },
  {
   "cell_type": "code",
   "execution_count": 21,
   "id": "9d2b4f3a",
   "metadata": {
    "execution": {
     "iopub.execute_input": "2022-05-21T14:10:17.013923Z",
     "iopub.status.busy": "2022-05-21T14:10:17.013313Z",
     "iopub.status.idle": "2022-05-21T14:10:17.015795Z",
     "shell.execute_reply": "2022-05-21T14:10:17.016208Z"
    }
   },
   "outputs": [],
   "source": [
    "#- Convolve predicted neural time course with HRF samples\n",
    "hemodynamic_prediction = np.convolve(neural_prediction, hrf_signal)\n",
    "# Show the first 10 values in the result\n",
    "hemodynamic_prediction[:10]"
   ]
  },
  {
   "cell_type": "markdown",
   "id": "79b7bb1b",
   "metadata": {},
   "source": [
    "The default output of convolve is longer than the input neural prediction\n",
    "vector, by the length of the convolving vector (the HRF samples) minus 1.\n",
    "Knock these last values off the result of the convolution to get a vector the\n",
    "same length as the neural prediction:"
   ]
  },
  {
   "cell_type": "code",
   "execution_count": 22,
   "id": "b207f6fa",
   "metadata": {
    "execution": {
     "iopub.execute_input": "2022-05-21T14:10:17.019636Z",
     "iopub.status.busy": "2022-05-21T14:10:17.019052Z",
     "iopub.status.idle": "2022-05-21T14:10:17.020843Z",
     "shell.execute_reply": "2022-05-21T14:10:17.021972Z"
    }
   },
   "outputs": [],
   "source": [
    "#- Remove extra tail of values put there by the convolution\n",
    "hemo_pred_short = hemodynamic_prediction[:len(neural_prediction)]"
   ]
  },
  {
   "cell_type": "code",
   "execution_count": 23,
   "id": "398e2e81",
   "metadata": {
    "execution": {
     "iopub.execute_input": "2022-05-21T14:10:17.026101Z",
     "iopub.status.busy": "2022-05-21T14:10:17.025442Z",
     "iopub.status.idle": "2022-05-21T14:10:17.027204Z",
     "shell.execute_reply": "2022-05-21T14:10:17.027725Z"
    },
    "lines_to_next_cell": 2
   },
   "outputs": [],
   "source": [
    "assert len(hemo_pred_short) == len(voxel_values)"
   ]
  },
  {
   "cell_type": "markdown",
   "id": "da78ad37",
   "metadata": {},
   "source": [
    "Plot the convolved neural prediction, and then, on the same plot, plot the\n",
    "unconvolved neural prediction."
   ]
  },
  {
   "cell_type": "code",
   "execution_count": 24,
   "id": "836991d8",
   "metadata": {
    "execution": {
     "iopub.execute_input": "2022-05-21T14:10:17.051157Z",
     "iopub.status.busy": "2022-05-21T14:10:17.050541Z",
     "iopub.status.idle": "2022-05-21T14:10:17.175385Z",
     "shell.execute_reply": "2022-05-21T14:10:17.175812Z"
    }
   },
   "outputs": [],
   "source": [
    "#- Plot convolved neural prediction and unconvolved neural prediction\n",
    "plt.plot(neural_prediction, label='unconvolved')\n",
    "plt.plot(hemo_pred_short, label='convolved')\n",
    "plt.legend()"
   ]
  },
  {
   "cell_type": "markdown",
   "id": "143857a8",
   "metadata": {},
   "source": [
    "Does the new convolved time course correlate better with the voxel time\n",
    "course?"
   ]
  },
  {
   "cell_type": "code",
   "execution_count": 25,
   "id": "a43c3c48",
   "metadata": {
    "execution": {
     "iopub.execute_input": "2022-05-21T14:10:17.180078Z",
     "iopub.status.busy": "2022-05-21T14:10:17.179431Z",
     "iopub.status.idle": "2022-05-21T14:10:17.182171Z",
     "shell.execute_reply": "2022-05-21T14:10:17.182645Z"
    }
   },
   "outputs": [],
   "source": [
    "#- Correlation of the convolved time course with voxel time course\n",
    "np.corrcoef(hemo_pred_short, voxel_values)"
   ]
  },
  {
   "cell_type": "markdown",
   "id": "4940773c",
   "metadata": {},
   "source": [
    "Plot the hemodynamic prediction against the actual signal (voxel values).  Investigate the `plt.` namespace for a useful function to do a scatterplot."
   ]
  },
  {
   "cell_type": "code",
   "execution_count": 26,
   "id": "2322d62a",
   "metadata": {
    "execution": {
     "iopub.execute_input": "2022-05-21T14:10:17.243244Z",
     "iopub.status.busy": "2022-05-21T14:10:17.242646Z",
     "iopub.status.idle": "2022-05-21T14:10:17.350855Z",
     "shell.execute_reply": "2022-05-21T14:10:17.351371Z"
    }
   },
   "outputs": [],
   "source": [
    "#- Scatterplot the hemodynamic prediction against the signal\n",
    "plt.scatter(hemo_pred_short, voxel_values)\n",
    "plt.xlabel('hemodynamic prediction')\n",
    "plt.ylabel('voxel values')"
   ]
  }
 ],
 "metadata": {
  "jupytext": {
   "notebook_metadata_filter": "all,-language_info",
   "split_at_heading": true,
   "text_representation": {
    "extension": ".Rmd",
    "format_name": "rmarkdown",
    "format_version": "1.2",
    "jupytext_version": "1.13.7"
   }
  },
  "kernelspec": {
   "display_name": "Python 3",
   "language": "python",
   "name": "python3"
  },
  "language_info": {
   "codemirror_mode": {
    "name": "ipython",
    "version": 3
   },
   "file_extension": ".py",
   "mimetype": "text/x-python",
   "name": "python",
   "nbconvert_exporter": "python",
   "pygments_lexer": "ipython3",
   "version": "3.8.13"
  }
 },
 "nbformat": 4,
 "nbformat_minor": 5
}
