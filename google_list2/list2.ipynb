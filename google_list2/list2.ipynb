{
 "cells": [
  {
   "cell_type": "markdown",
   "id": "19c40b87",
   "metadata": {},
   "source": [
    "# Additional basic list exercises\n",
    "\n",
    "Copyright 2010 Google Inc. Licensed under the Apache License, Version 2.0\n",
    "<http://www.apache.org/licenses/LICENSE-2.0>"
   ]
  },
  {
   "cell_type": "markdown",
   "id": "4f2ac14b",
   "metadata": {},
   "source": [
    "Google's Python Class:\n",
    "<http://code.google.com/edu/languages/google-python-class/>\n"
   ]
  },
  {
   "cell_type": "markdown",
   "id": "c5999d6a",
   "metadata": {},
   "source": [
    "## Introduction\n",
    "\n",
    "You might want to read the [Google course chapter on\n",
    "lists](https://developers.google.com/edu/python/lists) and on\n",
    "[sorting](https://developers.google.com/edu/python/sorting).\n",
    "\n",
    "Fill in the code for the functions below.\n",
    "\n",
    "When you have filled in the code for the function, run the tests for the function in the cell below the function.\n",
    "\n",
    "The tests call the function with a few different inputs.  If the function is not correct, they will give an `AssertionError`.  If the function appears to be correct, the test cell will run without error.\n",
    "\n",
    "The starter code for each function includes a `return ...` which is just a\n",
    "placeholder for your code.\n",
    "\n",
    "It's OK if you do not complete all the functions, and there are some\n",
    "additional functions to try in the `google_list1` exercise.\n"
   ]
  },
  {
   "cell_type": "markdown",
   "id": "ea458238",
   "metadata": {},
   "source": [
    "## remove_adjacent\n",
    "\n",
    "Given a list of numbers, return a list where all adjacent, equal elements have\n",
    "been reduced to a single element, so `[1, 2, 2, 3]` returns `[1, 2, 3]`.\n",
    "You may create a new list or modify the passed in list."
   ]
  },
  {
   "cell_type": "code",
   "execution_count": null,
   "id": "02a9a5e4",
   "metadata": {},
   "outputs": [],
   "source": [
    "def remove_adjacent(nums):\n",
    "    #- +++your code here+++\n",
    "    return ..."
   ]
  },
  {
   "cell_type": "code",
   "execution_count": null,
   "id": "08902bbf",
   "metadata": {},
   "outputs": [],
   "source": [
    "# Run this cell to test your function\n",
    "assert remove_adjacent([1, 2, 2, 3]) == [1, 2, 3]\n",
    "assert remove_adjacent([2, 2, 3, 3, 3]) == [2, 3]\n",
    "assert remove_adjacent([]) == []"
   ]
  },
  {
   "cell_type": "markdown",
   "id": "8740aa83",
   "metadata": {},
   "source": [
    "## Linear merge\n",
    "\n",
    "Given two lists sorted in increasing order, create and return a merged list of\n",
    "all the elements in sorted order. You may modify the passed in lists. Ideally,\n",
    "the solution should work in \"linear\" time, making a single pass of both lists."
   ]
  },
  {
   "cell_type": "code",
   "execution_count": null,
   "id": "c200ca65",
   "metadata": {},
   "outputs": [],
   "source": [
    "def linear_merge(list1, list2):\n",
    "    #- +++your code here+++\n",
    "    return ..."
   ]
  },
  {
   "cell_type": "code",
   "execution_count": null,
   "id": "38bbf36d",
   "metadata": {},
   "outputs": [],
   "source": [
    "# Run this cell to test your function\n",
    "assert linear_merge(['aa', 'xx', 'zz'], ['bb', 'cc']) == \\\n",
    "     ['aa', 'bb', 'cc', 'xx', 'zz']\n",
    "assert linear_merge(['aa', 'xx'], ['bb', 'cc', 'zz']) == \\\n",
    "     ['aa', 'bb', 'cc', 'xx', 'zz']\n",
    "assert linear_merge(['aa', 'aa'], ['aa', 'bb', 'bb']) == \\\n",
    "     ['aa', 'aa', 'aa', 'bb', 'bb']"
   ]
  },
  {
   "cell_type": "markdown",
   "id": "417dce8d",
   "metadata": {},
   "source": [
    "Note: some `list` methods are not constant time (see\n",
    "[Time Complexity - list](https://wiki.python.org/moin/TimeComplexity#list))\n",
    "so some \"linear\" solutions may not execute in linear time. This is okay.\n",
    "It is often the case that sub-optimal algorithms are fast enough for the amount\n",
    "of data being operated on.\n",
    "In Python, clarity is often preferred to optimality until noticeable delays\n",
    "justify careful, targeted rewriting."
   ]
  },
  {
   "cell_type": "markdown",
   "id": "9b01ffc4",
   "metadata": {},
   "source": [
    "## That's it!\n",
    "\n",
    "You've finished the exercise."
   ]
  }
 ],
 "metadata": {
  "jupytext": {
   "cell_metadata_filter": "-all",
   "notebook_metadata_filter": "all,-language_info",
   "split_at_heading": true,
   "text_representation": {
    "extension": ".Rmd",
    "format_name": "rmarkdown",
    "format_version": "1.2",
    "jupytext_version": "1.13.7"
   }
  },
  "kernelspec": {
   "display_name": "Python 3",
   "language": "python",
   "name": "python3"
  }
 },
 "nbformat": 4,
 "nbformat_minor": 5
}
