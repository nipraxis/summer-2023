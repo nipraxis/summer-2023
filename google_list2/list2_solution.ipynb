{
 "cells": [
  {
   "cell_type": "markdown",
   "id": "edcf3d31",
   "metadata": {},
   "source": [
    "# Additional basic list exercises\n",
    "\n",
    "Copyright 2010 Google Inc. Licensed under the Apache License, Version 2.0\n",
    "<http://www.apache.org/licenses/LICENSE-2.0>"
   ]
  },
  {
   "cell_type": "markdown",
   "id": "43ec961c",
   "metadata": {},
   "source": [
    "Google's Python Class:\n",
    "<http://code.google.com/edu/languages/google-python-class/>\n"
   ]
  },
  {
   "cell_type": "markdown",
   "id": "4688aaa7",
   "metadata": {},
   "source": [
    "## Introduction\n",
    "\n",
    "You might want to read the [Google course chapter on\n",
    "lists](https://developers.google.com/edu/python/lists) and on\n",
    "[sorting](https://developers.google.com/edu/python/sorting).\n",
    "\n",
    "Fill in the code for the functions below.\n",
    "\n",
    "When you have filled in the code for the function, run the tests for the function in the cell below the function.\n",
    "\n",
    "The tests call the function with a few different inputs.  If the function is not correct, they will give an `AssertionError`.  If the function appears to be correct, the test cell will run without error.\n",
    "\n",
    "The starter code for each function includes a `return ...` which is just a\n",
    "placeholder for your code.\n",
    "\n",
    "It's OK if you do not complete all the functions, and there are some\n",
    "additional functions to try in the `google_list1` exercise.\n"
   ]
  },
  {
   "cell_type": "markdown",
   "id": "8300891d",
   "metadata": {},
   "source": [
    "## remove_adjacent\n",
    "\n",
    "Given a list of numbers, return a list where all adjacent, equal elements have\n",
    "been reduced to a single element, so `[1, 2, 2, 3]` returns `[1, 2, 3]`.\n",
    "You may create a new list or modify the passed in list."
   ]
  },
  {
   "cell_type": "code",
   "execution_count": 1,
   "id": "a17efc81",
   "metadata": {
    "execution": {
     "iopub.execute_input": "2022-03-27T00:38:10.942145Z",
     "iopub.status.busy": "2022-03-27T00:38:10.941359Z",
     "iopub.status.idle": "2022-03-27T00:38:10.943317Z",
     "shell.execute_reply": "2022-03-27T00:38:10.943740Z"
    }
   },
   "outputs": [],
   "source": [
    "def remove_adjacent(nums):\n",
    "    #- +++your code here+++\n",
    "    result = []\n",
    "    for num in nums:\n",
    "        if len(result) == 0 or num != result[-1]:\n",
    "            result.append(num)\n",
    "    return result"
   ]
  },
  {
   "cell_type": "code",
   "execution_count": 2,
   "id": "a2861cd6",
   "metadata": {
    "execution": {
     "iopub.execute_input": "2022-03-27T00:38:10.948116Z",
     "iopub.status.busy": "2022-03-27T00:38:10.947512Z",
     "iopub.status.idle": "2022-03-27T00:38:10.949422Z",
     "shell.execute_reply": "2022-03-27T00:38:10.949842Z"
    }
   },
   "outputs": [],
   "source": [
    "# Run this cell to test your function\n",
    "assert remove_adjacent([1, 2, 2, 3]) == [1, 2, 3]\n",
    "assert remove_adjacent([2, 2, 3, 3, 3]) == [2, 3]\n",
    "assert remove_adjacent([]) == []"
   ]
  },
  {
   "cell_type": "markdown",
   "id": "7f275ff3",
   "metadata": {},
   "source": [
    "## Linear merge\n",
    "\n",
    "Given two lists sorted in increasing order, create and return a merged list of\n",
    "all the elements in sorted order. You may modify the passed in lists. Ideally,\n",
    "the solution should work in \"linear\" time, making a single pass of both lists."
   ]
  },
  {
   "cell_type": "code",
   "execution_count": 3,
   "id": "2256f5d8",
   "metadata": {
    "execution": {
     "iopub.execute_input": "2022-03-27T00:38:10.954902Z",
     "iopub.status.busy": "2022-03-27T00:38:10.954283Z",
     "iopub.status.idle": "2022-03-27T00:38:10.956143Z",
     "shell.execute_reply": "2022-03-27T00:38:10.956589Z"
    }
   },
   "outputs": [],
   "source": [
    "def linear_merge(list1, list2):\n",
    "    #- +++your code here+++\n",
    "    result = []\n",
    "    # Look at the two lists so long as both are non-empty.\n",
    "    # Take whichever element [0] is smaller.\n",
    "    while len(list1) and len(list2):\n",
    "        if list1[0] < list2[0]:\n",
    "            result.append(list1.pop(0))\n",
    "        else:\n",
    "            result.append(list2.pop(0))\n",
    "\n",
    "    # Now tack on what's left\n",
    "    result.extend(list1)\n",
    "    result.extend(list2)\n",
    "    return result"
   ]
  },
  {
   "cell_type": "code",
   "execution_count": 4,
   "id": "1e82f39a",
   "metadata": {
    "execution": {
     "iopub.execute_input": "2022-03-27T00:38:10.961808Z",
     "iopub.status.busy": "2022-03-27T00:38:10.961161Z",
     "iopub.status.idle": "2022-03-27T00:38:10.962866Z",
     "shell.execute_reply": "2022-03-27T00:38:10.963330Z"
    }
   },
   "outputs": [],
   "source": [
    "# Run this cell to test your function\n",
    "assert linear_merge(['aa', 'xx', 'zz'], ['bb', 'cc']) == \\\n",
    "     ['aa', 'bb', 'cc', 'xx', 'zz']\n",
    "assert linear_merge(['aa', 'xx'], ['bb', 'cc', 'zz']) == \\\n",
    "     ['aa', 'bb', 'cc', 'xx', 'zz']\n",
    "assert linear_merge(['aa', 'aa'], ['aa', 'bb', 'bb']) == \\\n",
    "     ['aa', 'aa', 'aa', 'bb', 'bb']"
   ]
  },
  {
   "cell_type": "markdown",
   "id": "3875c60c",
   "metadata": {},
   "source": [
    "Note: some `list` methods are not constant time (see\n",
    "[Time Complexity - list](https://wiki.python.org/moin/TimeComplexity#list))\n",
    "so some \"linear\" solutions may not execute in linear time. This is okay.\n",
    "It is often the case that sub-optimal algorithms are fast enough for the amount\n",
    "of data being operated on.\n",
    "In Python, clarity is often preferred to optimality until noticeable delays\n",
    "justify careful, targeted rewriting."
   ]
  },
  {
   "cell_type": "markdown",
   "id": "b91f62e9",
   "metadata": {},
   "source": [
    "## That's it!\n",
    "\n",
    "You've finished the exercise."
   ]
  }
 ],
 "metadata": {
  "jupytext": {
   "cell_metadata_filter": "-all",
   "notebook_metadata_filter": "all,-language_info",
   "split_at_heading": true,
   "text_representation": {
    "extension": ".Rmd",
    "format_name": "rmarkdown",
    "format_version": "1.2",
    "jupytext_version": "1.13.7"
   }
  },
  "kernelspec": {
   "display_name": "Python 3",
   "language": "python",
   "name": "python3"
  },
  "language_info": {
   "codemirror_mode": {
    "name": "ipython",
    "version": 3
   },
   "file_extension": ".py",
   "mimetype": "text/x-python",
   "name": "python",
   "nbconvert_exporter": "python",
   "pygments_lexer": "ipython3",
   "version": "3.8.12"
  }
 },
 "nbformat": 4,
 "nbformat_minor": 5
}
