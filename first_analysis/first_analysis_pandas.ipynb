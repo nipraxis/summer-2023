{
 "cells": [
  {
   "cell_type": "markdown",
   "id": "4ef1b198",
   "metadata": {},
   "source": [
    "# Pandas analysis of reaction times\n",
    "\n",
    "This is the solution to the bonus exercise from [first_analysis](first_analysis.ipynb)."
   ]
  },
  {
   "cell_type": "code",
   "execution_count": 1,
   "id": "8f0a14a4",
   "metadata": {
    "execution": {
     "iopub.execute_input": "2022-04-01T13:12:51.270981Z",
     "iopub.status.busy": "2022-04-01T13:12:51.270274Z",
     "iopub.status.idle": "2022-04-01T13:12:51.582752Z",
     "shell.execute_reply": "2022-04-01T13:12:51.583235Z"
    }
   },
   "outputs": [],
   "source": [
    "# Try the line below.\n",
    "import pandas as pd"
   ]
  },
  {
   "cell_type": "markdown",
   "id": "380e0732",
   "metadata": {},
   "source": [
    "If you get an `ImportError` above, make a new cell above this one\n",
    "and run the following command (including the ! at the start):\n",
    "\n",
    "```\n",
    "!pip install pandas\n",
    "```\n",
    "\n",
    "Now you can read the data.\n",
    "\n",
    "Pandas reads data into a structure called a DataFrame:"
   ]
  },
  {
   "cell_type": "code",
   "execution_count": 2,
   "id": "7f6b7e2c",
   "metadata": {
    "execution": {
     "iopub.execute_input": "2022-04-01T13:12:51.587285Z",
     "iopub.status.busy": "2022-04-01T13:12:51.586680Z",
     "iopub.status.idle": "2022-04-01T13:12:51.600713Z",
     "shell.execute_reply": "2022-04-01T13:12:51.601152Z"
    }
   },
   "outputs": [
    {
     "data": {
      "text/html": [
       "<div>\n",
       "<style scoped>\n",
       "    .dataframe tbody tr th:only-of-type {\n",
       "        vertical-align: middle;\n",
       "    }\n",
       "\n",
       "    .dataframe tbody tr th {\n",
       "        vertical-align: top;\n",
       "    }\n",
       "\n",
       "    .dataframe thead th {\n",
       "        text-align: right;\n",
       "    }\n",
       "</style>\n",
       "<table border=\"1\" class=\"dataframe\">\n",
       "  <thead>\n",
       "    <tr style=\"text-align: right;\">\n",
       "      <th></th>\n",
       "      <th>response</th>\n",
       "      <th>response_time</th>\n",
       "      <th>trial_ISI</th>\n",
       "      <th>trial_shape</th>\n",
       "    </tr>\n",
       "  </thead>\n",
       "  <tbody>\n",
       "    <tr>\n",
       "      <th>0</th>\n",
       "      <td>None</td>\n",
       "      <td>0</td>\n",
       "      <td>2000</td>\n",
       "      <td>red_star</td>\n",
       "    </tr>\n",
       "    <tr>\n",
       "      <th>1</th>\n",
       "      <td>None</td>\n",
       "      <td>0</td>\n",
       "      <td>1000</td>\n",
       "      <td>red_circle</td>\n",
       "    </tr>\n",
       "    <tr>\n",
       "      <th>2</th>\n",
       "      <td>None</td>\n",
       "      <td>0</td>\n",
       "      <td>2500</td>\n",
       "      <td>green_triangle</td>\n",
       "    </tr>\n",
       "    <tr>\n",
       "      <th>3</th>\n",
       "      <td>None</td>\n",
       "      <td>0</td>\n",
       "      <td>1500</td>\n",
       "      <td>yellow_square</td>\n",
       "    </tr>\n",
       "    <tr>\n",
       "      <th>4</th>\n",
       "      <td>None</td>\n",
       "      <td>0</td>\n",
       "      <td>1500</td>\n",
       "      <td>blue_circle</td>\n",
       "    </tr>\n",
       "  </tbody>\n",
       "</table>\n",
       "</div>"
      ],
      "text/plain": [
       "  response  response_time  trial_ISI     trial_shape\n",
       "0     None              0       2000        red_star\n",
       "1     None              0       1000      red_circle\n",
       "2     None              0       2500  green_triangle\n",
       "3     None              0       1500   yellow_square\n",
       "4     None              0       1500     blue_circle"
      ]
     },
     "execution_count": 2,
     "metadata": {},
     "output_type": "execute_result"
    }
   ],
   "source": [
    "df = pd.read_csv('24719.f3_beh_CHYM.csv')\n",
    "# Show the first 5 rows of the data frame.\n",
    "df.head()"
   ]
  },
  {
   "cell_type": "markdown",
   "id": "02d194da",
   "metadata": {},
   "source": [
    "Once loaded, pandas dataframes are fairly easy to filter"
   ]
  },
  {
   "cell_type": "code",
   "execution_count": 3,
   "id": "48c3e023",
   "metadata": {
    "execution": {
     "iopub.execute_input": "2022-04-01T13:12:51.610630Z",
     "iopub.status.busy": "2022-04-01T13:12:51.609879Z",
     "iopub.status.idle": "2022-04-01T13:12:51.612661Z",
     "shell.execute_reply": "2022-04-01T13:12:51.613082Z"
    }
   },
   "outputs": [
    {
     "data": {
      "text/html": [
       "<div>\n",
       "<style scoped>\n",
       "    .dataframe tbody tr th:only-of-type {\n",
       "        vertical-align: middle;\n",
       "    }\n",
       "\n",
       "    .dataframe tbody tr th {\n",
       "        vertical-align: top;\n",
       "    }\n",
       "\n",
       "    .dataframe thead th {\n",
       "        text-align: right;\n",
       "    }\n",
       "</style>\n",
       "<table border=\"1\" class=\"dataframe\">\n",
       "  <thead>\n",
       "    <tr style=\"text-align: right;\">\n",
       "      <th></th>\n",
       "      <th>response</th>\n",
       "      <th>response_time</th>\n",
       "      <th>trial_ISI</th>\n",
       "      <th>trial_shape</th>\n",
       "    </tr>\n",
       "  </thead>\n",
       "  <tbody>\n",
       "    <tr>\n",
       "      <th>10</th>\n",
       "      <td>space</td>\n",
       "      <td>427</td>\n",
       "      <td>1000</td>\n",
       "      <td>red_square</td>\n",
       "    </tr>\n",
       "    <tr>\n",
       "      <th>13</th>\n",
       "      <td>space</td>\n",
       "      <td>369</td>\n",
       "      <td>2000</td>\n",
       "      <td>red_square</td>\n",
       "    </tr>\n",
       "    <tr>\n",
       "      <th>15</th>\n",
       "      <td>space</td>\n",
       "      <td>337</td>\n",
       "      <td>1500</td>\n",
       "      <td>red_square</td>\n",
       "    </tr>\n",
       "    <tr>\n",
       "      <th>17</th>\n",
       "      <td>space</td>\n",
       "      <td>308</td>\n",
       "      <td>2000</td>\n",
       "      <td>red_square</td>\n",
       "    </tr>\n",
       "    <tr>\n",
       "      <th>23</th>\n",
       "      <td>space</td>\n",
       "      <td>375</td>\n",
       "      <td>1000</td>\n",
       "      <td>red_square</td>\n",
       "    </tr>\n",
       "  </tbody>\n",
       "</table>\n",
       "</div>"
      ],
      "text/plain": [
       "   response  response_time  trial_ISI trial_shape\n",
       "10    space            427       1000  red_square\n",
       "13    space            369       2000  red_square\n",
       "15    space            337       1500  red_square\n",
       "17    space            308       2000  red_square\n",
       "23    space            375       1000  red_square"
      ]
     },
     "execution_count": 3,
     "metadata": {},
     "output_type": "execute_result"
    }
   ],
   "source": [
    "# Select the appropriate rows of the data table\n",
    "good_rows = (df['response'] == 'space') & (df['trial_shape'] == 'red_square')\n",
    "good_data = df[good_rows]\n",
    "# Show the first five rows of the filtered data frame.\n",
    "good_data.head()"
   ]
  },
  {
   "cell_type": "markdown",
   "id": "5297a215",
   "metadata": {},
   "source": [
    "Now we can select the `response_time` column and calculate the average:"
   ]
  },
  {
   "cell_type": "code",
   "execution_count": 4,
   "id": "1a5e5309",
   "metadata": {
    "execution": {
     "iopub.execute_input": "2022-04-01T13:12:51.617628Z",
     "iopub.status.busy": "2022-04-01T13:12:51.616903Z",
     "iopub.status.idle": "2022-04-01T13:12:51.620645Z",
     "shell.execute_reply": "2022-04-01T13:12:51.621177Z"
    }
   },
   "outputs": [
    {
     "data": {
      "text/plain": [
       "382.2604166666667"
      ]
     },
     "execution_count": 4,
     "metadata": {},
     "output_type": "execute_result"
    }
   ],
   "source": [
    "good_data['response_time'].mean()"
   ]
  }
 ],
 "metadata": {
  "jupytext": {
   "notebook_metadata_filter": "all,-language_info",
   "split_at_heading": true
  },
  "kernelspec": {
   "display_name": "Python 3",
   "language": "python",
   "name": "python3"
  },
  "language_info": {
   "codemirror_mode": {
    "name": "ipython",
    "version": 3
   },
   "file_extension": ".py",
   "mimetype": "text/x-python",
   "name": "python",
   "nbconvert_exporter": "python",
   "pygments_lexer": "ipython3",
   "version": "3.8.13"
  }
 },
 "nbformat": 4,
 "nbformat_minor": 5
}
