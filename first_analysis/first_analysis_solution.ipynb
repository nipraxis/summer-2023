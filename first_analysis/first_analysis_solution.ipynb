{
 "cells": [
  {
   "cell_type": "markdown",
   "id": "07e15c81",
   "metadata": {},
   "source": [
    "# Getting ready for an analysis"
   ]
  },
  {
   "cell_type": "markdown",
   "id": "3cba1b8e",
   "metadata": {},
   "source": [
    "[Chris\n",
    "Gorgolewski](https://reproducibility.stanford.edu/team/chris-gorgolewski)\n",
    "kindly gave this exercise in our Berkeley courses.  He released the exercise\n",
    "under the [CC-by license](https://creativecommons.org/licenses/by/4.0), and\n",
    "the associated data file `24719.f3_beh_CHYM.csv` under the [CC-0\n",
    "license](https://creativecommons.org/share-your-work/public-domain/cc0/).\n",
    "\n",
    "The exercise gets you started on:\n",
    "\n",
    "* using variables;\n",
    "* numbers and strings;\n",
    "* opening and reading from files.\n"
   ]
  },
  {
   "cell_type": "markdown",
   "id": "1d80d0fb",
   "metadata": {},
   "source": [
    "## Introduction\n",
    "\n",
    "Fill in the code cells containing `...` in the cells below.\n",
    "\n",
    "When you have filled in the code, run any tests for the cell, in the cell\n",
    "below.  Some cells don't have test cells below them.\n",
    "\n",
    "If your code was not correct, the tests will give an `AssertionError`.  If the\n",
    "code appears to be correct, the test cell will run without error.\n"
   ]
  },
  {
   "cell_type": "markdown",
   "id": "58a6b47c",
   "metadata": {},
   "source": [
    "## The analysis"
   ]
  },
  {
   "cell_type": "markdown",
   "id": "e08252a4",
   "metadata": {},
   "source": [
    "Define a `number_of_subjects` variable and assign value 20 to it."
   ]
  },
  {
   "cell_type": "code",
   "execution_count": 1,
   "id": "5720ef8b",
   "metadata": {
    "execution": {
     "iopub.execute_input": "2022-04-01T13:15:16.199093Z",
     "iopub.status.busy": "2022-04-01T13:15:16.198389Z",
     "iopub.status.idle": "2022-04-01T13:15:16.200375Z",
     "shell.execute_reply": "2022-04-01T13:15:16.200881Z"
    }
   },
   "outputs": [],
   "source": [
    "#- Your code here.\n",
    "number_of_subjects = 20"
   ]
  },
  {
   "cell_type": "markdown",
   "id": "f1498101",
   "metadata": {},
   "source": [
    "Now run the cell below to test the code above.  Remember, if it gives an `AssertionError`, then there's a problem with your code above.  If it runs without error, your code above probably gave the right answer."
   ]
  },
  {
   "cell_type": "code",
   "execution_count": 2,
   "id": "cdb924e8",
   "metadata": {
    "execution": {
     "iopub.execute_input": "2022-04-01T13:15:16.206089Z",
     "iopub.status.busy": "2022-04-01T13:15:16.205354Z",
     "iopub.status.idle": "2022-04-01T13:15:16.207221Z",
     "shell.execute_reply": "2022-04-01T13:15:16.207644Z"
    },
    "lines_to_next_cell": 2
   },
   "outputs": [],
   "source": [
    "# Run this cell to test the cell above.\n",
    "assert 'number_of_subjects' in dir()  # Variable exists\n",
    "assert number_of_subjects is not ...  # Variable changed from template\n",
    "assert number_of_subjects == 20  # Variable has correct value."
   ]
  },
  {
   "cell_type": "markdown",
   "id": "71cdaa24",
   "metadata": {},
   "source": [
    "Display the statement: `We have <x> subjects` where `<x>` is the number of\n",
    "subjects.  For example, if you had 10 subjects (you don't) you should see `We have 10 subjects`."
   ]
  },
  {
   "cell_type": "code",
   "execution_count": 3,
   "id": "382c24ba",
   "metadata": {
    "execution": {
     "iopub.execute_input": "2022-04-01T13:15:16.211212Z",
     "iopub.status.busy": "2022-04-01T13:15:16.210516Z",
     "iopub.status.idle": "2022-04-01T13:15:16.213237Z",
     "shell.execute_reply": "2022-04-01T13:15:16.213656Z"
    }
   },
   "outputs": [],
   "source": [
    "#- Your code here\n",
    "print(\"We have {number_of_subjects} subjects\")"
   ]
  },
  {
   "cell_type": "markdown",
   "id": "9114c880",
   "metadata": {},
   "source": [
    "Define two variables: `control_subjects` and `treatment_subjects` and assign values\n",
    "18 and 12 respectively."
   ]
  },
  {
   "cell_type": "code",
   "execution_count": 4,
   "id": "4e935a9f",
   "metadata": {
    "execution": {
     "iopub.execute_input": "2022-04-01T13:15:16.217257Z",
     "iopub.status.busy": "2022-04-01T13:15:16.216593Z",
     "iopub.status.idle": "2022-04-01T13:15:16.218422Z",
     "shell.execute_reply": "2022-04-01T13:15:16.218834Z"
    }
   },
   "outputs": [],
   "source": [
    "#- Your code here\n",
    "control_subjects = 18\n",
    "treatment_subjects = 12"
   ]
  },
  {
   "cell_type": "code",
   "execution_count": 5,
   "id": "a407bd55",
   "metadata": {
    "execution": {
     "iopub.execute_input": "2022-04-01T13:15:16.222773Z",
     "iopub.status.busy": "2022-04-01T13:15:16.222061Z",
     "iopub.status.idle": "2022-04-01T13:15:16.223927Z",
     "shell.execute_reply": "2022-04-01T13:15:16.224346Z"
    }
   },
   "outputs": [],
   "source": [
    "# Run this cell to test the cell above.\n",
    "assert 'control_subjects' in dir()  # Variable exists\n",
    "assert 'treatment_subjects' in dir()  # Variable exists\n",
    "assert control_subjects == 18  # Variable has correct value.\n",
    "assert treatment_subjects == 12  # Variable has correct value."
   ]
  },
  {
   "cell_type": "markdown",
   "id": "1af2f1bd",
   "metadata": {},
   "source": [
    "Now define a new variable `all_subjects` which is a sum of the two."
   ]
  },
  {
   "cell_type": "code",
   "execution_count": 6,
   "id": "2b724abe",
   "metadata": {
    "execution": {
     "iopub.execute_input": "2022-04-01T13:15:16.227751Z",
     "iopub.status.busy": "2022-04-01T13:15:16.227159Z",
     "iopub.status.idle": "2022-04-01T13:15:16.229076Z",
     "shell.execute_reply": "2022-04-01T13:15:16.229580Z"
    }
   },
   "outputs": [],
   "source": [
    "#- Your code here\n",
    "all_subjects = control_subjects + treatment_subjects"
   ]
  },
  {
   "cell_type": "code",
   "execution_count": 7,
   "id": "04c48d45",
   "metadata": {
    "execution": {
     "iopub.execute_input": "2022-04-01T13:15:16.233195Z",
     "iopub.status.busy": "2022-04-01T13:15:16.232534Z",
     "iopub.status.idle": "2022-04-01T13:15:16.234924Z",
     "shell.execute_reply": "2022-04-01T13:15:16.234458Z"
    }
   },
   "outputs": [],
   "source": [
    "# Run this cell to test the cell above.\n",
    "assert 'all_subjects' in dir()  # Variable exists\n",
    "assert all_subjects == 30  # Variable has correct value."
   ]
  },
  {
   "cell_type": "markdown",
   "id": "ef6d24bd",
   "metadata": {},
   "source": [
    "Now have a look at the textbook page on [string formatting](https://textbook.nipraxis.org/string_formatting.html).\n",
    "\n",
    "The directories for each subject have names:\n",
    "\n",
    "- `sub000`\n",
    "- `sub001`\n",
    "- etc, up to\n",
    "- `sub029`\n",
    "\n",
    "Here's how to build a string for subject number 20, using string formatting\n",
    "(see the page above):"
   ]
  },
  {
   "cell_type": "code",
   "execution_count": 8,
   "id": "9c5f5a6b",
   "metadata": {
    "execution": {
     "iopub.execute_input": "2022-04-01T13:15:16.244861Z",
     "iopub.status.busy": "2022-04-01T13:15:16.244120Z",
     "iopub.status.idle": "2022-04-01T13:15:16.247030Z",
     "shell.execute_reply": "2022-04-01T13:15:16.247447Z"
    }
   },
   "outputs": [],
   "source": [
    "val = 20\n",
    "# Make a suitable string using the value of `val`\n",
    "f'sub{val:03d}'"
   ]
  },
  {
   "cell_type": "markdown",
   "id": "db9d75f5",
   "metadata": {},
   "source": [
    "Now use a `for` loop to print the subject identifiers for each subject, each subject identifier on one line.  This will start:\n",
    "\n",
    "```\n",
    "sub000\n",
    "sub001\n",
    "sub002\n",
    "```"
   ]
  },
  {
   "cell_type": "code",
   "execution_count": 9,
   "id": "7f67dff6",
   "metadata": {
    "execution": {
     "iopub.execute_input": "2022-04-01T13:15:16.251681Z",
     "iopub.status.busy": "2022-04-01T13:15:16.251078Z",
     "iopub.status.idle": "2022-04-01T13:15:16.253688Z",
     "shell.execute_reply": "2022-04-01T13:15:16.254111Z"
    }
   },
   "outputs": [],
   "source": [
    "#- Starting at 0 and going up to (not including) the value of `all_subjects`\n",
    "for i in range(0, all_subjects):\n",
    "    print(f\"sub{i:03d}\")"
   ]
  },
  {
   "cell_type": "markdown",
   "id": "9cc336f3",
   "metadata": {},
   "source": [
    "Create a variable `list_of_subjects` containing a list of identifiers you\n",
    "just printed."
   ]
  },
  {
   "cell_type": "code",
   "execution_count": 10,
   "id": "c562d219",
   "metadata": {
    "execution": {
     "iopub.execute_input": "2022-04-01T13:15:16.258860Z",
     "iopub.status.busy": "2022-04-01T13:15:16.258187Z",
     "iopub.status.idle": "2022-04-01T13:15:16.260641Z",
     "shell.execute_reply": "2022-04-01T13:15:16.261055Z"
    }
   },
   "outputs": [],
   "source": [
    "list_of_subjects = []\n",
    "for i in range(0, all_subjects):\n",
    "    list_of_subjects.append(f\"sub{i:03d}\")\n",
    "# Show the result\n",
    "list_of_subjects"
   ]
  },
  {
   "cell_type": "code",
   "execution_count": 11,
   "id": "b65136d7",
   "metadata": {
    "execution": {
     "iopub.execute_input": "2022-04-01T13:15:16.265356Z",
     "iopub.status.busy": "2022-04-01T13:15:16.264751Z",
     "iopub.status.idle": "2022-04-01T13:15:16.266811Z",
     "shell.execute_reply": "2022-04-01T13:15:16.267268Z"
    }
   },
   "outputs": [],
   "source": [
    "# Test the list creation.\n",
    "assert 'list_of_subjects' in dir()  # Variable exists.\n",
    "assert isinstance(list_of_subjects, list)  # It's a list.\n",
    "assert len(list_of_subjects) == all_subjects  # Has right number of elements.\n",
    "# Test some elements.\n",
    "assert list_of_subjects[1] == 'sub001'\n",
    "assert list_of_subjects[12] == 'sub012'\n",
    "assert list_of_subjects[-1] == 'sub029'"
   ]
  },
  {
   "cell_type": "markdown",
   "id": "f498d1c0",
   "metadata": {},
   "source": [
    "Unfortunately the data from some subjects were corrupted. Create another\n",
    "variable `list_of_excluded_subjects` containing the strings `'sub005'` and\n",
    "`'sub008'`."
   ]
  },
  {
   "cell_type": "code",
   "execution_count": 12,
   "id": "fed1d0e1",
   "metadata": {
    "execution": {
     "iopub.execute_input": "2022-04-01T13:15:16.271340Z",
     "iopub.status.busy": "2022-04-01T13:15:16.270726Z",
     "iopub.status.idle": "2022-04-01T13:15:16.272563Z",
     "shell.execute_reply": "2022-04-01T13:15:16.272995Z"
    }
   },
   "outputs": [],
   "source": [
    "list_of_excluded_subjects = ['sub005', 'sub008']"
   ]
  },
  {
   "cell_type": "code",
   "execution_count": 13,
   "id": "a9618ad5",
   "metadata": {
    "execution": {
     "iopub.execute_input": "2022-04-01T13:15:16.277031Z",
     "iopub.status.busy": "2022-04-01T13:15:16.276436Z",
     "iopub.status.idle": "2022-04-01T13:15:16.278253Z",
     "shell.execute_reply": "2022-04-01T13:15:16.278673Z"
    }
   },
   "outputs": [],
   "source": [
    "# Test the list creation.\n",
    "assert 'list_of_excluded_subjects' in dir()  # Variable exists.\n",
    "assert isinstance(list_of_excluded_subjects, list)  # It's a list.\n",
    "assert len(list_of_excluded_subjects) == 2  # Has right number of elements.\n",
    "assert list_of_excluded_subjects[0] == 'sub005'\n",
    "assert list_of_excluded_subjects[-1] == 'sub008'"
   ]
  },
  {
   "cell_type": "markdown",
   "id": "82ea011c",
   "metadata": {},
   "source": [
    "Now create a *list* of all subjects apart from those in the\n",
    "`list_of_excluded_subjects`.  Put this new list into the variable\n",
    "`good_subjects`.\n",
    "\n",
    "**Hint**: you can use a `for` loop."
   ]
  },
  {
   "cell_type": "code",
   "execution_count": 14,
   "id": "921b8d97",
   "metadata": {
    "execution": {
     "iopub.execute_input": "2022-04-01T13:15:16.283492Z",
     "iopub.status.busy": "2022-04-01T13:15:16.282797Z",
     "iopub.status.idle": "2022-04-01T13:15:16.285291Z",
     "shell.execute_reply": "2022-04-01T13:15:16.285773Z"
    }
   },
   "outputs": [],
   "source": [
    "good_subjects = []\n",
    "for i in range(all_subjects):\n",
    "    subject = list_of_subjects[i]\n",
    "    if subject in list_of_excluded_subjects:\n",
    "        continue\n",
    "    good_subjects.append(subject)\n",
    "# Show the result\n",
    "good_subjects"
   ]
  },
  {
   "cell_type": "code",
   "execution_count": 15,
   "id": "3ba59efd",
   "metadata": {
    "execution": {
     "iopub.execute_input": "2022-04-01T13:15:16.289802Z",
     "iopub.status.busy": "2022-04-01T13:15:16.289164Z",
     "iopub.status.idle": "2022-04-01T13:15:16.291058Z",
     "shell.execute_reply": "2022-04-01T13:15:16.291493Z"
    }
   },
   "outputs": [],
   "source": [
    "# Test the list creation.\n",
    "assert 'good_subjects' in dir()  # Variable exists.\n",
    "assert isinstance(good_subjects, list)  # It's a list.\n",
    "assert len(good_subjects) == all_subjects - 2  # Has right number of elements.\n",
    "assert good_subjects[5] == 'sub006'\n",
    "assert good_subjects[-1] == 'sub029'"
   ]
  },
  {
   "cell_type": "markdown",
   "id": "c02f3e20",
   "metadata": {},
   "source": [
    "Do we expect the same identifier to be on the list of subjects twice? If not\n",
    "what other data structure could we use to contain the subjects?  Consider\n",
    "whether you could use this data structure to solve your code problem without a\n",
    "`for` loop.   See the [solution](first_analysis_solution.ipynb) for a way of\n",
    "doing this.\n",
    "\n",
    "**Hint**: you can use the `set` type and subtraction operator (with sets)."
   ]
  },
  {
   "cell_type": "code",
   "execution_count": 16,
   "id": "9cb9acd0",
   "metadata": {
    "execution": {
     "iopub.execute_input": "2022-04-01T13:15:16.295921Z",
     "iopub.status.busy": "2022-04-01T13:15:16.295252Z",
     "iopub.status.idle": "2022-04-01T13:15:16.297826Z",
     "shell.execute_reply": "2022-04-01T13:15:16.298302Z"
    }
   },
   "outputs": [],
   "source": [
    "#- See the solution for a way of solving the problem above\n",
    "#- without using a `for` loop.\n",
    "good_subjects_again = set(list_of_subjects) - set(list_of_excluded_subjects)\n",
    "# Show the result\n",
    "good_subjects_again"
   ]
  },
  {
   "cell_type": "markdown",
   "id": "9405ddc6",
   "metadata": {},
   "source": [
    "For the next step, we return to using the `good_subjects` list you should have\n",
    "built above.\n",
    "\n",
    "Now write out your ordered subjects to text file called `usable_subjects.txt`.\n",
    "Write one subject identifier per line."
   ]
  },
  {
   "cell_type": "code",
   "execution_count": 17,
   "id": "4c28337b",
   "metadata": {
    "execution": {
     "iopub.execute_input": "2022-04-01T13:15:16.302820Z",
     "iopub.status.busy": "2022-04-01T13:15:16.302014Z",
     "iopub.status.idle": "2022-04-01T13:15:16.304677Z",
     "shell.execute_reply": "2022-04-01T13:15:16.305095Z"
    }
   },
   "outputs": [],
   "source": [
    "# Make sure we have a sorted list.\n",
    "good_list = sorted(good_subjects)\n",
    "# Open the file for writing\n",
    "fobj = open('usable_subjects.txt', 'wt')\n",
    "for i in range(len(good_list)):\n",
    "    fobj.write(good_list[i] + '\\n')\n",
    "# Don't forget to close the file.\n",
    "fobj.close()"
   ]
  },
  {
   "cell_type": "code",
   "execution_count": 18,
   "id": "f8e6ec2d",
   "metadata": {
    "execution": {
     "iopub.execute_input": "2022-04-01T13:15:16.309294Z",
     "iopub.status.busy": "2022-04-01T13:15:16.308633Z",
     "iopub.status.idle": "2022-04-01T13:15:16.310904Z",
     "shell.execute_reply": "2022-04-01T13:15:16.311317Z"
    }
   },
   "outputs": [],
   "source": [
    "# Some tests\n",
    "import os.path as op\n",
    "assert op.isfile('usable_subjects.txt')\n",
    "lines = open('usable_subjects.txt', 'rt').readlines()\n",
    "assert len(lines) == len(good_subjects)\n",
    "for i in range(len(lines)):\n",
    "    assert lines[i].strip() == good_subjects[i]"
   ]
  },
  {
   "cell_type": "markdown",
   "id": "5157976d",
   "metadata": {},
   "source": [
    "For the rest of the class we would like you to work on the following task:\n",
    "\n",
    "You are given a log file called `24719.f3_beh_CHYM.csv`.  It contains the\n",
    "results from a behavioral experiment.\n",
    "\n",
    "The first line in the file contains the header, giving the names of the\n",
    "variables.  Each line after the first corresponds to one trial of the\n",
    "experiment. We are interested in the average response time on trials where\n",
    "response was the 'space' key and displayed shape ('trial_shape') was a\n",
    "'red_square'.  Here are the first few lines of this file:\n",
    "\n",
    "```\n",
    "response,response_time,trial_ISI,trial_shape\n",
    "None,0,2000,red_star\n",
    "None,0,1000,red_circle\n",
    "None,0,2500,green_triangle\n",
    "None,0,1500,yellow_square\n",
    "```\n",
    "\n",
    "**Hints**\n",
    "\n",
    "- When you read lines from a text file, they end with a carriage return;\n",
    "- Remember `split`;\n",
    "- String are not numbers;\n",
    "\n",
    "See [the solution](first_analysis_solution.ipynb) for the — *solution*!"
   ]
  },
  {
   "cell_type": "code",
   "execution_count": 19,
   "id": "ea1464d2",
   "metadata": {
    "execution": {
     "iopub.execute_input": "2022-04-01T13:15:16.316503Z",
     "iopub.status.busy": "2022-04-01T13:15:16.315813Z",
     "iopub.status.idle": "2022-04-01T13:15:16.318244Z",
     "shell.execute_reply": "2022-04-01T13:15:16.318672Z"
    }
   },
   "outputs": [],
   "source": [
    "total_rt = 0.\n",
    "n = 0\n",
    "fobj = open(\"24719.f3_beh_CHYM.csv\", 'rt')\n",
    "lines = fobj.readlines()\n",
    "for i in range(1, len(lines)):\n",
    "    line = lines[i].strip()\n",
    "    parts = line.split(',')\n",
    "    if parts[0] == 'space' and parts[3] == 'red_square':\n",
    "        total_rt += int(parts[1])\n",
    "        n += 1\n",
    "# Show the average reaction time.\n",
    "print(total_rt / n)"
   ]
  },
  {
   "cell_type": "code",
   "execution_count": 20,
   "id": "30fde19b",
   "metadata": {
    "execution": {
     "iopub.execute_input": "2022-04-01T13:15:16.322080Z",
     "iopub.status.busy": "2022-04-01T13:15:16.321427Z",
     "iopub.status.idle": "2022-04-01T13:15:16.323331Z",
     "shell.execute_reply": "2022-04-01T13:15:16.323750Z"
    }
   },
   "outputs": [],
   "source": [
    "# A simple test for the correct answer.\n",
    "assert round(total_rt / n) == 382"
   ]
  },
  {
   "cell_type": "markdown",
   "id": "c067f21b",
   "metadata": {},
   "source": [
    "## Bonus exercise\n",
    "\n",
    "Have a look at the Pandas package especially the `read_csv` method. Could you\n",
    "solve the previous exercise using this functionality?\n",
    "\n",
    "See the [pandas solution](first_analysis_pandas.ipynb) for a solution using\n",
    "Pandas."
   ]
  },
  {
   "cell_type": "markdown",
   "id": "a6707e2b",
   "metadata": {},
   "source": [
    "## Some final cleanup\n",
    "\n",
    "Just to be tidy, let us delete the file we created above:"
   ]
  },
  {
   "cell_type": "code",
   "execution_count": 21,
   "id": "5aa2f008",
   "metadata": {
    "execution": {
     "iopub.execute_input": "2022-04-01T13:15:16.327425Z",
     "iopub.status.busy": "2022-04-01T13:15:16.326722Z",
     "iopub.status.idle": "2022-04-01T13:15:16.328828Z",
     "shell.execute_reply": "2022-04-01T13:15:16.329260Z"
    }
   },
   "outputs": [],
   "source": [
    "# Delete the usable_subjects.txt file.\n",
    "# Just in case we are re-running the notebook.\n",
    "import os\n",
    "os.unlink('usable_subjects.txt')"
   ]
  }
 ],
 "metadata": {
  "jupytext": {
   "notebook_metadata_filter": "all,-language_info",
   "split_at_heading": true,
   "text_representation": {
    "extension": ".Rmd",
    "format_name": "rmarkdown",
    "format_version": "1.2",
    "jupytext_version": "1.13.7"
   }
  },
  "kernelspec": {
   "display_name": "Python 3",
   "language": "python",
   "name": "python3"
  },
  "language_info": {
   "codemirror_mode": {
    "name": "ipython",
    "version": 3
   },
   "file_extension": ".py",
   "mimetype": "text/x-python",
   "name": "python",
   "nbconvert_exporter": "python",
   "pygments_lexer": "ipython3",
   "version": "3.8.13"
  }
 },
 "nbformat": 4,
 "nbformat_minor": 5
}
