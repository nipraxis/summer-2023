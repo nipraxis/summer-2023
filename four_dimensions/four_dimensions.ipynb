{
 "cells": [
  {
   "cell_type": "markdown",
   "id": "16cda3bf",
   "metadata": {},
   "source": [
    "# Lost in the fourth dimension"
   ]
  },
  {
   "cell_type": "code",
   "execution_count": null,
   "id": "66cc549d",
   "metadata": {},
   "outputs": [],
   "source": [
    "#: Our usual imports\n",
    "import numpy as np  # the Python array package\n",
    "import matplotlib.pyplot as plt  # the Python plotting package"
   ]
  },
  {
   "cell_type": "markdown",
   "id": "f35af677",
   "metadata": {},
   "source": [
    "We are going to load a four-dimensional (X, Y, Z, t) BOLD image called\n",
    "`ds107_sub012_t1r2.nii`.   First, fetch the image from the web."
   ]
  },
  {
   "cell_type": "code",
   "execution_count": null,
   "id": "a4b9cf55",
   "metadata": {},
   "outputs": [],
   "source": [
    "import nipraxis\n",
    "image_fname = nipraxis.fetch_file('ds107_sub012_t1r2.nii')\n",
    "# Show the filename of the downloaded file.\n",
    "image_fname"
   ]
  },
  {
   "cell_type": "markdown",
   "id": "18f08463",
   "metadata": {},
   "source": [
    "Import the `nibabel` module, and load the image with nibabel to create an\n",
    "image object."
   ]
  },
  {
   "cell_type": "code",
   "execution_count": null,
   "id": "a4246177",
   "metadata": {},
   "outputs": [],
   "source": [
    "#- Import nibabel\n",
    "...\n",
    "#- Load the image\n",
    "img = ...\n",
    "# Show the result\n",
    "img"
   ]
  },
  {
   "cell_type": "code",
   "execution_count": null,
   "id": "847ee440",
   "metadata": {},
   "outputs": [],
   "source": [
    "assert 'img' in dir()\n",
    "assert img is not ...\n",
    "assert hasattr(img, 'header')"
   ]
  },
  {
   "cell_type": "markdown",
   "id": "092fad1d",
   "metadata": {},
   "source": [
    "In the usual way get the floating point array data from this image and show\n",
    "the image shape."
   ]
  },
  {
   "cell_type": "code",
   "execution_count": null,
   "id": "df338da8",
   "metadata": {},
   "outputs": [],
   "source": [
    "#- Get image array data from image object\n",
    "data = ...\n",
    "# Show the shape.\n",
    "data.shape"
   ]
  },
  {
   "cell_type": "markdown",
   "id": "16ec33eb",
   "metadata": {},
   "source": [
    "Select the volume at time position 9 from 4D image data array, by slicing over\n",
    "the last dimension.  Note the shape."
   ]
  },
  {
   "cell_type": "code",
   "execution_count": null,
   "id": "09c78f71",
   "metadata": {},
   "outputs": [],
   "source": [
    "#- Get the 10th volume.\n",
    "tenth_vol = ...\n",
    "# Show the shape.\n",
    "tenth_vol.shape"
   ]
  },
  {
   "cell_type": "markdown",
   "id": "ecd8c9e0",
   "metadata": {},
   "source": [
    "Get the standard deviation across all voxels in this 3D volume:"
   ]
  },
  {
   "cell_type": "code",
   "execution_count": null,
   "id": "045b0c6a",
   "metadata": {},
   "outputs": [],
   "source": [
    "#- Standard deviation across all voxels for 10th volume\n",
    "ten_std = ...\n",
    "# Show the result\n",
    "ten_std"
   ]
  },
  {
   "cell_type": "code",
   "execution_count": null,
   "id": "5c613655",
   "metadata": {},
   "outputs": [],
   "source": [
    "assert np.allclose(ten_std, 387.1928)"
   ]
  },
  {
   "cell_type": "markdown",
   "id": "d32ec86a",
   "metadata": {},
   "source": [
    "Loop over all volumes in the 4D image and store the standard deviation for\n",
    "each volume in a list. Plot these to see if there are any volumes with\n",
    "particularly unusual standard deviation."
   ]
  },
  {
   "cell_type": "code",
   "execution_count": null,
   "id": "7e116069",
   "metadata": {},
   "outputs": [],
   "source": [
    "#- Get standard deviation for each volume; then plot the values\n",
    "stds = []\n",
    "for i in range(data.shape[-1]):\n",
    "    ...\n",
    "# Show the result\n",
    "plt.plot(stds)"
   ]
  },
  {
   "cell_type": "markdown",
   "id": "353d8b78",
   "metadata": {},
   "source": [
    "The [SPM imaging analysis software](https://www.fil.ion.ucl.ac.uk/spm) uses a\n",
    "measure called “global signal” to give a very rough estimate of the average\n",
    "signal value within the brain. The idea is that you need a threshold to select\n",
    "voxels with signal high enough to be inside the brain, and not in the air\n",
    "around the brain, which has very low (near 0) signal.\n",
    "\n",
    "The algorithm goes like this.\n",
    "\n",
    "* Get a single 3D volume V;\n",
    "* Calculate the mean signal of the voxels in V; call that M;\n",
    "* Make a threshold T where T = M / 8.\n",
    "* Select all voxel values in V that are greater than T; call these values W;\n",
    "* Return the mean of all values in W.\n",
    "\n",
    "See [SPM global image\n",
    "signal](http://imaging.mrc-cbu.cam.ac.uk/imaging/PrinciplesStatistics#Global_image_signal).\n",
    "\n",
    "In the SPM code, the algorithm is implemented in a MATLAB function called\n",
    "`spm_global`.\n",
    "\n",
    "I used the MATLAB script [get_global_signals.m](./get_global_signals.m)\n",
    "to run the `spm_global` MATLAB function on the volumes of\n",
    "`ds107_sub012_t1r2.nii`. The script saved the SPM global values to a text\n",
    "file [global_signals.txt](./global_signals.txt). The first four lines of\n",
    "the `global_signals.txt` file look like this:\n",
    "\n",
    "```\n",
    "376.53\n",
    "375.75\n",
    "375.26\n",
    "376.01\n",
    "```\n",
    "\n",
    "Read these global values calculated by SPM into a list, and plot the values."
   ]
  },
  {
   "cell_type": "code",
   "execution_count": null,
   "id": "9bda767a",
   "metadata": {},
   "outputs": [],
   "source": [
    "#- Read global signal values calculated by SPM, and plot\n",
    "global_signals = ...\n",
    "plt...."
   ]
  },
  {
   "cell_type": "markdown",
   "id": "3507e526",
   "metadata": {},
   "source": [
    "Now implement the algorithm above to recalculate the SPM global signal\n",
    "for the first volume (volume index zero).\n",
    "\n",
    "**Hint**: you will likely need to index using a Boolean (mask) array.\n",
    "Remember, the steps are:\n",
    "\n",
    "* Get a single 3D volume `V`;\n",
    "* Calculate the mean signal of the voxels in `V`; call that `M`;\n",
    "* Make a threshold `T` where `T = M / 8`.\n",
    "* Select all voxel values in `V` that are greater than `T`; call these\n",
    "  values `W`; Get the mean of all values in `W`.\n",
    "\n",
    "You should get the same value as SPM - the first value you read from\n",
    "`global_signals.txt`."
   ]
  },
  {
   "cell_type": "code",
   "execution_count": null,
   "id": "b903a9e8",
   "metadata": {},
   "outputs": [],
   "source": [
    "#- Apply algorithm for SPM global calculation to first volume\n",
    "#- Get volume data.\n",
    "vol = ...\n",
    "#- Calculate threshold\n",
    "T = ...\n",
    "#- Select voxels greater than T\n",
    "voxels_within = ..\n",
    "#- Calculate mean\n",
    "mean_over_T = ...\n",
    "# Show the result\n",
    "mean_over_T"
   ]
  },
  {
   "cell_type": "code",
   "execution_count": null,
   "id": "7701babc",
   "metadata": {},
   "outputs": [],
   "source": [
    "# Check against value calculated by SPM\n",
    "assert round(mean_over_T, 2) == 376.53"
   ]
  },
  {
   "cell_type": "markdown",
   "id": "70837caa",
   "metadata": {},
   "source": [
    "Make a function called `spm_global` that accepts a 3D array as input, and\n",
    "returns the global signal using the SPM algorithm. You will see there is a line\n",
    "to call that function on the first volume to show that it is working.\n",
    "\n",
    "If you don't remember how to make your own functions, the cell has a skeleton\n",
    "for the function, but it does not yet work correctly - it always returns the\n",
    "value 42."
   ]
  },
  {
   "cell_type": "code",
   "execution_count": null,
   "id": "14d9ea47",
   "metadata": {},
   "outputs": [],
   "source": [
    "# Make an `spm_global` function that accepts a 3D array as input,\n",
    "# and returns the global mean for the volume according to the SPM\n",
    "# algorithm\n",
    "def spm_global(vol):\n",
    "    # vol is a 3D array.\n",
    "    # Calculate a value, as in:\n",
    "    T = 42  # This is not right!\n",
    "    return T  # Return the value from the function.\n",
    "# Show the result from the calling the function on the first volume.\n",
    "print(spm_global(data[:, :, :, 0]))"
   ]
  },
  {
   "cell_type": "markdown",
   "id": "42224f0e",
   "metadata": {},
   "source": [
    "Make a function called `get_spm_globals` that accepts an image filename as\n",
    "an argument. The function will load the image, get the array data for the\n",
    "image, use your new `spm_global` function calculate the global value for\n",
    "each volume, and return these values as a list."
   ]
  },
  {
   "cell_type": "code",
   "execution_count": null,
   "id": "2396d8e9",
   "metadata": {},
   "outputs": [],
   "source": [
    "# Write a function `get_spm_globals` that returns the global values\n",
    "# for each volume\n",
    "def get_spm_globals(fname):\n",
    "    #- Load the image given by \"fname\".\n",
    "    #- Get the data\n",
    "    #- Calculate the SPM global value for each volume.\n",
    "    ...\n",
    "    return spm_vals  # Return the result.\n",
    "# Call the function to get the result.\n",
    "all_globals = get_spm_globals(image_fname)\n",
    "# Plot the result.\n",
    "plt.plot(all_globals)"
   ]
  },
  {
   "cell_type": "markdown",
   "id": "6861f9b6",
   "metadata": {},
   "source": [
    "## Done.\n",
    "\n",
    "Congratulations, you're done with the assignment!  Be sure to:\n",
    "\n",
    "- **run all the tests** by using Kernel - Restart and Run All.\n",
    "- **Save and Checkpoint** from the `File` menu, to keep a record of your\n",
    "  solution.\n",
    "\n",
    "You might now want to look at [the\n",
    "solution](four_dimensions_solution.ipynb)."
   ]
  }
 ],
 "metadata": {
  "jupytext": {
   "notebook_metadata_filter": "all,-language_info",
   "split_at_heading": true,
   "text_representation": {
    "extension": ".Rmd",
    "format_name": "rmarkdown",
    "format_version": "1.2",
    "jupytext_version": "1.13.7"
   }
  },
  "kernelspec": {
   "display_name": "Python 3",
   "language": "python",
   "name": "python3"
  }
 },
 "nbformat": 4,
 "nbformat_minor": 5
}
