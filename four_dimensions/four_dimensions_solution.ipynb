{
 "cells": [
  {
   "cell_type": "markdown",
   "id": "a50f177c",
   "metadata": {},
   "source": [
    "# Lost in the fourth dimension"
   ]
  },
  {
   "cell_type": "code",
   "execution_count": 1,
   "id": "5411d13b",
   "metadata": {
    "execution": {
     "iopub.execute_input": "2022-08-24T17:29:20.643371Z",
     "iopub.status.busy": "2022-08-24T17:29:20.642280Z",
     "iopub.status.idle": "2022-08-24T17:29:21.762537Z",
     "shell.execute_reply": "2022-08-24T17:29:21.762984Z"
    }
   },
   "outputs": [],
   "source": [
    "#: Our usual imports\n",
    "import numpy as np  # the Python array package\n",
    "import matplotlib.pyplot as plt  # the Python plotting package"
   ]
  },
  {
   "cell_type": "markdown",
   "id": "594390b1",
   "metadata": {},
   "source": [
    "We are going to load a four-dimensional (X, Y, Z, t) BOLD image called\n",
    "`ds107_sub012_t1r2.nii`.   First, fetch the image from the web."
   ]
  },
  {
   "cell_type": "code",
   "execution_count": 2,
   "id": "c6a8a375",
   "metadata": {
    "execution": {
     "iopub.execute_input": "2022-08-24T17:29:21.767303Z",
     "iopub.status.busy": "2022-08-24T17:29:21.766491Z",
     "iopub.status.idle": "2022-08-24T17:29:21.926759Z",
     "shell.execute_reply": "2022-08-24T17:29:21.926303Z"
    }
   },
   "outputs": [],
   "source": [
    "import nipraxis\n",
    "image_fname = nipraxis.fetch_file('ds107_sub012_t1r2.nii')\n",
    "# Show the filename of the downloaded file.\n",
    "image_fname"
   ]
  },
  {
   "cell_type": "markdown",
   "id": "f3bb390c",
   "metadata": {},
   "source": [
    "Import the `nibabel` module, and load the image with nibabel to create an\n",
    "image object."
   ]
  },
  {
   "cell_type": "code",
   "execution_count": 3,
   "id": "5b55efe0",
   "metadata": {
    "execution": {
     "iopub.execute_input": "2022-08-24T17:29:21.930833Z",
     "iopub.status.busy": "2022-08-24T17:29:21.930158Z",
     "iopub.status.idle": "2022-08-24T17:29:22.114262Z",
     "shell.execute_reply": "2022-08-24T17:29:22.114823Z"
    }
   },
   "outputs": [],
   "source": [
    "#- Import nibabel\n",
    "import nibabel as nib\n",
    "\n",
    "#- Load the image\n",
    "img = nib.load(image_fname)\n",
    "\n",
    "# Show the result\n",
    "img"
   ]
  },
  {
   "cell_type": "code",
   "execution_count": 4,
   "id": "a61825c6",
   "metadata": {
    "execution": {
     "iopub.execute_input": "2022-08-24T17:29:22.121510Z",
     "iopub.status.busy": "2022-08-24T17:29:22.120435Z",
     "iopub.status.idle": "2022-08-24T17:29:22.123145Z",
     "shell.execute_reply": "2022-08-24T17:29:22.123661Z"
    }
   },
   "outputs": [],
   "source": [
    "assert 'img' in dir()\n",
    "assert img is not ...\n",
    "assert hasattr(img, 'header')"
   ]
  },
  {
   "cell_type": "markdown",
   "id": "edc4fe74",
   "metadata": {},
   "source": [
    "In the usual way get the floating point array data from this image and show\n",
    "the image shape."
   ]
  },
  {
   "cell_type": "code",
   "execution_count": 5,
   "id": "42f6caeb",
   "metadata": {
    "execution": {
     "iopub.execute_input": "2022-08-24T17:29:22.151572Z",
     "iopub.status.busy": "2022-08-24T17:29:22.150124Z",
     "iopub.status.idle": "2022-08-24T17:29:22.260945Z",
     "shell.execute_reply": "2022-08-24T17:29:22.261459Z"
    }
   },
   "outputs": [],
   "source": [
    "#- Get image array data from image object\n",
    "data = img.get_fdata()\n",
    "\n",
    "# Show the shape.\n",
    "data.shape"
   ]
  },
  {
   "cell_type": "markdown",
   "id": "5f296663",
   "metadata": {},
   "source": [
    "Select the volume at time position 9 from 4D image data array, by slicing over\n",
    "the last dimension.  Note the shape."
   ]
  },
  {
   "cell_type": "code",
   "execution_count": 6,
   "id": "7e752d7a",
   "metadata": {
    "execution": {
     "iopub.execute_input": "2022-08-24T17:29:22.265867Z",
     "iopub.status.busy": "2022-08-24T17:29:22.265146Z",
     "iopub.status.idle": "2022-08-24T17:29:22.267776Z",
     "shell.execute_reply": "2022-08-24T17:29:22.268203Z"
    }
   },
   "outputs": [],
   "source": [
    "#- Get the 10th volume.\n",
    "tenth_vol = data[..., 9]\n",
    "# Show the shape.\n",
    "tenth_vol.shape"
   ]
  },
  {
   "cell_type": "markdown",
   "id": "f32844ae",
   "metadata": {},
   "source": [
    "Get the standard deviation across all voxels in this 3D volume:"
   ]
  },
  {
   "cell_type": "code",
   "execution_count": 7,
   "id": "0e35ee14",
   "metadata": {
    "execution": {
     "iopub.execute_input": "2022-08-24T17:29:22.272533Z",
     "iopub.status.busy": "2022-08-24T17:29:22.271856Z",
     "iopub.status.idle": "2022-08-24T17:29:22.275567Z",
     "shell.execute_reply": "2022-08-24T17:29:22.276169Z"
    }
   },
   "outputs": [],
   "source": [
    "#- Standard deviation across all voxels for 10th volume\n",
    "ten_std = np.std(tenth_vol)\n",
    "# Show the result\n",
    "ten_std"
   ]
  },
  {
   "cell_type": "code",
   "execution_count": 8,
   "id": "f3a260ad",
   "metadata": {
    "execution": {
     "iopub.execute_input": "2022-08-24T17:29:22.280794Z",
     "iopub.status.busy": "2022-08-24T17:29:22.280106Z",
     "iopub.status.idle": "2022-08-24T17:29:22.282010Z",
     "shell.execute_reply": "2022-08-24T17:29:22.282447Z"
    }
   },
   "outputs": [],
   "source": [
    "assert np.allclose(ten_std, 387.1928)"
   ]
  },
  {
   "cell_type": "markdown",
   "id": "defac027",
   "metadata": {},
   "source": [
    "Loop over all volumes in the 4D image and store the standard deviation for\n",
    "each volume in a list. Plot these to see if there are any volumes with\n",
    "particularly unusual standard deviation."
   ]
  },
  {
   "cell_type": "code",
   "execution_count": 9,
   "id": "23db9904",
   "metadata": {
    "execution": {
     "iopub.execute_input": "2022-08-24T17:29:22.287744Z",
     "iopub.status.busy": "2022-08-24T17:29:22.286841Z",
     "iopub.status.idle": "2022-08-24T17:29:22.512621Z",
     "shell.execute_reply": "2022-08-24T17:29:22.513043Z"
    }
   },
   "outputs": [],
   "source": [
    "#- Get standard deviation for each volume; then plot the values\n",
    "stds = []\n",
    "for i in range(data.shape[-1]):\n",
    "    vol = data[..., i]\n",
    "    stds.append(np.std(vol))\n",
    "\n",
    "# Show the result\n",
    "plt.plot(stds)"
   ]
  },
  {
   "cell_type": "markdown",
   "id": "2ce29c84",
   "metadata": {},
   "source": [
    "The [SPM imaging analysis software](https://www.fil.ion.ucl.ac.uk/spm) uses a\n",
    "measure called “global signal” to give a very rough estimate of the average\n",
    "signal value within the brain. The idea is that you need a threshold to select\n",
    "voxels with signal high enough to be inside the brain, and not in the air\n",
    "around the brain, which has very low (near 0) signal.\n",
    "\n",
    "The algorithm goes like this.\n",
    "\n",
    "* Get a single 3D volume V;\n",
    "* Calculate the mean signal of the voxels in V; call that M;\n",
    "* Make a threshold T where T = M / 8.\n",
    "* Select all voxel values in V that are greater than T; call these values W;\n",
    "* Return the mean of all values in W.\n",
    "\n",
    "See [SPM global image\n",
    "signal](http://imaging.mrc-cbu.cam.ac.uk/imaging/PrinciplesStatistics#Global_image_signal).\n",
    "\n",
    "In the SPM code, the algorithm is implemented in a MATLAB function called\n",
    "`spm_global`.\n",
    "\n",
    "I used the MATLAB script [get_global_signals.m](./get_global_signals.m)\n",
    "to run the `spm_global` MATLAB function on the volumes of\n",
    "`ds107_sub012_t1r2.nii`. The script saved the SPM global values to a text\n",
    "file [global_signals.txt](./global_signals.txt). The first four lines of\n",
    "the `global_signals.txt` file look like this:\n",
    "\n",
    "```\n",
    "376.53\n",
    "375.75\n",
    "375.26\n",
    "376.01\n",
    "```\n",
    "\n",
    "Read these global values calculated by SPM into a list, and plot the values."
   ]
  },
  {
   "cell_type": "code",
   "execution_count": 10,
   "id": "a5ddade6",
   "metadata": {
    "execution": {
     "iopub.execute_input": "2022-08-24T17:29:22.519582Z",
     "iopub.status.busy": "2022-08-24T17:29:22.517218Z",
     "iopub.status.idle": "2022-08-24T17:29:22.660995Z",
     "shell.execute_reply": "2022-08-24T17:29:22.661417Z"
    }
   },
   "outputs": [],
   "source": [
    "#- Read global signal values calculated by SPM, and plot\n",
    "global_signals = np.loadtxt('global_signals.txt')\n",
    "plt.plot(global_signals)"
   ]
  },
  {
   "cell_type": "markdown",
   "id": "2dd47c10",
   "metadata": {},
   "source": [
    "Now implement the algorithm above to recalculate the SPM global signal\n",
    "for the first volume (volume index zero).\n",
    "\n",
    "**Hint**: you will likely need to index using a Boolean (mask) array.\n",
    "Remember, the steps are:\n",
    "\n",
    "* Get a single 3D volume `V`;\n",
    "* Calculate the mean signal of the voxels in `V`; call that `M`;\n",
    "* Make a threshold `T` where `T = M / 8`.\n",
    "* Select all voxel values in `V` that are greater than `T`; call these\n",
    "  values `W`; Get the mean of all values in `W`.\n",
    "\n",
    "You should get the same value as SPM - the first value you read from\n",
    "`global_signals.txt`."
   ]
  },
  {
   "cell_type": "code",
   "execution_count": 11,
   "id": "8f2b2aaa",
   "metadata": {
    "execution": {
     "iopub.execute_input": "2022-08-24T17:29:22.667016Z",
     "iopub.status.busy": "2022-08-24T17:29:22.665904Z",
     "iopub.status.idle": "2022-08-24T17:29:22.670454Z",
     "shell.execute_reply": "2022-08-24T17:29:22.670869Z"
    }
   },
   "outputs": [],
   "source": [
    "#- Apply algorithm for SPM global calculation to first volume\n",
    "#- Get volume data.\n",
    "vol = data[..., 0]\n",
    "#- Calculate threshold\n",
    "T = np.mean(vol)/ 8\n",
    "#- Select voxels greater than T\n",
    "msk = vol > T\n",
    "voxels_within = vol[msk]\n",
    "#- Calculate mean\n",
    "mean_over_T = np.mean(voxels_within)\n",
    "# Show the result\n",
    "mean_over_T"
   ]
  },
  {
   "cell_type": "code",
   "execution_count": 12,
   "id": "ede344a2",
   "metadata": {
    "execution": {
     "iopub.execute_input": "2022-08-24T17:29:22.674843Z",
     "iopub.status.busy": "2022-08-24T17:29:22.674165Z",
     "iopub.status.idle": "2022-08-24T17:29:22.676072Z",
     "shell.execute_reply": "2022-08-24T17:29:22.676598Z"
    }
   },
   "outputs": [],
   "source": [
    "# Check against value calculated by SPM\n",
    "assert round(mean_over_T, 2) == 376.53"
   ]
  },
  {
   "cell_type": "markdown",
   "id": "039246e8",
   "metadata": {},
   "source": [
    "Make a function called `spm_global` that accepts a 3D array as input, and\n",
    "returns the global signal using the SPM algorithm. You will see there is a line\n",
    "to call that function on the first volume to show that it is working.\n",
    "\n",
    "If you don't remember how to make your own functions, the cell has a skeleton\n",
    "for the function, but it does not yet work correctly - it always returns the\n",
    "value 42."
   ]
  },
  {
   "cell_type": "code",
   "execution_count": 13,
   "id": "0e67ec09",
   "metadata": {
    "execution": {
     "iopub.execute_input": "2022-08-24T17:29:22.682793Z",
     "iopub.status.busy": "2022-08-24T17:29:22.681812Z",
     "iopub.status.idle": "2022-08-24T17:29:22.686195Z",
     "shell.execute_reply": "2022-08-24T17:29:22.686607Z"
    }
   },
   "outputs": [],
   "source": [
    "# Make an `spm_global` function that accepts a 3D array as input,\n",
    "# and returns the global mean for the volume according to the SPM\n",
    "# algorithm\n",
    "def spm_global(vol):\n",
    "    # vol is a 3D array.\n",
    "    T = np.mean(vol) / 8\n",
    "    return np.mean(vol[vol > T])\n",
    "\n",
    "# Show the result from the calling the function on the first volume.\n",
    "print(spm_global(data[:, :, :, 0]))"
   ]
  },
  {
   "cell_type": "markdown",
   "id": "09c33251",
   "metadata": {},
   "source": [
    "Make a function called `get_spm_globals` that accepts an image filename as\n",
    "an argument. The function will load the image, get the array data for the\n",
    "image, use your new `spm_global` function calculate the global value for\n",
    "each volume, and return these values as a list."
   ]
  },
  {
   "cell_type": "code",
   "execution_count": 14,
   "id": "63a0ef96",
   "metadata": {
    "execution": {
     "iopub.execute_input": "2022-08-24T17:29:22.692508Z",
     "iopub.status.busy": "2022-08-24T17:29:22.691842Z",
     "iopub.status.idle": "2022-08-24T17:29:23.204782Z",
     "shell.execute_reply": "2022-08-24T17:29:23.205208Z"
    }
   },
   "outputs": [],
   "source": [
    "# Write a function `get_spm_globals` that returns the global values\n",
    "# for each volume\n",
    "def get_spm_globals(fname):\n",
    "    #- Load the image given by \"fname\".\n",
    "    img = nib.load(fname)\n",
    "    #- Get the data\n",
    "    data = img.get_fdata()\n",
    "    #- Calculate the SPM global value for each volume.\n",
    "    spm_vals = []\n",
    "    for i in range(data.shape[-1]):\n",
    "        vol = data[..., i]\n",
    "        spm_vals.append(spm_global(vol))\n",
    "    return spm_vals  # Return the result.\n",
    "\n",
    "# Call the function to get the result.\n",
    "all_globals = get_spm_globals(image_fname)\n",
    "# Plot the result.\n",
    "plt.plot(all_globals)"
   ]
  },
  {
   "cell_type": "markdown",
   "id": "07ed152e",
   "metadata": {},
   "source": [
    "## Done.\n",
    "\n",
    "Congratulations, you're done with the assignment!  Be sure to:\n",
    "\n",
    "- **run all the tests** by using Kernel - Restart and Run All.\n",
    "- **Save and Checkpoint** from the `File` menu, to keep a record of your\n",
    "  solution.\n",
    "\n",
    "You might now want to look at [the\n",
    "solution](four_dimensions_solution.ipynb)."
   ]
  }
 ],
 "metadata": {
  "jupytext": {
   "notebook_metadata_filter": "all,-language_info",
   "split_at_heading": true,
   "text_representation": {
    "extension": ".Rmd",
    "format_name": "rmarkdown",
    "format_version": "1.2",
    "jupytext_version": "1.13.7"
   }
  },
  "kernelspec": {
   "display_name": "Python 3",
   "language": "python",
   "name": "python3"
  },
  "language_info": {
   "codemirror_mode": {
    "name": "ipython",
    "version": 3
   },
   "file_extension": ".py",
   "mimetype": "text/x-python",
   "name": "python",
   "nbconvert_exporter": "python",
   "pygments_lexer": "ipython3",
   "version": "3.8.13"
  }
 },
 "nbformat": 4,
 "nbformat_minor": 5
}
