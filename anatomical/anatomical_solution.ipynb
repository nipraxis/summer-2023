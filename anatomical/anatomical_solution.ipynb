{
 "cells": [
  {
   "cell_type": "markdown",
   "id": "0493ea0b",
   "metadata": {},
   "source": [
    "# An anatomical image"
   ]
  },
  {
   "cell_type": "code",
   "execution_count": 1,
   "id": "ec977971",
   "metadata": {
    "execution": {
     "iopub.execute_input": "2022-04-11T21:24:36.283992Z",
     "iopub.status.busy": "2022-04-11T21:24:36.283314Z",
     "iopub.status.idle": "2022-04-11T21:24:36.555112Z",
     "shell.execute_reply": "2022-04-11T21:24:36.555544Z"
    }
   },
   "outputs": [],
   "source": [
    "# Don't change this cell; just run it.\n",
    "import numpy as np  # The array library.\n",
    "import matplotlib.pyplot as plt  # the Python plotting package"
   ]
  },
  {
   "cell_type": "markdown",
   "id": "55dee086",
   "metadata": {},
   "source": [
    "This cell loads some machinery for testing your answers:"
   ]
  },
  {
   "cell_type": "code",
   "execution_count": 2,
   "id": "ab5a6a6f",
   "metadata": {
    "execution": {
     "iopub.execute_input": "2022-04-11T21:24:36.559658Z",
     "iopub.status.busy": "2022-04-11T21:24:36.559066Z",
     "iopub.status.idle": "2022-04-11T21:24:36.619916Z",
     "shell.execute_reply": "2022-04-11T21:24:36.620297Z"
    }
   },
   "outputs": [],
   "source": [
    "import notetest"
   ]
  },
  {
   "cell_type": "markdown",
   "id": "335faa61",
   "metadata": {},
   "source": [
    "Now we will work with a 3D brain image.\n",
    "\n",
    "Like the camera image in Cameraman problem, the pixel data for the 3D image is\n",
    "in a text file called `anatomical.txt`.   We fetch it using the Nipraxis library:"
   ]
  },
  {
   "cell_type": "code",
   "execution_count": 3,
   "id": "b035a42a",
   "metadata": {
    "execution": {
     "iopub.execute_input": "2022-04-11T21:24:36.624373Z",
     "iopub.status.busy": "2022-04-11T21:24:36.623713Z",
     "iopub.status.idle": "2022-04-11T21:24:36.642600Z",
     "shell.execute_reply": "2022-04-11T21:24:36.643026Z"
    },
    "lines_to_next_cell": 2
   },
   "outputs": [],
   "source": [
    "import nipraxis\n",
    "anat_fname = nipraxis.fetch_file('anatomical.txt')\n",
    "# Show the file name\n",
    "anat_fname"
   ]
  },
  {
   "cell_type": "markdown",
   "id": "2accad3b",
   "metadata": {},
   "source": [
    "We happen to know this image has length 32 on the third dimension, but we\n",
    "don’t know what the size of the first two dimensions are.\n",
    "\n",
    "So, we know the image is of shape (`I`, `J`, 32), but we don’t know what `I`\n",
    "and `J` are.\n",
    "\n",
    "Here are the first four lines of `anatomical.txt`.\n",
    "\n",
    "```\n",
    "0.0000\n",
    "0.0000\n",
    "53.0000\n",
    "43.0000\n",
    "```\n",
    "\n",
    "The data is in the same floating point text format as the camera picture pixel\n",
    "data.\n",
    "\n",
    "Read all the lines of the file into a list of float values, as before."
   ]
  },
  {
   "cell_type": "code",
   "execution_count": 4,
   "id": "3b11f5c8",
   "metadata": {
    "execution": {
     "iopub.execute_input": "2022-04-11T21:24:36.647187Z",
     "iopub.status.busy": "2022-04-11T21:24:36.646580Z",
     "iopub.status.idle": "2022-04-11T21:24:36.965625Z",
     "shell.execute_reply": "2022-04-11T21:24:36.966091Z"
    }
   },
   "outputs": [],
   "source": [
    "# Run this cell.\n",
    "# Read all the lines of the file into a list.\n",
    "lines = open(anat_fname, 'rt').readlines()\n",
    "# Convert to float values.\n",
    "pixel_values = []\n",
    "for line in lines:\n",
    "    pixel_values.append(float(line))\n",
    "# Show the first 15 values.\n",
    "pixel_values[:15]"
   ]
  },
  {
   "cell_type": "markdown",
   "id": "a495ce32",
   "metadata": {},
   "source": [
    "For later convenience, we make the list into an array:"
   ]
  },
  {
   "cell_type": "code",
   "execution_count": 5,
   "id": "a61d57c4",
   "metadata": {
    "execution": {
     "iopub.execute_input": "2022-04-11T21:24:37.019472Z",
     "iopub.status.busy": "2022-04-11T21:24:37.018770Z",
     "iopub.status.idle": "2022-04-11T21:24:37.021404Z",
     "shell.execute_reply": "2022-04-11T21:24:37.021822Z"
    }
   },
   "outputs": [],
   "source": [
    "# Run this cell.\n",
    "pixel_array = np.array(pixel_values)\n",
    "# Show the first 15 values.\n",
    "pixel_array[:15]"
   ]
  },
  {
   "cell_type": "markdown",
   "id": "9174a7a6",
   "metadata": {},
   "source": [
    "And in fact, here we will show you a short-cut for these kinds of simple text files.  You can use a function called `np.loadtxt` to load them directly as a Numpy array:"
   ]
  },
  {
   "cell_type": "code",
   "execution_count": 6,
   "id": "1ce451ec",
   "metadata": {
    "execution": {
     "iopub.execute_input": "2022-04-11T21:24:37.025714Z",
     "iopub.status.busy": "2022-04-11T21:24:37.025112Z",
     "iopub.status.idle": "2022-04-11T21:24:38.364748Z",
     "shell.execute_reply": "2022-04-11T21:24:38.365161Z"
    }
   },
   "outputs": [],
   "source": [
    "# Run this cell.\n",
    "pixel_array = np.loadtxt(anat_fname)\n",
    "# Show the first 15 values.\n",
    "pixel_array[:15]"
   ]
  },
  {
   "cell_type": "markdown",
   "id": "0be5140d",
   "metadata": {},
   "source": [
    "How many pixel values does this file contain?"
   ]
  },
  {
   "cell_type": "code",
   "execution_count": 7,
   "id": "d0ce0a2a",
   "metadata": {
    "execution": {
     "iopub.execute_input": "2022-04-11T21:24:38.368988Z",
     "iopub.status.busy": "2022-04-11T21:24:38.368307Z",
     "iopub.status.idle": "2022-04-11T21:24:38.370900Z",
     "shell.execute_reply": "2022-04-11T21:24:38.371346Z"
    }
   },
   "outputs": [],
   "source": [
    "#- How many pixel values?\n",
    "n_pixels = len(pixel_array)\n",
    "# or\n",
    "# n_pixels = pixel_array.shape[0]\n",
    "# Show the number of pixels.\n",
    "n_pixels"
   ]
  },
  {
   "cell_type": "code",
   "execution_count": 8,
   "id": "1cd6b1df",
   "metadata": {
    "execution": {
     "iopub.execute_input": "2022-04-11T21:24:38.375073Z",
     "iopub.status.busy": "2022-04-11T21:24:38.374444Z",
     "iopub.status.idle": "2022-04-11T21:24:38.473882Z",
     "shell.execute_reply": "2022-04-11T21:24:38.474366Z"
    }
   },
   "outputs": [],
   "source": [
    "# Test your answer\n",
    "assert 'n_pixels' in dir()\n",
    "assert n_pixels is not ...\n",
    "assert n_pixels == notetest.get_n_pixels()"
   ]
  },
  {
   "cell_type": "markdown",
   "id": "940bfd1e",
   "metadata": {},
   "source": [
    "When I have my image array correctly shaped, then, if I take a slice over the\n",
    "third dimension:\n",
    "\n",
    "```\n",
    "slice_on_third = image_array[:, :, 0]\n",
    "```\n",
    "\n",
    "`slice_on_third` will be shape `(I, J)` (the size of the first two\n",
    "dimensions).\n",
    "\n",
    "How many pixel values does a slice in the third dimension contain - given that\n",
    "we know the third dimension is length 32? Put another way, what is the value\n",
    "for `I * J`?"
   ]
  },
  {
   "cell_type": "code",
   "execution_count": 9,
   "id": "3c7681fa",
   "metadata": {
    "execution": {
     "iopub.execute_input": "2022-04-11T21:24:38.478639Z",
     "iopub.status.busy": "2022-04-11T21:24:38.477982Z",
     "iopub.status.idle": "2022-04-11T21:24:38.480435Z",
     "shell.execute_reply": "2022-04-11T21:24:38.480912Z"
    }
   },
   "outputs": [],
   "source": [
    "#- Find the size of a slice over the third dimension\n",
    "P = len(pixel_array) / 32\n",
    "# Show the number of pixels in a slice.\n",
    "P"
   ]
  },
  {
   "cell_type": "code",
   "execution_count": 10,
   "id": "17f68f0b",
   "metadata": {
    "execution": {
     "iopub.execute_input": "2022-04-11T21:24:38.484551Z",
     "iopub.status.busy": "2022-04-11T21:24:38.483968Z",
     "iopub.status.idle": "2022-04-11T21:24:38.485860Z",
     "shell.execute_reply": "2022-04-11T21:24:38.486284Z"
    }
   },
   "outputs": [],
   "source": [
    "# Test your answer\n",
    "assert 'P' in dir()\n",
    "assert P is not ...\n",
    "assert P == notetest.get_n_pixels_slice()"
   ]
  },
  {
   "cell_type": "markdown",
   "id": "b010d47e",
   "metadata": {},
   "source": [
    "Call `P` the number of values per slice on the third dimension.\n",
    "\n",
    "Therefore, `P == I * J` where we don’t yet know `I` or `J`.\n",
    "\n",
    "We need to find the values for `I` and `J`.\n",
    "\n",
    "Find all possible candidates for `I` by using the modulus operator (`%`) to\n",
    "find a few numbers between 120 and 200 that divide exactly into the slice size\n",
    "`P`.\n",
    "\n",
    "**Hint**: you may consider using `range` or `np.arange`.\n",
    "\n",
    "**Hint**: the first value will be 120, because:"
   ]
  },
  {
   "cell_type": "code",
   "execution_count": 11,
   "id": "79e3ef07",
   "metadata": {
    "execution": {
     "iopub.execute_input": "2022-04-11T21:24:38.490020Z",
     "iopub.status.busy": "2022-04-11T21:24:38.489185Z",
     "iopub.status.idle": "2022-04-11T21:24:38.491999Z",
     "shell.execute_reply": "2022-04-11T21:24:38.492421Z"
    }
   },
   "outputs": [],
   "source": [
    "P % 120"
   ]
  },
  {
   "cell_type": "code",
   "execution_count": 12,
   "id": "c55d6424",
   "metadata": {
    "execution": {
     "iopub.execute_input": "2022-04-11T21:24:38.496927Z",
     "iopub.status.busy": "2022-04-11T21:24:38.496303Z",
     "iopub.status.idle": "2022-04-11T21:24:38.498923Z",
     "shell.execute_reply": "2022-04-11T21:24:38.499451Z"
    }
   },
   "outputs": [],
   "source": [
    "#- Find candidates for I\n",
    "candidates = []\n",
    "for i in range(120, 201):\n",
    "    if P % i == 0:\n",
    "        candidates.append(i)\n",
    "# Show the candidates.\n",
    "candidates"
   ]
  },
  {
   "cell_type": "code",
   "execution_count": 13,
   "id": "8013e109",
   "metadata": {
    "execution": {
     "iopub.execute_input": "2022-04-11T21:24:38.503364Z",
     "iopub.status.busy": "2022-04-11T21:24:38.502783Z",
     "iopub.status.idle": "2022-04-11T21:24:38.504536Z",
     "shell.execute_reply": "2022-04-11T21:24:38.505018Z"
    }
   },
   "outputs": [],
   "source": [
    "# Test your answers.\n",
    "assert len(candidates) == 6\n",
    "assert candidates[0] == 120\n",
    "assert candidates[-1] == 195\n",
    "assert list(candidates) == notetest.get_candidates()"
   ]
  },
  {
   "cell_type": "markdown",
   "id": "580e8322",
   "metadata": {},
   "source": [
    "These numbers are candidates for `I` - the first number in the pair `(I, J)`.\n",
    "We now need to find the corresponding `J` for each candidate for `I`.\n",
    "\n",
    "Your next task is to compile a list of pairs of numbers `I` and `J` such that\n",
    "`I * J == P`.\n",
    "\n",
    "**Hint**: The first pair of `I, J` is `[120, 221]`.\n",
    "\n",
    "**Hint**: You might want to use the integer division operator (`//`).\n",
    "\n",
    "**Hint**: A list can have elements that are lists.  For example:"
   ]
  },
  {
   "cell_type": "code",
   "execution_count": 14,
   "id": "9970900a",
   "metadata": {
    "execution": {
     "iopub.execute_input": "2022-04-11T21:24:38.509397Z",
     "iopub.status.busy": "2022-04-11T21:24:38.508755Z",
     "iopub.status.idle": "2022-04-11T21:24:38.511226Z",
     "shell.execute_reply": "2022-04-11T21:24:38.511643Z"
    }
   },
   "outputs": [],
   "source": [
    "# This is a continuation of the hint.  A list can contain lists.\n",
    "my_list = []\n",
    "my_list.append([1, 2, 3])\n",
    "my_list.append([10, 12])\n",
    "my_list"
   ]
  },
  {
   "cell_type": "code",
   "execution_count": 15,
   "id": "8e9a679a",
   "metadata": {
    "execution": {
     "iopub.execute_input": "2022-04-11T21:24:38.516084Z",
     "iopub.status.busy": "2022-04-11T21:24:38.515388Z",
     "iopub.status.idle": "2022-04-11T21:24:38.517825Z",
     "shell.execute_reply": "2022-04-11T21:24:38.518323Z"
    }
   },
   "outputs": [],
   "source": [
    "#- Find candidate pairs for I, J\n",
    "pairs = []\n",
    "for candidate in candidates:\n",
    "    pair = [candidate, P // candidate]\n",
    "    pairs.append(pair)\n",
    "# Show the pairs.\n",
    "pairs"
   ]
  },
  {
   "cell_type": "code",
   "execution_count": 16,
   "id": "e465d136",
   "metadata": {
    "execution": {
     "iopub.execute_input": "2022-04-11T21:24:38.522166Z",
     "iopub.status.busy": "2022-04-11T21:24:38.521561Z",
     "iopub.status.idle": "2022-04-11T21:24:38.523685Z",
     "shell.execute_reply": "2022-04-11T21:24:38.524105Z"
    },
    "lines_to_next_cell": 2
   },
   "outputs": [],
   "source": [
    "assert len(pairs) == 6\n",
    "assert list(pairs[0]) == [120, 221]\n",
    "assert np.all(np.array(pairs) == notetest.get_pairs())"
   ]
  },
  {
   "cell_type": "markdown",
   "id": "52c862a6",
   "metadata": {},
   "source": [
    "The full image shape will be three values, with one of these `[I, J]` pairs\n",
    "followed by 32. For example, the correct shape might be `[120, 221, 32]` (it\n",
    "isn't!). Try reshaping the pixel data with a few of the `[I, J, 32]`\n",
    "candidates to see which one is likely to be right. \n",
    "\n",
    "In the call below, you are plotting a slice over the third dimension to see\n",
    "how it looks."
   ]
  },
  {
   "cell_type": "code",
   "execution_count": 17,
   "id": "72a2c7f5",
   "metadata": {
    "execution": {
     "iopub.execute_input": "2022-04-11T21:24:38.564880Z",
     "iopub.status.busy": "2022-04-11T21:24:38.564282Z",
     "iopub.status.idle": "2022-04-11T21:24:38.731960Z",
     "shell.execute_reply": "2022-04-11T21:24:38.732378Z"
    }
   },
   "outputs": [],
   "source": [
    "# Try reshaping using some candidate pairs.\n",
    "# Change the first two values of the shape below.\n",
    "full_shape = [120, 221, 32]\n",
    "# The rest of cell, you may want to leave as is.\n",
    "to_try = np.reshape(pixel_array, full_shape)\n",
    "# Plot a middle slice in the third dimension\n",
    "plt.imshow(to_try[:, :, 15])"
   ]
  },
  {
   "cell_type": "code",
   "execution_count": 18,
   "id": "3ce3d464",
   "metadata": {
    "execution": {
     "iopub.execute_input": "2022-04-11T21:24:38.736357Z",
     "iopub.status.busy": "2022-04-11T21:24:38.735720Z",
     "iopub.status.idle": "2022-04-11T21:24:38.738470Z",
     "shell.execute_reply": "2022-04-11T21:24:38.738891Z"
    }
   },
   "outputs": [],
   "source": [
    "full_shape = [170, 156, 32]\n",
    "# Show the final shape that you are happy with.\n",
    "full_shape"
   ]
  },
  {
   "cell_type": "code",
   "execution_count": 19,
   "id": "cc606141",
   "metadata": {
    "execution": {
     "iopub.execute_input": "2022-04-11T21:24:38.743766Z",
     "iopub.status.busy": "2022-04-11T21:24:38.743071Z",
     "iopub.status.idle": "2022-04-11T21:24:38.744736Z",
     "shell.execute_reply": "2022-04-11T21:24:38.745158Z"
    }
   },
   "outputs": [],
   "source": [
    "assert list(full_shape) == notetest.get_full_shape()"
   ]
  },
  {
   "cell_type": "markdown",
   "id": "6fe18c9e",
   "metadata": {},
   "source": [
    "## Done.\n",
    "\n",
    "Congratulations, you're done with the assignment!\n",
    "\n",
    "- **run all the tests** by choosing Restart and Run all from the Kernel menu.\n",
    "- **Save and Checkpoint** from the `File` menu, to save your work, in case you\n",
    "  want to come back to it later."
   ]
  }
 ],
 "metadata": {
  "jupytext": {
   "notebook_metadata_filter": "all,-language_info",
   "split_at_heading": true,
   "text_representation": {
    "extension": ".Rmd",
    "format_name": "rmarkdown",
    "format_version": "1.2",
    "jupytext_version": "1.13.7"
   }
  },
  "kernelspec": {
   "display_name": "Python 3",
   "language": "python",
   "name": "python3"
  },
  "language_info": {
   "codemirror_mode": {
    "name": "ipython",
    "version": 3
   },
   "file_extension": ".py",
   "mimetype": "text/x-python",
   "name": "python",
   "nbconvert_exporter": "python",
   "pygments_lexer": "ipython3",
   "version": "3.8.13"
  }
 },
 "nbformat": 4,
 "nbformat_minor": 5
}
