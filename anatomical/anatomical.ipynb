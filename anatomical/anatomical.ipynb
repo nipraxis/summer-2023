{
 "cells": [
  {
   "cell_type": "markdown",
   "id": "369ada0b",
   "metadata": {},
   "source": [
    "# An anatomical image"
   ]
  },
  {
   "cell_type": "code",
   "execution_count": null,
   "id": "7fd338b5",
   "metadata": {},
   "outputs": [],
   "source": [
    "# Don't change this cell; just run it.\n",
    "import numpy as np  # The array library.\n",
    "import matplotlib.pyplot as plt  # the Python plotting package"
   ]
  },
  {
   "cell_type": "markdown",
   "id": "4ab71f79",
   "metadata": {},
   "source": [
    "This cell loads some machinery for testing your answers:"
   ]
  },
  {
   "cell_type": "code",
   "execution_count": null,
   "id": "eebd1bf6",
   "metadata": {},
   "outputs": [],
   "source": [
    "import notetest"
   ]
  },
  {
   "cell_type": "markdown",
   "id": "fc8a8262",
   "metadata": {},
   "source": [
    "Now we will work with a 3D brain image.\n",
    "\n",
    "Like the camera image in Cameraman problem, the pixel data for the 3D image is\n",
    "in a text file called `anatomical.txt`.   We fetch it using the Nipraxis library:"
   ]
  },
  {
   "cell_type": "code",
   "execution_count": null,
   "id": "9887f376",
   "metadata": {
    "lines_to_next_cell": 2
   },
   "outputs": [],
   "source": [
    "import nipraxis\n",
    "anat_fname = nipraxis.fetch_file('anatomical.txt')\n",
    "# Show the file name\n",
    "anat_fname"
   ]
  },
  {
   "cell_type": "markdown",
   "id": "a2b6ca46",
   "metadata": {},
   "source": [
    "We happen to know this image has length 32 on the third dimension, but we\n",
    "don’t know what the size of the first two dimensions are.\n",
    "\n",
    "So, we know the image is of shape (`I`, `J`, 32), but we don’t know what `I`\n",
    "and `J` are.\n",
    "\n",
    "Here are the first four lines of `anatomical.txt`.\n",
    "\n",
    "```\n",
    "0.0000\n",
    "0.0000\n",
    "53.0000\n",
    "43.0000\n",
    "```\n",
    "\n",
    "The data is in the same floating point text format as the camera picture pixel\n",
    "data.\n",
    "\n",
    "Read all the lines of the file into a list of float values, as before."
   ]
  },
  {
   "cell_type": "code",
   "execution_count": null,
   "id": "3c8fd420",
   "metadata": {},
   "outputs": [],
   "source": [
    "# Run this cell.\n",
    "# Read all the lines of the file into a list.\n",
    "lines = open(anat_fname, 'rt').readlines()\n",
    "# Convert to float values.\n",
    "pixel_values = []\n",
    "for line in lines:\n",
    "    pixel_values.append(float(line))\n",
    "# Show the first 15 values.\n",
    "pixel_values[:15]"
   ]
  },
  {
   "cell_type": "markdown",
   "id": "6e0c78d9",
   "metadata": {},
   "source": [
    "For later convenience, we make the list into an array:"
   ]
  },
  {
   "cell_type": "code",
   "execution_count": null,
   "id": "deeb1a5c",
   "metadata": {},
   "outputs": [],
   "source": [
    "# Run this cell.\n",
    "pixel_array = np.array(pixel_values)\n",
    "# Show the first 15 values.\n",
    "pixel_array[:15]"
   ]
  },
  {
   "cell_type": "markdown",
   "id": "16d1f7e1",
   "metadata": {},
   "source": [
    "And in fact, here we will show you a short-cut for these kinds of simple text files.  You can use a function called `np.loadtxt` to load them directly as a Numpy array:"
   ]
  },
  {
   "cell_type": "code",
   "execution_count": null,
   "id": "0b8de208",
   "metadata": {},
   "outputs": [],
   "source": [
    "# Run this cell.\n",
    "pixel_array = np.loadtxt(anat_fname)\n",
    "# Show the first 15 values.\n",
    "pixel_array[:15]"
   ]
  },
  {
   "cell_type": "markdown",
   "id": "8c2b956f",
   "metadata": {},
   "source": [
    "How many pixel values does this file contain?"
   ]
  },
  {
   "cell_type": "code",
   "execution_count": null,
   "id": "b7b65159",
   "metadata": {},
   "outputs": [],
   "source": [
    "#- How many pixel values?\n",
    "n_pixels = ...\n",
    "# Show the number of pixels.\n",
    "n_pixels"
   ]
  },
  {
   "cell_type": "code",
   "execution_count": null,
   "id": "a467d3e6",
   "metadata": {},
   "outputs": [],
   "source": [
    "# Test your answer\n",
    "assert 'n_pixels' in dir()\n",
    "assert n_pixels is not ...\n",
    "assert n_pixels == notetest.get_n_pixels()"
   ]
  },
  {
   "cell_type": "markdown",
   "id": "37a98f30",
   "metadata": {},
   "source": [
    "When I have my image array correctly shaped, then, if I take a slice over the\n",
    "third dimension:\n",
    "\n",
    "```\n",
    "slice_on_third = image_array[:, :, 0]\n",
    "```\n",
    "\n",
    "`slice_on_third` will be shape `(I, J)` (the size of the first two\n",
    "dimensions).\n",
    "\n",
    "How many pixel values does a slice in the third dimension contain - given that\n",
    "we know the third dimension is length 32? Put another way, what is the value\n",
    "for `I * J`?"
   ]
  },
  {
   "cell_type": "code",
   "execution_count": null,
   "id": "15f15a14",
   "metadata": {},
   "outputs": [],
   "source": [
    "#- Find the size of a slice over the third dimension\n",
    "P = ...\n",
    "# Show the number of pixels in a slice.\n",
    "P"
   ]
  },
  {
   "cell_type": "code",
   "execution_count": null,
   "id": "6f993a91",
   "metadata": {},
   "outputs": [],
   "source": [
    "# Test your answer\n",
    "assert 'P' in dir()\n",
    "assert P is not ...\n",
    "assert P == notetest.get_n_pixels_slice()"
   ]
  },
  {
   "cell_type": "markdown",
   "id": "e29bb008",
   "metadata": {},
   "source": [
    "Call `P` the number of values per slice on the third dimension.\n",
    "\n",
    "Therefore, `P == I * J` where we don’t yet know `I` or `J`.\n",
    "\n",
    "We need to find the values for `I` and `J`.\n",
    "\n",
    "Find all possible candidates for `I` by using the modulus operator (`%`) to\n",
    "find a few numbers between 120 and 200 that divide exactly into the slice size\n",
    "`P`.\n",
    "\n",
    "**Hint**: you may consider using `range` or `np.arange`.\n",
    "\n",
    "**Hint**: the first value will be 120, because:"
   ]
  },
  {
   "cell_type": "code",
   "execution_count": null,
   "id": "fd472583",
   "metadata": {},
   "outputs": [],
   "source": [
    "P % 120"
   ]
  },
  {
   "cell_type": "code",
   "execution_count": null,
   "id": "bb42a2c0",
   "metadata": {},
   "outputs": [],
   "source": [
    "#- Find candidates for I\n",
    "candidates = []\n",
    "for i in range(120, 201):\n",
    "    ...\n",
    "# Show the candidates.\n",
    "candidates"
   ]
  },
  {
   "cell_type": "code",
   "execution_count": null,
   "id": "aaea6095",
   "metadata": {},
   "outputs": [],
   "source": [
    "# Test your answers.\n",
    "assert len(candidates) == 6\n",
    "assert candidates[0] == 120\n",
    "assert candidates[-1] == 195\n",
    "assert list(candidates) == notetest.get_candidates()"
   ]
  },
  {
   "cell_type": "markdown",
   "id": "be7f1180",
   "metadata": {},
   "source": [
    "These numbers are candidates for `I` - the first number in the pair `(I, J)`.\n",
    "We now need to find the corresponding `J` for each candidate for `I`.\n",
    "\n",
    "Your next task is to compile a list of pairs of numbers `I` and `J` such that\n",
    "`I * J == P`.\n",
    "\n",
    "**Hint**: The first pair of `I, J` is `[120, 221]`.\n",
    "\n",
    "**Hint**: You might want to use the integer division operator (`//`).\n",
    "\n",
    "**Hint**: A list can have elements that are lists.  For example:"
   ]
  },
  {
   "cell_type": "code",
   "execution_count": null,
   "id": "d4ab578d",
   "metadata": {},
   "outputs": [],
   "source": [
    "# This is a continuation of the hint.  A list can contain lists.\n",
    "my_list = []\n",
    "my_list.append([1, 2, 3])\n",
    "my_list.append([10, 12])\n",
    "my_list"
   ]
  },
  {
   "cell_type": "code",
   "execution_count": null,
   "id": "08ffd700",
   "metadata": {},
   "outputs": [],
   "source": [
    "#- Find candidate pairs for I, J\n",
    "pairs = []\n",
    "...\n",
    "..."
   ]
  },
  {
   "cell_type": "code",
   "execution_count": null,
   "id": "d13bd948",
   "metadata": {
    "lines_to_next_cell": 2
   },
   "outputs": [],
   "source": [
    "assert len(pairs) == 6\n",
    "assert list(pairs[0]) == [120, 221]\n",
    "assert np.all(np.array(pairs) == notetest.get_pairs())"
   ]
  },
  {
   "cell_type": "markdown",
   "id": "3068e974",
   "metadata": {},
   "source": [
    "The full image shape will be three values, with one of these `[I, J]` pairs\n",
    "followed by 32. For example, the correct shape might be `[120, 221, 32]` (it\n",
    "isn't!). Try reshaping the pixel data with a few of the `[I, J, 32]`\n",
    "candidates to see which one is likely to be right. \n",
    "\n",
    "In the call below, you are plotting a slice over the third dimension to see\n",
    "how it looks."
   ]
  },
  {
   "cell_type": "code",
   "execution_count": null,
   "id": "7a9f5de9",
   "metadata": {},
   "outputs": [],
   "source": [
    "# Try reshaping using some candidate pairs.\n",
    "# Change the first two values of the shape below.\n",
    "full_shape = [120, 221, 32]\n",
    "# The rest of cell, you may want to leave as is.\n",
    "to_try = np.reshape(pixel_array, full_shape)\n",
    "# Plot a middle slice in the third dimension\n",
    "plt.imshow(to_try[:, :, 15])"
   ]
  },
  {
   "cell_type": "code",
   "execution_count": null,
   "id": "390e69b4",
   "metadata": {},
   "outputs": [],
   "source": [
    "# Show the final shape that you are happy with.\n",
    "full_shape"
   ]
  },
  {
   "cell_type": "code",
   "execution_count": null,
   "id": "af679586",
   "metadata": {},
   "outputs": [],
   "source": [
    "assert list(full_shape) == notetest.get_full_shape()"
   ]
  },
  {
   "cell_type": "markdown",
   "id": "4d250dfb",
   "metadata": {},
   "source": [
    "## Done.\n",
    "\n",
    "Congratulations, you're done with the assignment!\n",
    "\n",
    "- **run all the tests** by choosing Restart and Run all from the Kernel menu.\n",
    "- **Save and Checkpoint** from the `File` menu, to save your work, in case you\n",
    "  want to come back to it later."
   ]
  }
 ],
 "metadata": {
  "jupytext": {
   "notebook_metadata_filter": "all,-language_info",
   "split_at_heading": true,
   "text_representation": {
    "extension": ".Rmd",
    "format_name": "rmarkdown",
    "format_version": "1.2",
    "jupytext_version": "1.13.7"
   }
  },
  "kernelspec": {
   "display_name": "Python 3",
   "language": "python",
   "name": "python3"
  }
 },
 "nbformat": 4,
 "nbformat_minor": 5
}
