{
 "cells": [
  {
   "cell_type": "markdown",
   "id": "c67cd155",
   "metadata": {},
   "source": [
    "# Cameraman"
   ]
  },
  {
   "cell_type": "code",
   "execution_count": 1,
   "id": "4b6f167b",
   "metadata": {
    "execution": {
     "iopub.execute_input": "2022-08-15T18:19:13.893912Z",
     "iopub.status.busy": "2022-08-15T18:19:13.893636Z",
     "iopub.status.idle": "2022-08-15T18:19:14.284351Z",
     "shell.execute_reply": "2022-08-15T18:19:14.283685Z"
    }
   },
   "outputs": [],
   "source": [
    "# Our usual imports\n",
    "from pathlib import Path\n",
    "import numpy as np  # the Python array package\n",
    "import matplotlib.pyplot as plt  # the Python plotting package"
   ]
  },
  {
   "cell_type": "markdown",
   "id": "6e8083b1",
   "metadata": {},
   "source": [
    "Here was ask the Nipraxis library to download the data we will be working on — a text file with some image data."
   ]
  },
  {
   "cell_type": "code",
   "execution_count": 2,
   "id": "873bdfa6",
   "metadata": {
    "execution": {
     "iopub.execute_input": "2022-08-15T18:19:14.287439Z",
     "iopub.status.busy": "2022-08-15T18:19:14.287216Z",
     "iopub.status.idle": "2022-08-15T18:19:14.376446Z",
     "shell.execute_reply": "2022-08-15T18:19:14.375815Z"
    }
   },
   "outputs": [],
   "source": [
    "# Load utility that will fetch data from the web and store it.\n",
    "import nipraxis"
   ]
  },
  {
   "cell_type": "code",
   "execution_count": 3,
   "id": "fddd96a2",
   "metadata": {
    "execution": {
     "iopub.execute_input": "2022-08-15T18:19:14.379538Z",
     "iopub.status.busy": "2022-08-15T18:19:14.379273Z",
     "iopub.status.idle": "2022-08-15T18:19:14.390141Z",
     "shell.execute_reply": "2022-08-15T18:19:14.389539Z"
    }
   },
   "outputs": [],
   "source": [
    "# Get the cameraman data.\n",
    "camera_fname = nipraxis.fetch_file('camera.txt')\n",
    "# Show the filename.\n",
    "camera_fname"
   ]
  },
  {
   "cell_type": "markdown",
   "id": "f9cc84d0",
   "metadata": {},
   "source": [
    "The `camera.txt` file contains the pixel values for a picture, and it’s your\n",
    "job to find what picture that is. The file contains a single floating point\n",
    "value per line. Here are the first four lines of the file:\n",
    "\n",
    "```\n",
    "0.7843\n",
    "0.7843\n",
    "0.7804\n",
    "0.7843\n",
    "```\n",
    "\n",
    "You will first need to read in the file as a list of floating point values.\n",
    "\n",
    "As a reminder, if you want to convert a string to a float, you can use the\n",
    "`float` function, like this:"
   ]
  },
  {
   "cell_type": "code",
   "execution_count": 4,
   "id": "433828c1",
   "metadata": {
    "execution": {
     "iopub.execute_input": "2022-08-15T18:19:14.393595Z",
     "iopub.status.busy": "2022-08-15T18:19:14.393350Z",
     "iopub.status.idle": "2022-08-15T18:19:14.396912Z",
     "shell.execute_reply": "2022-08-15T18:19:14.396389Z"
    },
    "lines_to_next_cell": 2
   },
   "outputs": [],
   "source": [
    "float('3.1415926')"
   ]
  },
  {
   "cell_type": "markdown",
   "id": "c446e515",
   "metadata": {},
   "source": [
    "Here we read the text from the file for you, to give one long string with the\n",
    "contents of the file:"
   ]
  },
  {
   "cell_type": "code",
   "execution_count": 5,
   "id": "a6084ad2",
   "metadata": {
    "execution": {
     "iopub.execute_input": "2022-08-15T18:19:14.400730Z",
     "iopub.status.busy": "2022-08-15T18:19:14.400449Z",
     "iopub.status.idle": "2022-08-15T18:19:14.561521Z",
     "shell.execute_reply": "2022-08-15T18:19:14.560770Z"
    }
   },
   "outputs": [],
   "source": [
    "text = Path(camera_fname).read_text()\n",
    "print(text)"
   ]
  },
  {
   "cell_type": "markdown",
   "id": "bd62d9ad",
   "metadata": {},
   "source": [
    "Now convert each line into its corresponding floating point value, to give a\n",
    "list of floating point values, one for each pixel."
   ]
  },
  {
   "cell_type": "code",
   "execution_count": 6,
   "id": "772ed2e6",
   "metadata": {
    "execution": {
     "iopub.execute_input": "2022-08-15T18:19:14.626183Z",
     "iopub.status.busy": "2022-08-15T18:19:14.625938Z",
     "iopub.status.idle": "2022-08-15T18:19:14.727502Z",
     "shell.execute_reply": "2022-08-15T18:19:14.726930Z"
    }
   },
   "outputs": [],
   "source": [
    "#- Convert file text to list of floats\n",
    "pixel_values = []  # empty list\n",
    "pixel_values = []\n",
    "for line in text.splitlines():\n",
    "    pixel_values.append(float(line))\n",
    "# Show the first four values\n",
    "pixel_values[:4]"
   ]
  },
  {
   "cell_type": "markdown",
   "id": "e142dcdc",
   "metadata": {},
   "source": [
    "How many pixel values does this image contain? (Call this number `P`)."
   ]
  },
  {
   "cell_type": "code",
   "execution_count": 7,
   "id": "219ca3c0",
   "metadata": {
    "execution": {
     "iopub.execute_input": "2022-08-15T18:19:14.730911Z",
     "iopub.status.busy": "2022-08-15T18:19:14.730558Z",
     "iopub.status.idle": "2022-08-15T18:19:14.734927Z",
     "shell.execute_reply": "2022-08-15T18:19:14.734307Z"
    }
   },
   "outputs": [],
   "source": [
    "#- What is P?\n",
    "P = len(pixel_values)\n",
    "# Show P\n",
    "P"
   ]
  },
  {
   "cell_type": "markdown",
   "id": "619fde96",
   "metadata": {},
   "source": [
    "## Reshaping the image"
   ]
  },
  {
   "cell_type": "code",
   "execution_count": 8,
   "id": "96538b5a",
   "metadata": {
    "execution": {
     "iopub.execute_input": "2022-08-15T18:19:14.737719Z",
     "iopub.status.busy": "2022-08-15T18:19:14.737497Z",
     "iopub.status.idle": "2022-08-15T18:19:14.740893Z",
     "shell.execute_reply": "2022-08-15T18:19:14.740157Z"
    }
   },
   "outputs": [],
   "source": [
    "# Test your result\n",
    "assert 'P' in dir()  # Variable exists.\n",
    "assert P is not ...  # Variable updated from default.\n",
    "assert P == 262144"
   ]
  },
  {
   "cell_type": "markdown",
   "id": "febe9bac",
   "metadata": {},
   "source": [
    "The array that forms the image is two-dimensional (it has a number of rows\n",
    "`M` and a number of columns `N`). If we got the right number of pixel\n",
    "values then `M * N == P`. That is, `M` and `N` have to be *factors* of `P` (the\n",
    "number of pixel values).\n",
    "\n",
    "We don’t know what `M` and `N` are, we will have to guess. Given the\n",
    "number of pixel values, what would your guess be for `M` and `N`?\n",
    "\n",
    "**Hint**: think of common image sizes and shapes."
   ]
  },
  {
   "cell_type": "code",
   "execution_count": 9,
   "id": "af35c082",
   "metadata": {
    "execution": {
     "iopub.execute_input": "2022-08-15T18:19:14.743861Z",
     "iopub.status.busy": "2022-08-15T18:19:14.743565Z",
     "iopub.status.idle": "2022-08-15T18:19:14.747301Z",
     "shell.execute_reply": "2022-08-15T18:19:14.746756Z"
    }
   },
   "outputs": [],
   "source": [
    "#- Guess M, N\n",
    "M = np.sqrt(P)\n",
    "N = M\n",
    "# Show M and N\n",
    "M, N"
   ]
  },
  {
   "cell_type": "code",
   "execution_count": 10,
   "id": "a6d81a34",
   "metadata": {
    "execution": {
     "iopub.execute_input": "2022-08-15T18:19:14.750969Z",
     "iopub.status.busy": "2022-08-15T18:19:14.750709Z",
     "iopub.status.idle": "2022-08-15T18:19:14.754782Z",
     "shell.execute_reply": "2022-08-15T18:19:14.753391Z"
    }
   },
   "outputs": [],
   "source": [
    "# This just checks M*N - it doesn't check if M or N are correct!\n",
    "assert 'M' in dir()\n",
    "assert 'N' in dir()\n",
    "assert M != ...\n",
    "assert N != ...\n",
    "assert M * N == P"
   ]
  },
  {
   "cell_type": "markdown",
   "id": "d40b8027",
   "metadata": {},
   "source": [
    "Next we want to convert the list of pixel values to an array (that forms the\n",
    "image).\n",
    "\n",
    "Convert the `pixel_values` list to a pixel values array, and reshape it to\n",
    "your guess for the shape `(M, N)`."
   ]
  },
  {
   "cell_type": "code",
   "execution_count": 11,
   "id": "02d788b8",
   "metadata": {
    "execution": {
     "iopub.execute_input": "2022-08-15T18:19:14.757885Z",
     "iopub.status.busy": "2022-08-15T18:19:14.757652Z",
     "iopub.status.idle": "2022-08-15T18:19:14.777622Z",
     "shell.execute_reply": "2022-08-15T18:19:14.777097Z"
    }
   },
   "outputs": [],
   "source": [
    "# Convert list to array and reshape\n",
    "# Before we start - the M and N values should be integers:\n",
    "M = int(M)\n",
    "N = int(N)\n",
    "#- Now convert pixel array to an array, and reshape.\n",
    "pixel_array = np.array(pixel_values)\n",
    "pixel_array = np.reshape(pixel_array, (int(M), int(N)))\n",
    "# Show the shape of the pixel_array\n",
    "pixel_array.shape"
   ]
  },
  {
   "cell_type": "markdown",
   "id": "39933a98",
   "metadata": {},
   "source": [
    "Show this as an image using matplotlib’s `plt` module:"
   ]
  },
  {
   "cell_type": "code",
   "execution_count": 12,
   "id": "63c31644",
   "metadata": {
    "execution": {
     "iopub.execute_input": "2022-08-15T18:19:14.780586Z",
     "iopub.status.busy": "2022-08-15T18:19:14.780350Z",
     "iopub.status.idle": "2022-08-15T18:19:14.953761Z",
     "shell.execute_reply": "2022-08-15T18:19:14.953079Z"
    }
   },
   "outputs": [],
   "source": [
    "# Run this cell.\n",
    "# Show image using plt module\n",
    "plt.imshow(pixel_array)"
   ]
  },
  {
   "cell_type": "markdown",
   "id": "19c83653",
   "metadata": {},
   "source": [
    "Is this the right shape already?\n",
    "\n",
    "If not — go back and try other values for `M` and `N`.\n",
    "\n",
    "If you get stuck, feel free to check [the solution](camera_solution.ipynb)."
   ]
  },
  {
   "cell_type": "markdown",
   "id": "dab4b604",
   "metadata": {},
   "source": [
    "## Right way up?\n",
    "\n",
    "Is the image the right way up, so the camera is pointing to the right of the screen?\n",
    "\n",
    "Modify the cell below, so the camera points to the right of the screen:"
   ]
  },
  {
   "cell_type": "code",
   "execution_count": 13,
   "id": "0de0b99b",
   "metadata": {
    "execution": {
     "iopub.execute_input": "2022-08-15T18:19:14.958052Z",
     "iopub.status.busy": "2022-08-15T18:19:14.957814Z",
     "iopub.status.idle": "2022-08-15T18:19:15.111299Z",
     "shell.execute_reply": "2022-08-15T18:19:15.110695Z"
    }
   },
   "outputs": [],
   "source": [
    "# Run this cell.\n",
    "# Show image using plt module\n",
    "plt.imshow(pixel_array.T)"
   ]
  },
  {
   "cell_type": "markdown",
   "id": "20e2ae46",
   "metadata": {},
   "source": [
    "## The colors\n",
    "\n",
    "The colors are a little strange for a black and white photo (that is what this\n",
    "is).\n",
    "\n",
    "It would be better to display the image in black and white.\n",
    "\n",
    "Set the correct colormap in the plot command below.\n",
    "\n",
    "**Hint** — See the [Matplotlib colormap\n",
    "page](https://matplotlib.org/stable/tutorials/colors/colormaps.html).\n",
    "\n",
    "**Hint** – you can look for colormaps with `plt.cm.` and tab-completion, in IPython or a Jupyter notebook cell."
   ]
  },
  {
   "cell_type": "code",
   "execution_count": 14,
   "id": "2fcd845e",
   "metadata": {
    "execution": {
     "iopub.execute_input": "2022-08-15T18:19:15.115396Z",
     "iopub.status.busy": "2022-08-15T18:19:15.115123Z",
     "iopub.status.idle": "2022-08-15T18:19:15.263650Z",
     "shell.execute_reply": "2022-08-15T18:19:15.262951Z"
    }
   },
   "outputs": [],
   "source": [
    "#- A nicer version of the original plot\n",
    "plt.imshow(pixel_array.T, cmap='gray')"
   ]
  },
  {
   "cell_type": "markdown",
   "id": "5889f2ef",
   "metadata": {},
   "source": [
    "Now let’s say we want to binarize this image at some threshold `T`, so the\n",
    "man’s coat and hair and the camera tripod are black (pixel value of 0) and most\n",
    "everything else is white (pixel value of 1). How would we choose a good\n",
    "threshold? One step might be to plot a line out of the array (image) to get an\n",
    "idea of the values on that line."
   ]
  },
  {
   "cell_type": "code",
   "execution_count": 15,
   "id": "2032e278",
   "metadata": {
    "execution": {
     "iopub.execute_input": "2022-08-15T18:19:15.267173Z",
     "iopub.status.busy": "2022-08-15T18:19:15.266918Z",
     "iopub.status.idle": "2022-08-15T18:19:15.375876Z",
     "shell.execute_reply": "2022-08-15T18:19:15.375255Z"
    }
   },
   "outputs": [],
   "source": [
    "# A plot of the pixel position in x and the pixel value in y, for an image line.\n",
    "plt.plot(pixel_array.T[380])"
   ]
  },
  {
   "cell_type": "markdown",
   "id": "66124be3",
   "metadata": {},
   "source": [
    "Now you need to apply your threshold to the image to make a binary image where\n",
    "values less than the threshold are == 0 and greater than the threshold are `==\n",
    "1`. You might want to play with the threshold a little to get a good result."
   ]
  },
  {
   "cell_type": "code",
   "execution_count": 16,
   "id": "d78390c9",
   "metadata": {
    "execution": {
     "iopub.execute_input": "2022-08-15T18:19:15.378710Z",
     "iopub.status.busy": "2022-08-15T18:19:15.378486Z",
     "iopub.status.idle": "2022-08-15T18:19:15.510266Z",
     "shell.execute_reply": "2022-08-15T18:19:15.509656Z"
    }
   },
   "outputs": [],
   "source": [
    "#- Apply threshold to make new binary image, and show binary image\n",
    "binary_array = pixel_array > 0.3\n",
    "# Show the result.\n",
    "plt.imshow(binary_array.T, cmap='gray')"
   ]
  },
  {
   "cell_type": "markdown",
   "id": "a198d93c",
   "metadata": {},
   "source": [
    "For extra points - the camera guy's coat is dark, and you can't see the details\n",
    "of the folds and collar of the coat at the moment, because the range of values\n",
    "is too large to distinguish the different dark levels on his coat. Can you make\n",
    "a good picture to show the folds on his coat, and the collar? Hint: you might\n",
    "want to explore the `np.clip` function."
   ]
  },
  {
   "cell_type": "code",
   "execution_count": 17,
   "id": "b8a7343c",
   "metadata": {
    "execution": {
     "iopub.execute_input": "2022-08-15T18:19:15.513141Z",
     "iopub.status.busy": "2022-08-15T18:19:15.512901Z",
     "iopub.status.idle": "2022-08-15T18:19:15.648114Z",
     "shell.execute_reply": "2022-08-15T18:19:15.647478Z"
    }
   },
   "outputs": [],
   "source": [
    "#- Extra points - a good image of the folds of the man's coat.\n",
    "clipped_array = np.clip(pixel_array, 0, 0.2)\n",
    "plt.imshow(clipped_array.T, cmap='gray');"
   ]
  },
  {
   "cell_type": "markdown",
   "id": "aa0fb8e3",
   "metadata": {},
   "source": [
    "## The solution\n",
    "\n",
    "Here is [the solution](camera_solution.ipynb)."
   ]
  }
 ],
 "metadata": {
  "jupytext": {
   "notebook_metadata_filter": "all,-language_info",
   "split_at_heading": true,
   "text_representation": {
    "extension": ".Rmd",
    "format_name": "rmarkdown",
    "format_version": "1.2",
    "jupytext_version": "1.13.7"
   }
  },
  "kernelspec": {
   "display_name": "Python 3",
   "language": "python",
   "name": "python3"
  },
  "language_info": {
   "codemirror_mode": {
    "name": "ipython",
    "version": 3
   },
   "file_extension": ".py",
   "mimetype": "text/x-python",
   "name": "python",
   "nbconvert_exporter": "python",
   "pygments_lexer": "ipython3",
   "version": "3.8.13"
  }
 },
 "nbformat": 4,
 "nbformat_minor": 5
}
