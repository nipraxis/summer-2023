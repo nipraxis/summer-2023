{
 "cells": [
  {
   "cell_type": "markdown",
   "id": "7ce94319",
   "metadata": {},
   "source": [
    "# Modeling groups with dummy variables"
   ]
  },
  {
   "cell_type": "markdown",
   "id": "7ff02fb5",
   "metadata": {},
   "source": [
    "## Introduction and definitions"
   ]
  },
  {
   "cell_type": "code",
   "execution_count": 1,
   "id": "e41d0b24",
   "metadata": {
    "execution": {
     "iopub.execute_input": "2022-05-23T11:59:55.658509Z",
     "iopub.status.busy": "2022-05-23T11:59:55.657827Z",
     "iopub.status.idle": "2022-05-23T11:59:55.922548Z",
     "shell.execute_reply": "2022-05-23T11:59:55.923036Z"
    }
   },
   "outputs": [],
   "source": [
    "#: Import numerical and plotting libraries\n",
    "import numpy as np\n",
    "# Print to four digits of precision\n",
    "np.set_printoptions(precision=4, suppress=True)\n",
    "import numpy.linalg as npl\n",
    "import matplotlib.pyplot as plt"
   ]
  },
  {
   "cell_type": "markdown",
   "id": "9bbd08d2",
   "metadata": {},
   "source": [
    "We return to the psychopathy of students from Berkeley and MIT.\n",
    "\n",
    "We get psychopathy questionnaire scores from another set of 5 students from\n",
    "Berkeley:"
   ]
  },
  {
   "cell_type": "code",
   "execution_count": 2,
   "id": "c7d5c641",
   "metadata": {
    "execution": {
     "iopub.execute_input": "2022-05-23T11:59:55.927049Z",
     "iopub.status.busy": "2022-05-23T11:59:55.926434Z",
     "iopub.status.idle": "2022-05-23T11:59:55.928492Z",
     "shell.execute_reply": "2022-05-23T11:59:55.928903Z"
    }
   },
   "outputs": [],
   "source": [
    "#: Psychopathy scores from UCB students\n",
    "ucb_psycho = np.array([2.9277, 9.7348, 12.1932, 12.2576, 5.4834])\n",
    "n_ucb = len(ucb_psycho)"
   ]
  },
  {
   "cell_type": "markdown",
   "id": "d05e69fb",
   "metadata": {},
   "source": [
    "We do the same for another set of 5 students from MIT:"
   ]
  },
  {
   "cell_type": "code",
   "execution_count": 3,
   "id": "da67c602",
   "metadata": {
    "execution": {
     "iopub.execute_input": "2022-05-23T11:59:55.932811Z",
     "iopub.status.busy": "2022-05-23T11:59:55.932216Z",
     "iopub.status.idle": "2022-05-23T11:59:55.934120Z",
     "shell.execute_reply": "2022-05-23T11:59:55.934535Z"
    }
   },
   "outputs": [],
   "source": [
    "#: Psychopathy scores from MIT students\n",
    "mit_psycho = np.array([7.2937, 11.1465, 13.5204, 15.053, 12.6863])\n",
    "n_mit = len(mit_psycho)"
   ]
  },
  {
   "cell_type": "markdown",
   "id": "ec279ff9",
   "metadata": {},
   "source": [
    "Concatenate these into a `psychopathy` vector:"
   ]
  },
  {
   "cell_type": "code",
   "execution_count": 4,
   "id": "44e1c1a8",
   "metadata": {
    "execution": {
     "iopub.execute_input": "2022-05-23T11:59:55.938022Z",
     "iopub.status.busy": "2022-05-23T11:59:55.937441Z",
     "iopub.status.idle": "2022-05-23T11:59:55.939289Z",
     "shell.execute_reply": "2022-05-23T11:59:55.939711Z"
    }
   },
   "outputs": [],
   "source": [
    "#: Concatenate UCB and MIT student scores\n",
    "psychopathy = np.concatenate((ucb_psycho, mit_psycho))"
   ]
  },
  {
   "cell_type": "markdown",
   "id": "b010a818",
   "metadata": {},
   "source": [
    "$\\newcommand{\\yvec}{\\vec{y}}$\n",
    "\n",
    "The `psychopathy` values will be our `y` vector $\\yvec$."
   ]
  },
  {
   "cell_type": "code",
   "execution_count": 5,
   "id": "8ac804a7",
   "metadata": {
    "execution": {
     "iopub.execute_input": "2022-05-23T11:59:55.944995Z",
     "iopub.status.busy": "2022-05-23T11:59:55.944367Z",
     "iopub.status.idle": "2022-05-23T11:59:55.947258Z",
     "shell.execute_reply": "2022-05-23T11:59:55.947755Z"
    }
   },
   "outputs": [],
   "source": [
    "# Give name Y to psychopathy, for reading convenience.\n",
    "Y = psychopathy\n",
    "# Call the number of observations \"n\"\n",
    "n = len(psychopathy)\n",
    "n"
   ]
  },
  {
   "cell_type": "markdown",
   "id": "bb64ff32",
   "metadata": {},
   "source": [
    "We will use the general linear model to a run two-level (UCB, MIT) single\n",
    "factor (university) analysis of variance on these data.\n",
    "\n",
    "Our model is that the Berkeley student data are drawn from some distribution\n",
    "with a mean value that is characteristic for Berkeley: $y_i = \\mu_{Berkeley} +\n",
    "e_i$ where $i$ corresponds to a student from Berkeley.  There is also a\n",
    "characteristic but possibly different mean value for MIT: $\\mu_{MIT}$:\n",
    "\n",
    "$$\n",
    "\\newcommand{\\xvec}{\\vec{x}}\n",
    "\\newcommand{\\evec}{\\vec{\\varepsilon}}\n",
    "\\newcommand{\\Xmat}{\\boldsymbol X}\n",
    "\\newcommand{\\bvec}{\\vec{\\beta}}\n",
    "\\newcommand{\\bhat}{\\hat{\\bvec}}\n",
    "\\newcommand{\\yhat}{\\hat{\\yvec}}\n",
    "$$\n",
    "\n",
    "$$\n",
    "y_i = \\mu_{Berkeley} + e_i  \\space\\mbox{if}\\space 1 \\le i \\le 5 \\\\\n",
    "y_i = \\mu_{MIT} + e_i \\space\\mbox{if}\\space 6 \\le i \\le 10\n",
    "$$\n",
    "\n",
    "We saw in [introduction to the general linear\n",
    "model](https://textbook.nipraxis.org/glm_intro.html) that we can encode this\n",
    "group membership with dummy variables.  There is one dummy variable for each\n",
    "group.  The dummy variables are *indicator* variables, in that they have 1 in\n",
    "the row corresponding to observations in the group, and zero elsewhere.\n",
    "\n",
    "We will compile a design matrix $\\Xmat$ and use the matrix formulation of the\n",
    "general linear model to do estimation and testing:\n",
    "\n",
    "$$\n",
    "\\yvec = \\Xmat \\bvec + \\evec\n",
    "$$"
   ]
  },
  {
   "cell_type": "markdown",
   "id": "02f462ef",
   "metadata": {},
   "source": [
    "# ANOVA design\n",
    "\n",
    "Create the design matrix for this ANOVA, with dummy variables corresponding to\n",
    "the UCB and MIT student groups:"
   ]
  },
  {
   "cell_type": "code",
   "execution_count": 6,
   "id": "de2429e7",
   "metadata": {
    "execution": {
     "iopub.execute_input": "2022-05-23T11:59:55.952708Z",
     "iopub.status.busy": "2022-05-23T11:59:55.952111Z",
     "iopub.status.idle": "2022-05-23T11:59:55.954465Z",
     "shell.execute_reply": "2022-05-23T11:59:55.954941Z"
    }
   },
   "outputs": [],
   "source": [
    "#- Create design matrix for UCB / MIT ANOVA\n",
    "X = np.zeros((n, 2))\n",
    "X[:n_ucb, 0] = 1  # UCB indicator\n",
    "X[n_ucb:, 1] = 1  # MIT indicator\n",
    "# Show the result\n",
    "X"
   ]
  },
  {
   "cell_type": "code",
   "execution_count": 7,
   "id": "ca73b40d",
   "metadata": {
    "execution": {
     "iopub.execute_input": "2022-05-23T11:59:55.958666Z",
     "iopub.status.busy": "2022-05-23T11:59:55.958079Z",
     "iopub.status.idle": "2022-05-23T11:59:55.959825Z",
     "shell.execute_reply": "2022-05-23T11:59:55.960235Z"
    }
   },
   "outputs": [],
   "source": [
    "assert X.shape == (n, 2)\n",
    "assert np.all(np.sum(X, axis=0) == (n_ucb, n_mit))"
   ]
  },
  {
   "cell_type": "markdown",
   "id": "9bcc854b",
   "metadata": {},
   "source": [
    "Remember that, when $\\Xmat^T \\Xmat$ is invertible, our least-squares parameter\n",
    "estimates $\\bhat$ are given by:\n",
    "\n",
    "$$\n",
    "\\bhat = (\\Xmat^T \\Xmat)^{-1} \\Xmat^T \\yvec\n",
    "$$\n",
    "\n",
    "First calculate $\\Xmat^T \\Xmat$."
   ]
  },
  {
   "cell_type": "code",
   "execution_count": 8,
   "id": "a4253c2f",
   "metadata": {
    "execution": {
     "iopub.execute_input": "2022-05-23T11:59:55.964285Z",
     "iopub.status.busy": "2022-05-23T11:59:55.963630Z",
     "iopub.status.idle": "2022-05-23T11:59:55.965988Z",
     "shell.execute_reply": "2022-05-23T11:59:55.966399Z"
    }
   },
   "outputs": [],
   "source": [
    "#- Calculate transpose of design with itself.\n",
    "#- Are the design columns orthogonal?\n",
    "XtX = X.T @ X\n",
    "# Show the result\n",
    "XtX"
   ]
  },
  {
   "cell_type": "code",
   "execution_count": 9,
   "id": "cc0409b1",
   "metadata": {
    "execution": {
     "iopub.execute_input": "2022-05-23T11:59:55.970333Z",
     "iopub.status.busy": "2022-05-23T11:59:55.969690Z",
     "iopub.status.idle": "2022-05-23T11:59:55.971486Z",
     "shell.execute_reply": "2022-05-23T11:59:55.971895Z"
    }
   },
   "outputs": [],
   "source": [
    "assert XtX.shape == (X.shape[1], X.shape[1])\n",
    "assert np.allclose(XtX, [[n_ucb, 0], [0, n_mit]])"
   ]
  },
  {
   "cell_type": "markdown",
   "id": "95c8b3ef",
   "metadata": {},
   "source": [
    "## For reflection\n",
    "\n",
    "* Are the columns of this `X` design orthogonal?\n",
    "* How did we know what the values would be in the test above?"
   ]
  },
  {
   "cell_type": "markdown",
   "id": "51db305d",
   "metadata": {},
   "source": [
    "## Estimation\n",
    "\n",
    "Calculate the matrix inverse of $\\Xmat^T \\Xmat$."
   ]
  },
  {
   "cell_type": "code",
   "execution_count": 10,
   "id": "eaaa3ffb",
   "metadata": {
    "execution": {
     "iopub.execute_input": "2022-05-23T11:59:55.975951Z",
     "iopub.status.busy": "2022-05-23T11:59:55.975301Z",
     "iopub.status.idle": "2022-05-23T11:59:55.977885Z",
     "shell.execute_reply": "2022-05-23T11:59:55.978421Z"
    }
   },
   "outputs": [],
   "source": [
    "#- Calculate inverse of transpose of design with itself.\n",
    "iXtX = npl.inv(XtX)\n",
    "# Show the result\n",
    "iXtX"
   ]
  },
  {
   "cell_type": "code",
   "execution_count": 11,
   "id": "eefdc0fa",
   "metadata": {
    "execution": {
     "iopub.execute_input": "2022-05-23T11:59:55.982665Z",
     "iopub.status.busy": "2022-05-23T11:59:55.981999Z",
     "iopub.status.idle": "2022-05-23T11:59:55.983807Z",
     "shell.execute_reply": "2022-05-23T11:59:55.984236Z"
    }
   },
   "outputs": [],
   "source": [
    "assert iXtX.shape == (2, 2)\n",
    "assert np.all(iXtX == [[ 1 / n_ucb, 0], [0, 1 / n_mit]])"
   ]
  },
  {
   "cell_type": "markdown",
   "id": "9e30f44a",
   "metadata": {},
   "source": [
    "**For reflection**: How did we know what the values would be in the test above?  Maybe think for a bit, and then see [diagonal matrix inverse](https://matthew-brett.github.com/teaching/diag_inverse.html).\n",
    "\n",
    "Now continue to calculate the betas.  As you remember, these are given by:\n",
    "\n",
    "$$\n",
    "\\bhat = (\\Xmat^T \\Xmat)^{-1}\\Xmat^T \\yvec\n",
    "$$"
   ]
  },
  {
   "cell_type": "code",
   "execution_count": 12,
   "id": "537724db",
   "metadata": {
    "execution": {
     "iopub.execute_input": "2022-05-23T11:59:55.988381Z",
     "iopub.status.busy": "2022-05-23T11:59:55.987723Z",
     "iopub.status.idle": "2022-05-23T11:59:55.990277Z",
     "shell.execute_reply": "2022-05-23T11:59:55.990735Z"
    }
   },
   "outputs": [],
   "source": [
    "#- Calculate transpose of design matrix multiplied by data, and therefore\n",
    "#- calculate beta vector\n",
    "B = iXtX @ X.T @ Y\n",
    "# Show the result\n",
    "B"
   ]
  },
  {
   "cell_type": "code",
   "execution_count": 13,
   "id": "1693acf5",
   "metadata": {
    "execution": {
     "iopub.execute_input": "2022-05-23T11:59:55.994459Z",
     "iopub.status.busy": "2022-05-23T11:59:55.993794Z",
     "iopub.status.idle": "2022-05-23T11:59:55.995897Z",
     "shell.execute_reply": "2022-05-23T11:59:55.996348Z"
    },
    "lines_to_next_cell": 2
   },
   "outputs": [],
   "source": [
    "assert B.shape == (2,)"
   ]
  },
  {
   "cell_type": "markdown",
   "id": "8ffd4c49",
   "metadata": {},
   "source": [
    "Compare this vector to the means of the values in `ucb_psycho` and\n",
    "`mit_psycho`:"
   ]
  },
  {
   "cell_type": "code",
   "execution_count": 14,
   "id": "b7cf8e75",
   "metadata": {
    "execution": {
     "iopub.execute_input": "2022-05-23T11:59:56.001032Z",
     "iopub.status.busy": "2022-05-23T11:59:56.000337Z",
     "iopub.status.idle": "2022-05-23T11:59:56.002956Z",
     "shell.execute_reply": "2022-05-23T11:59:56.003393Z"
    }
   },
   "outputs": [],
   "source": [
    "#- Compare beta vector to means of each group\n",
    "both_means = [np.mean(ucb_psycho), np.mean(mit_psycho)]\n",
    "# Show the result\n",
    "both_means"
   ]
  },
  {
   "cell_type": "code",
   "execution_count": 15,
   "id": "9f094705",
   "metadata": {
    "execution": {
     "iopub.execute_input": "2022-05-23T11:59:56.007047Z",
     "iopub.status.busy": "2022-05-23T11:59:56.006406Z",
     "iopub.status.idle": "2022-05-23T11:59:56.008290Z",
     "shell.execute_reply": "2022-05-23T11:59:56.008760Z"
    }
   },
   "outputs": [],
   "source": [
    "assert np.allclose(B, both_means)"
   ]
  }
 ],
 "metadata": {
  "jupytext": {
   "notebook_metadata_filter": "all,-language_info",
   "split_at_heading": true,
   "text_representation": {
    "extension": ".Rmd",
    "format_name": "rmarkdown",
    "format_version": "1.2",
    "jupytext_version": "1.13.7"
   }
  },
  "kernelspec": {
   "display_name": "Python 3",
   "language": "python",
   "name": "python3"
  },
  "language_info": {
   "codemirror_mode": {
    "name": "ipython",
    "version": 3
   },
   "file_extension": ".py",
   "mimetype": "text/x-python",
   "name": "python",
   "nbconvert_exporter": "python",
   "pygments_lexer": "ipython3",
   "version": "3.8.13"
  }
 },
 "nbformat": 4,
 "nbformat_minor": 5
}
