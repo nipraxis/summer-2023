{
 "cells": [
  {
   "cell_type": "markdown",
   "id": "bead2a82",
   "metadata": {},
   "source": [
    "# Modeling groups with dummy variables"
   ]
  },
  {
   "cell_type": "markdown",
   "id": "3df5c298",
   "metadata": {},
   "source": [
    "## Introduction and definitions"
   ]
  },
  {
   "cell_type": "code",
   "execution_count": null,
   "id": "32adc2fa",
   "metadata": {},
   "outputs": [],
   "source": [
    "#: Import numerical and plotting libraries\n",
    "import numpy as np\n",
    "# Print to four digits of precision\n",
    "np.set_printoptions(precision=4, suppress=True)\n",
    "import numpy.linalg as npl\n",
    "import matplotlib.pyplot as plt"
   ]
  },
  {
   "cell_type": "markdown",
   "id": "06abf811",
   "metadata": {},
   "source": [
    "We return to the psychopathy of students from Berkeley and MIT.\n",
    "\n",
    "We get psychopathy questionnaire scores from another set of 5 students from\n",
    "Berkeley:"
   ]
  },
  {
   "cell_type": "code",
   "execution_count": null,
   "id": "13576d0c",
   "metadata": {},
   "outputs": [],
   "source": [
    "#: Psychopathy scores from UCB students\n",
    "ucb_psycho = np.array([2.9277, 9.7348, 12.1932, 12.2576, 5.4834])\n",
    "n_ucb = len(ucb_psycho)"
   ]
  },
  {
   "cell_type": "markdown",
   "id": "d5736ddb",
   "metadata": {},
   "source": [
    "We do the same for another set of 5 students from MIT:"
   ]
  },
  {
   "cell_type": "code",
   "execution_count": null,
   "id": "08e52ef0",
   "metadata": {},
   "outputs": [],
   "source": [
    "#: Psychopathy scores from MIT students\n",
    "mit_psycho = np.array([7.2937, 11.1465, 13.5204, 15.053, 12.6863])\n",
    "n_mit = len(mit_psycho)"
   ]
  },
  {
   "cell_type": "markdown",
   "id": "f91396a9",
   "metadata": {},
   "source": [
    "Concatenate these into a `psychopathy` vector:"
   ]
  },
  {
   "cell_type": "code",
   "execution_count": null,
   "id": "7b17b892",
   "metadata": {},
   "outputs": [],
   "source": [
    "#: Concatenate UCB and MIT student scores\n",
    "psychopathy = np.concatenate((ucb_psycho, mit_psycho))"
   ]
  },
  {
   "cell_type": "markdown",
   "id": "ddb3c702",
   "metadata": {},
   "source": [
    "$\\newcommand{\\yvec}{\\vec{y}}$\n",
    "\n",
    "The `psychopathy` values will be our `y` vector $\\yvec$."
   ]
  },
  {
   "cell_type": "code",
   "execution_count": null,
   "id": "87511cd9",
   "metadata": {},
   "outputs": [],
   "source": [
    "# Give name Y to psychopathy, for reading convenience.\n",
    "Y = psychopathy\n",
    "# Call the number of observations \"n\"\n",
    "n = len(psychopathy)\n",
    "n"
   ]
  },
  {
   "cell_type": "markdown",
   "id": "ce8e14d9",
   "metadata": {},
   "source": [
    "We will use the general linear model to a run two-level (UCB, MIT) single\n",
    "factor (university) analysis of variance on these data.\n",
    "\n",
    "Our model is that the Berkeley student data are drawn from some distribution\n",
    "with a mean value that is characteristic for Berkeley: $y_i = \\mu_{Berkeley} +\n",
    "e_i$ where $i$ corresponds to a student from Berkeley.  There is also a\n",
    "characteristic but possibly different mean value for MIT: $\\mu_{MIT}$:\n",
    "\n",
    "$$\n",
    "\\newcommand{\\xvec}{\\vec{x}}\n",
    "\\newcommand{\\evec}{\\vec{\\varepsilon}}\n",
    "\\newcommand{\\Xmat}{\\boldsymbol X}\n",
    "\\newcommand{\\bvec}{\\vec{\\beta}}\n",
    "\\newcommand{\\bhat}{\\hat{\\bvec}}\n",
    "\\newcommand{\\yhat}{\\hat{\\yvec}}\n",
    "$$\n",
    "\n",
    "$$\n",
    "y_i = \\mu_{Berkeley} + e_i  \\space\\mbox{if}\\space 1 \\le i \\le 5 \\\\\n",
    "y_i = \\mu_{MIT} + e_i \\space\\mbox{if}\\space 6 \\le i \\le 10\n",
    "$$\n",
    "\n",
    "We saw in [introduction to the general linear\n",
    "model](https://textbook.nipraxis.org/glm_intro.html) that we can encode this\n",
    "group membership with dummy variables.  There is one dummy variable for each\n",
    "group.  The dummy variables are *indicator* variables, in that they have 1 in\n",
    "the row corresponding to observations in the group, and zero elsewhere.\n",
    "\n",
    "We will compile a design matrix $\\Xmat$ and use the matrix formulation of the\n",
    "general linear model to do estimation and testing:\n",
    "\n",
    "$$\n",
    "\\yvec = \\Xmat \\bvec + \\evec\n",
    "$$"
   ]
  },
  {
   "cell_type": "markdown",
   "id": "46db3a9e",
   "metadata": {},
   "source": [
    "# ANOVA design\n",
    "\n",
    "Create the design matrix for this ANOVA, with dummy variables corresponding to\n",
    "the UCB and MIT student groups:"
   ]
  },
  {
   "cell_type": "code",
   "execution_count": null,
   "id": "e13fb501",
   "metadata": {},
   "outputs": [],
   "source": [
    "#- Create design matrix for UCB / MIT ANOVA\n",
    "X = ...\n",
    "# Show the result\n",
    "X"
   ]
  },
  {
   "cell_type": "code",
   "execution_count": null,
   "id": "5db97515",
   "metadata": {},
   "outputs": [],
   "source": [
    "assert X.shape == (n, 2)\n",
    "assert np.all(np.sum(X, axis=0) == (n_ucb, n_mit))"
   ]
  },
  {
   "cell_type": "markdown",
   "id": "1eaae5d8",
   "metadata": {},
   "source": [
    "Remember that, when $\\Xmat^T \\Xmat$ is invertible, our least-squares parameter\n",
    "estimates $\\bhat$ are given by:\n",
    "\n",
    "$$\n",
    "\\bhat = (\\Xmat^T \\Xmat)^{-1} \\Xmat^T \\yvec\n",
    "$$\n",
    "\n",
    "First calculate $\\Xmat^T \\Xmat$."
   ]
  },
  {
   "cell_type": "code",
   "execution_count": null,
   "id": "c33c2c76",
   "metadata": {},
   "outputs": [],
   "source": [
    "#- Calculate transpose of design with itself.\n",
    "#- Are the design columns orthogonal?\n",
    "XtX = ...\n",
    "# Show the result\n",
    "XtX"
   ]
  },
  {
   "cell_type": "code",
   "execution_count": null,
   "id": "3ca4b8f1",
   "metadata": {},
   "outputs": [],
   "source": [
    "assert XtX.shape == (X.shape[1], X.shape[1])\n",
    "assert np.allclose(XtX, [[n_ucb, 0], [0, n_mit]])"
   ]
  },
  {
   "cell_type": "markdown",
   "id": "c5c1ce90",
   "metadata": {},
   "source": [
    "## For reflection\n",
    "\n",
    "* Are the columns of this `X` design orthogonal?\n",
    "* How did we know what the values would be in the test above?"
   ]
  },
  {
   "cell_type": "markdown",
   "id": "1bfcf413",
   "metadata": {},
   "source": [
    "## Estimation\n",
    "\n",
    "Calculate the matrix inverse of $\\Xmat^T \\Xmat$."
   ]
  },
  {
   "cell_type": "code",
   "execution_count": null,
   "id": "63e10376",
   "metadata": {},
   "outputs": [],
   "source": [
    "#- Calculate inverse of transpose of design with itself.\n",
    "# Show the result\n",
    "iXtX"
   ]
  },
  {
   "cell_type": "code",
   "execution_count": null,
   "id": "5ade4000",
   "metadata": {},
   "outputs": [],
   "source": [
    "assert iXtX.shape == (2, 2)\n",
    "assert np.all(iXtX == [[ 1 / n_ucb, 0], [0, 1 / n_mit]])"
   ]
  },
  {
   "cell_type": "markdown",
   "id": "71fd46ed",
   "metadata": {},
   "source": [
    "**For reflection**: How did we know what the values would be in the test above?  Maybe think for a bit, and then see [diagonal matrix inverse](https://matthew-brett.github.com/teaching/diag_inverse.html).\n",
    "\n",
    "Now continue to calculate the betas.  As you remember, these are given by:\n",
    "\n",
    "$$\n",
    "\\bhat = (\\Xmat^T \\Xmat)^{-1}\\Xmat^T \\yvec\n",
    "$$"
   ]
  },
  {
   "cell_type": "code",
   "execution_count": null,
   "id": "42b8ad7f",
   "metadata": {},
   "outputs": [],
   "source": [
    "#- Calculate transpose of design matrix multiplied by data, and therefore\n",
    "#- calculate beta vector\n",
    "B = ...\n",
    "# Show the result\n",
    "B"
   ]
  },
  {
   "cell_type": "code",
   "execution_count": null,
   "id": "525547a9",
   "metadata": {
    "lines_to_next_cell": 2
   },
   "outputs": [],
   "source": [
    "assert B.shape == (2,)"
   ]
  },
  {
   "cell_type": "markdown",
   "id": "66bae8e1",
   "metadata": {},
   "source": [
    "Compare this vector to the means of the values in `ucb_psycho` and\n",
    "`mit_psycho`:"
   ]
  },
  {
   "cell_type": "code",
   "execution_count": null,
   "id": "ab78f344",
   "metadata": {},
   "outputs": [],
   "source": [
    "#- Compare beta vector to means of each group\n",
    "both_means = [ ... ]\n",
    "# Show the result\n",
    "both_means"
   ]
  },
  {
   "cell_type": "code",
   "execution_count": null,
   "id": "2599c9c5",
   "metadata": {},
   "outputs": [],
   "source": [
    "assert np.allclose(B, both_means)"
   ]
  }
 ],
 "metadata": {
  "jupytext": {
   "notebook_metadata_filter": "all,-language_info",
   "split_at_heading": true,
   "text_representation": {
    "extension": ".Rmd",
    "format_name": "rmarkdown",
    "format_version": "1.2",
    "jupytext_version": "1.13.7"
   }
  },
  "kernelspec": {
   "display_name": "Python 3",
   "language": "python",
   "name": "python3"
  }
 },
 "nbformat": 4,
 "nbformat_minor": 5
}
