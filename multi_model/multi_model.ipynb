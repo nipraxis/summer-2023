{
 "cells": [
  {
   "cell_type": "markdown",
   "id": "6e2fc8cf",
   "metadata": {},
   "source": [
    "# Basic linear modeling\n",
    "\n",
    "In this exercise we will run a simple regression on all voxels in a 4D\n",
    "FMRI image `ds114_sub009_t2r1.nii`:"
   ]
  },
  {
   "cell_type": "code",
   "execution_count": null,
   "id": "8467b1d4",
   "metadata": {},
   "outputs": [],
   "source": [
    "#: Import some standard librares\n",
    "import numpy as np\n",
    "# Print to 4 DP\n",
    "np.set_printoptions(precision=4)\n",
    "import numpy.linalg as npl\n",
    "import matplotlib.pyplot as plt\n",
    "\n",
    "# Set default imshow parameters\n",
    "plt.rcParams['image.cmap'] = 'gray'\n",
    "\n",
    "import nibabel as nib\n",
    "\n",
    "import nipraxis"
   ]
  },
  {
   "cell_type": "code",
   "execution_count": null,
   "id": "4d40e4cc",
   "metadata": {},
   "outputs": [],
   "source": [
    "# Fetch and load the data file.\n",
    "data_fname = nipraxis.fetch_file('ds114_sub009_t2r1.nii')\n",
    "img = nib.load(data_fname)\n",
    "data = img.get_fdata()\n",
    "# Knock off first four volumes.\n",
    "data = data[..., 4:]"
   ]
  },
  {
   "cell_type": "markdown",
   "id": "d0e4b16e",
   "metadata": {},
   "source": [
    "We make the design matrix from the convolved regressor from [Convolving with\n",
    "the hemodyamic response\n",
    "function](https://textbook.nipraxis.org/convolution_background.html):"
   ]
  },
  {
   "cell_type": "code",
   "execution_count": null,
   "id": "a10b816b",
   "metadata": {},
   "outputs": [],
   "source": [
    "# Load the pre-written convolved time course\n",
    "conv_fname = nipraxis.fetch_file('ds114_sub009_t2r1_conv.txt')\n",
    "# Knock off the first four elements\n",
    "convolved = np.loadtxt(conv_fname)[4:]\n",
    "plt.plot(convolved)"
   ]
  },
  {
   "cell_type": "markdown",
   "id": "096f2d97",
   "metadata": {},
   "source": [
    "Now compile the design matrix for a simple regression, where the regressor (independent variable) is the convolved time-course."
   ]
  },
  {
   "cell_type": "code",
   "execution_count": null,
   "id": "041a172a",
   "metadata": {},
   "outputs": [],
   "source": [
    "#- Compile the design matrix\n",
    "#- First column is convolved regressor\n",
    "#- Second column all ones\n",
    "#- Hint: investigate \"aspect\" keyword to ``plt.imshow`` for a nice\n",
    "#- looking image.\n",
    "# Show an image of the resulting design matrix.\n",
    "plt.imshow(design, aspect=0.1)"
   ]
  },
  {
   "cell_type": "code",
   "execution_count": null,
   "id": "b412f6af",
   "metadata": {},
   "outputs": [],
   "source": [
    "assert design.shape == (len(convolved), 2)\n",
    "assert np.allclose(np.mean(design, axis=0), [np.mean(convolved), 1])"
   ]
  },
  {
   "cell_type": "markdown",
   "id": "2fe53141",
   "metadata": {},
   "source": [
    "Next reshape the voxel data to two dimensions, where the first dimension is\n",
    "voxels, and the second dimension is time (volume).  Therefore there should be\n",
    "one column for each volume (time-point), and one row for each voxel.  Then transpose to get a time by voxels array.\n",
    "\n",
    "You may want to have another look at [reshaping 4D to 2D](https://textbook.nipraxis.org/reshape_and_4d.html).\n"
   ]
  },
  {
   "cell_type": "code",
   "execution_count": null,
   "id": "8a57b3a9",
   "metadata": {},
   "outputs": [],
   "source": [
    "#- Reshape the 4D data to voxel by time 2D, and transpose to time by voxels.\n",
    "data_2d = ...\n",
    "# Show the resulting shape\n",
    "data_2d.shape"
   ]
  },
  {
   "cell_type": "code",
   "execution_count": null,
   "id": "08c29fa3",
   "metadata": {},
   "outputs": [],
   "source": [
    "assert len(data_2d.shape) == 2, 'Did you reshape to 2D?'\n",
    "assert data_2d.shape[0] == data.shape[-1], \\\n",
    "    'Did you transpose to time by voxels?'\n",
    "assert data_2d.shape[1] == np.prod(data.shape[:3])\n",
    "assert np.all(data_2d[:, 0] == data[0, 0, 0, :]), 'First col is first voxel'\n",
    "assert np.all(data_2d[:, -1] == data[-1, -1, -1, :]), 'Last col is last voxel'"
   ]
  },
  {
   "cell_type": "markdown",
   "id": "12903065",
   "metadata": {},
   "source": [
    "Next estimate the betas for the design, by matrix-multiplying on the left with the pseudo-inverse of the design matrix."
   ]
  },
  {
   "cell_type": "code",
   "execution_count": null,
   "id": "5818b24d",
   "metadata": {},
   "outputs": [],
   "source": [
    "#- Calculate the pseudoinverse of the design\n",
    "#- Apply to time by voxel array to get betas\n",
    "betas_2d = ...\n",
    "# Show the resulting shape\n",
    "betas_2d.shape"
   ]
  },
  {
   "cell_type": "code",
   "execution_count": null,
   "id": "63f1667f",
   "metadata": {},
   "outputs": [],
   "source": [
    "assert betas_2d.shape == (2, np.prod(data.shape[:3]))"
   ]
  },
  {
   "cell_type": "markdown",
   "id": "50ce0deb",
   "metadata": {},
   "source": [
    "You now want to reshape the betas into a four dimensional array, with the\n",
    "first three axes being voxel axes, and the last, of length 2, being the\n",
    "parameters.  So the resulting 4D array will be a stack of two 3D arrays, where the first 3D array has the parameters from the first column of the design matrix, and the second has the parameters from the second column."
   ]
  },
  {
   "cell_type": "code",
   "execution_count": null,
   "id": "5ddb64f9",
   "metadata": {},
   "outputs": [],
   "source": [
    "#- Transpose betas to give voxels by 2 array\n",
    "#- Reshape into 4D array, with same 3D shape as original data,\n",
    "#- last dimension length 2\n",
    "betas_4d = ...\n",
    "# Show the resulting shape\n",
    "betas_4d.shape"
   ]
  },
  {
   "cell_type": "code",
   "execution_count": null,
   "id": "c1fa88f0",
   "metadata": {
    "lines_to_next_cell": 2
   },
   "outputs": [],
   "source": [
    "assert betas_4d.shape[-1] == 2, 'Did you do any necessary transpose?'\n",
    "assert betas_4d.shape == data.shape[:3] + (2,)\n",
    "assert np.all(betas_4d[0, 0, 0, :] == betas_2d[:, 0]), 'First voxel is first col'\n",
    "assert np.all(betas_4d[-1, -1, -1, :] == betas_2d[:, -1]), 'Last voxel is last col'"
   ]
  },
  {
   "cell_type": "code",
   "execution_count": null,
   "id": "9cc9288a",
   "metadata": {},
   "outputs": [],
   "source": [
    "#- Show the middle slice from the first beta volume"
   ]
  },
  {
   "cell_type": "code",
   "execution_count": null,
   "id": "a04be973",
   "metadata": {},
   "outputs": [],
   "source": [
    "#- Show the middle slice from the second beta volume"
   ]
  }
 ],
 "metadata": {
  "jupytext": {
   "notebook_metadata_filter": "all,-language_info",
   "split_at_heading": true,
   "text_representation": {
    "extension": ".Rmd",
    "format_name": "rmarkdown",
    "format_version": "1.2",
    "jupytext_version": "1.13.7"
   }
  },
  "kernelspec": {
   "display_name": "Python 3",
   "language": "python",
   "name": "python3"
  }
 },
 "nbformat": 4,
 "nbformat_minor": 5
}
