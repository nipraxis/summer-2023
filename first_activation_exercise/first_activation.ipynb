{
 "cells": [
  {
   "cell_type": "markdown",
   "id": "47915dc7",
   "metadata": {},
   "source": [
    "# First go at brain activation"
   ]
  },
  {
   "cell_type": "code",
   "execution_count": null,
   "id": "a38a5476",
   "metadata": {},
   "outputs": [],
   "source": [
    "# import common modules\n",
    "import numpy as np  # the Python array package\n",
    "import matplotlib.pyplot as plt  # the Python plotting package\n",
    "# Display array values to 6 digits of precision\n",
    "np.set_printoptions(precision=4, suppress=True)\n",
    "\n",
    "# Image library.\n",
    "import nibabel as nib\n",
    "\n",
    "# Course library.\n",
    "import nipraxis"
   ]
  },
  {
   "cell_type": "markdown",
   "id": "df0ad6d9",
   "metadata": {},
   "source": [
    "## The simplest possible way to find task activation\n",
    "\n",
    "We are going to look at a functional MRI task run, taken while the subject did\n",
    "a task.  The task was a block design, where the subject rested, then thought of\n",
    "as many verbs as they could for 30 seconds, then rested for 30 seconds, and so\n",
    "on.\n",
    "\n",
    "We are interested to find voxels that have higher signal for the scans while the subject was doing the task, then when the subject was resting.\n",
    "\n",
    "One very simple way of doing this, is the following:\n",
    "\n",
    "* Identify all the scans taken while the subject was doing the task.  Call\n",
    "  these the *task volumes*.  Take an average across volume, of these task\n",
    "  volumes to get a *task average* volume.\n",
    "* Do the same thing for the rest volumes to get a *rest average* volume.\n",
    "* Subtract the rest average volume from the task average volume to get the\n",
    "  *difference average* volume.\n",
    "\n",
    "Voxels with high signal in the *difference average* volume are voxels that had\n",
    "higher average signal during the task scans than during the rest scans.  These\n",
    "may be voxels *activated* by the task."
   ]
  },
  {
   "cell_type": "markdown",
   "id": "b5814636",
   "metadata": {},
   "source": [
    "## The task time-course\n",
    "\n",
    "We have previously had a look at the file `ds114_sub009_t2r1.nii`. This is a 4D\n",
    "FMRI image."
   ]
  },
  {
   "cell_type": "code",
   "execution_count": null,
   "id": "6ef7caaa",
   "metadata": {},
   "outputs": [],
   "source": [
    "# Fetch the data file to this computer.\n",
    "bold_fname = nipraxis.fetch_file('ds114_sub009_t2r1.nii')\n",
    "# Show the filename\n",
    "bold_fname"
   ]
  },
  {
   "cell_type": "markdown",
   "id": "600aeaf8",
   "metadata": {},
   "source": [
    "Now we want to see whether we can detect any signal in that image relating to\n",
    "the task.\n",
    "\n",
    "The task was a block design with 10 seconds rest followed by 7 repeats of (30\n",
    "seconds when the subject thought of verbs followed by 30 seconds rest). This\n",
    "is called a “covert” task, because the subjects were thinking of verbs instead\n",
    "of saying them.\n",
    "\n",
    "We next fetch the text file containing information about the block onsets. It\n",
    "comes from subject 9 task 2 and run 1 of the [ds114\n",
    "dataset](https://openfmri.org/dataset/ds000114), from the [OpenFMRI](https://openfmri.org/) project."
   ]
  },
  {
   "cell_type": "code",
   "execution_count": null,
   "id": "115ed389",
   "metadata": {},
   "outputs": [],
   "source": [
    "# Fetch the task definition file to this computer.\n",
    "stim_fname = nipraxis.fetch_file('ds114_sub009_t2r1_cond.txt')\n",
    "# Show the filename\n",
    "stim_fname"
   ]
  },
  {
   "cell_type": "markdown",
   "id": "79b50921",
   "metadata": {},
   "source": [
    "The file has one line of text per “on” block, giving the onset time of the\n",
    "block (in seconds), the duration of the block (in seconds) and the amplitude\n",
    "(expected amount of activation for this block - not used in this case).\n",
    "\n",
    "Here are the first four lines:\n",
    "\n",
    "```\n",
    "10  30.000000   1\n",
    "70  30.000000   1\n",
    "130 30.000000   1\n",
    "190 30.000000   1\n",
    "```\n",
    "\n",
    "Read the file into a (number of blocks by 3) array called `task`."
   ]
  },
  {
   "cell_type": "code",
   "execution_count": null,
   "id": "db2d1c5c",
   "metadata": {},
   "outputs": [],
   "source": [
    "#- Read the file into an array called \"task\".\n",
    "#- \"task\" should have 3 columns (onset, duration, amplitude)\n",
    "task = ...\n",
    "# Show the result.\n",
    "task"
   ]
  },
  {
   "cell_type": "markdown",
   "id": "95706a96",
   "metadata": {},
   "source": [
    "The repetition time (time to repeat, TR) for this FMRI run was 2.5 seconds. We\n",
    "need to convert the onsets and durations to TRs - so for example the first\n",
    "onset was at 10 seconds, which was the start of TR 4 (10 / 2.5).\n",
    "\n",
    "Select out the first two columns of task, and divide by the TR to convert the\n",
    "onset and duration times to be in terms of TRs instead of seconds:"
   ]
  },
  {
   "cell_type": "code",
   "execution_count": null,
   "id": "661658b9",
   "metadata": {},
   "outputs": [],
   "source": [
    "#- Select first two columns and divide by TR\n",
    "ons_durs = ...\n",
    "# Show the result\n",
    "ons_durs"
   ]
  },
  {
   "cell_type": "code",
   "execution_count": null,
   "id": "67ab6b85",
   "metadata": {
    "lines_to_next_cell": 2
   },
   "outputs": [],
   "source": [
    "assert ons_durs.shape == (7, 2)\n",
    "assert np.all(ons_durs[-1] == [148, 12])"
   ]
  },
  {
   "cell_type": "markdown",
   "id": "80a335e5",
   "metadata": {},
   "source": [
    "Our next step is to make an on-off vector that is 0 when the subject is doing\n",
    "nothing and 1 when the subject is doing the covert verb task.\n",
    "\n",
    "The vector will have one value (either 0 or 1) for each TR.\n",
    "\n",
    "First use nibabel to load the image `ds114_sub009_t2r1.nii`. Check the image\n",
    "shape to find the number of TRs."
   ]
  },
  {
   "cell_type": "code",
   "execution_count": null,
   "id": "02ee2c11",
   "metadata": {},
   "outputs": [],
   "source": [
    "#- Load the image and check the image shape to get the number of TRs\n",
    "img = ...\n",
    "# Show the shape of the image.\n",
    "img.shape"
   ]
  },
  {
   "cell_type": "markdown",
   "id": "32c3adcf",
   "metadata": {},
   "source": [
    "Next make a new vector called `time_course` with one entry per TR, with all\n",
    "elements in the vector being zero:"
   ]
  },
  {
   "cell_type": "code",
   "execution_count": null,
   "id": "989593b8",
   "metadata": {},
   "outputs": [],
   "source": [
    "#- Make new zero vector\n",
    "time_course = ..."
   ]
  },
  {
   "cell_type": "code",
   "execution_count": null,
   "id": "90bfbd47",
   "metadata": {
    "lines_to_next_cell": 2
   },
   "outputs": [],
   "source": [
    "assert isinstance(time_course, np.ndarray)\n",
    "assert time_course.shape == (img.shape[-1],)"
   ]
  },
  {
   "cell_type": "markdown",
   "id": "f4a94c35",
   "metadata": {},
   "source": [
    "Loop over the rows in the onsets / durations array to give you an onset /\n",
    "duration pair. For each of these pairs, set the matching positions in the\n",
    "`time_course` vector to 1. For example, the first pair will be `4, 12`. That\n",
    "means the task started at the beginning of scan index 4, and lasted for 12\n",
    "scans. There should be 12 consecutive 1 values in `time_course`,\n",
    "starting at index 4. Index 4 + 12 = 16 should be zero again, because there are\n",
    "12 values starting at (including) 4 going up to (but *not* including) 16."
   ]
  },
  {
   "cell_type": "code",
   "execution_count": null,
   "id": "63237b3d",
   "metadata": {},
   "outputs": [],
   "source": [
    "# Try running this if you don't believe me\n",
    "len(range(4, 16))"
   ]
  },
  {
   "cell_type": "markdown",
   "id": "e386ffc8",
   "metadata": {},
   "source": [
    "So, for the first row, you will want to set `time_course[4]` through\n",
    "`time_course[15]` equal to 1.\n",
    "\n",
    "**Hint** - you may consider converting `ons_durs` to integers to make your task\n",
    "easier."
   ]
  },
  {
   "cell_type": "code",
   "execution_count": null,
   "id": "f45d6a33",
   "metadata": {},
   "outputs": [],
   "source": [
    "#- Fill in values of 1 for positions of on blocks in time course\n",
    "...\n",
    "...\n",
    "# Show the result\n",
    "time_course"
   ]
  },
  {
   "cell_type": "markdown",
   "id": "c6840105",
   "metadata": {},
   "source": [
    "Plot the time course:"
   ]
  },
  {
   "cell_type": "code",
   "execution_count": null,
   "id": "12115dfe",
   "metadata": {},
   "outputs": [],
   "source": [
    "#- Plot the time course"
   ]
  },
  {
   "cell_type": "markdown",
   "id": "913bbd61",
   "metadata": {},
   "source": [
    "## Comparing task to rest\n",
    "\n",
    "Make a Boolean array `is_task_tr` which is True when `time_course` is 1\n",
    "and False otherwise.\n",
    "\n",
    "Make another array `is_rest_tr` that is the opposite - True when\n",
    "`time_course` is 0 and False otherwise."
   ]
  },
  {
   "cell_type": "code",
   "execution_count": null,
   "id": "264a393d",
   "metadata": {},
   "outputs": [],
   "source": [
    "#- Make two Boolean arrays encoding task, rest\n",
    "is_task_tr = ...\n",
    "is_rest_tr = ..."
   ]
  },
  {
   "cell_type": "code",
   "execution_count": null,
   "id": "080bf9c7",
   "metadata": {},
   "outputs": [],
   "source": [
    "assert np.count_nonzero(is_task_tr) == 84  # 84 task scans\n",
    "assert np.count_nonzero(is_rest_tr) == 89  # 89 rest scans"
   ]
  },
  {
   "cell_type": "markdown",
   "id": "319f1a7a",
   "metadata": {},
   "source": [
    "Read the image data as a 4D array:"
   ]
  },
  {
   "cell_type": "code",
   "execution_count": null,
   "id": "a4036cc0",
   "metadata": {},
   "outputs": [],
   "source": [
    "#- Read the image data  an array.\n",
    "data = ...\n",
    "# Show the shape of the resulting array.\n",
    "data.shape"
   ]
  },
  {
   "cell_type": "markdown",
   "id": "4383a12b",
   "metadata": {},
   "source": [
    "Remember that the 4D array consists of one volume (3D array) per TR.\n",
    "\n",
    "We want to select the volumes where the time course is 1 (task volumes).  Do\n",
    "this by slicing, using the Boolean array you just made."
   ]
  },
  {
   "cell_type": "code",
   "execution_count": null,
   "id": "99e18439",
   "metadata": {},
   "outputs": [],
   "source": [
    "#- Create a new 4D array only containing the task volumes\n",
    "on_volumes = ..."
   ]
  },
  {
   "cell_type": "code",
   "execution_count": null,
   "id": "eda13982",
   "metadata": {
    "lines_to_next_cell": 2
   },
   "outputs": [],
   "source": [
    "assert on_volumes.shape == data.shape[:-1] + (84,)"
   ]
  },
  {
   "cell_type": "markdown",
   "id": "bfd7d86c",
   "metadata": {},
   "source": [
    "Select the volumes where the time course is 0 (rest volumes):"
   ]
  },
  {
   "cell_type": "code",
   "execution_count": null,
   "id": "c72650d8",
   "metadata": {},
   "outputs": [],
   "source": [
    "#- Create a new 4D array only containing the rest volumes\n",
    "off_volumes = ..."
   ]
  },
  {
   "cell_type": "code",
   "execution_count": null,
   "id": "2b2dcf5a",
   "metadata": {},
   "outputs": [],
   "source": [
    "assert off_volumes.shape == data.shape[:-1] + (89,)"
   ]
  },
  {
   "cell_type": "markdown",
   "id": "e402d81b",
   "metadata": {},
   "source": [
    "We want to know whether there is a difference in signal in the task volumes\n",
    "compared to the rest volumes. Take the mean over the task volumes and mean\n",
    "over the rest volumes. You should end up with two 3D volumes."
   ]
  },
  {
   "cell_type": "code",
   "execution_count": null,
   "id": "9786fb27",
   "metadata": {},
   "outputs": [],
   "source": [
    "#- Create the mean volume across all the task volumes.\n",
    "#- Then create the mean volume across all the rest volumes\n",
    "on_mean = ...\n",
    "off_mean = ..."
   ]
  },
  {
   "cell_type": "code",
   "execution_count": null,
   "id": "d739796c",
   "metadata": {},
   "outputs": [],
   "source": [
    "assert on_mean.shape == data.shape[:-1]\n",
    "assert off_mean.shape == data.shape[:-1]"
   ]
  },
  {
   "cell_type": "markdown",
   "id": "6db0c6d3",
   "metadata": {},
   "source": [
    "Now subtract the rest mean from the task mean to get a difference volume."
   ]
  },
  {
   "cell_type": "code",
   "execution_count": null,
   "id": "586d9ba8",
   "metadata": {},
   "outputs": [],
   "source": [
    "#- Create a difference volume\n",
    "difference = ..."
   ]
  },
  {
   "cell_type": "code",
   "execution_count": null,
   "id": "3171f759",
   "metadata": {},
   "outputs": [],
   "source": [
    "assert difference.shape == data.shape[:-1]"
   ]
  },
  {
   "cell_type": "markdown",
   "id": "c3d97d78",
   "metadata": {},
   "source": [
    "Show a slice over the third dimension of the difference volume, from somewhere\n",
    "around the center of the third axis:"
   ]
  },
  {
   "cell_type": "code",
   "execution_count": null,
   "id": "70d671dd",
   "metadata": {},
   "outputs": [],
   "source": [
    "#- Show a slice over the third dimension"
   ]
  },
  {
   "cell_type": "markdown",
   "id": "a466a145",
   "metadata": {},
   "source": [
    "This is the difference between activation and rest. It looks a little strange.\n",
    "Maybe there are some artefacts here."
   ]
  },
  {
   "cell_type": "markdown",
   "id": "d537e478",
   "metadata": {},
   "source": [
    "## Fixing the artefact\n",
    "\n",
    "One way of looking for artefacts in a 4D image to find volumes with unusually\n",
    "high variance / standard deviation.\n",
    "\n",
    "There is one volume in this 4D image with particularly high standard deviation.\n",
    "\n",
    "In fact, this volume has a particularly high standard deviation across voxels.\n",
    "\n",
    "The standard deviation across voxels is the standard deviation of all the voxels in the 3D volume.  Thus, there will be one standard deviation across voxels, per volume.\n",
    "\n",
    "Calculate the standard deviation across voxels for each volume."
   ]
  },
  {
   "cell_type": "code",
   "execution_count": null,
   "id": "fbded1a0",
   "metadata": {},
   "outputs": [],
   "source": [
    "#- Calculate the SD across voxels for each volume\n",
    "#- Identify the outlier volume\n",
    "stds = ...\n",
    "# Plot the result\n",
    "plt.plot(stds)"
   ]
  },
  {
   "cell_type": "markdown",
   "id": "81653f57",
   "metadata": {},
   "source": [
    "Which volume is this (what position)?\n",
    "\n",
    "Use your slicing skills to remove this volume from your selection of rest (off)\n",
    "volumes."
   ]
  },
  {
   "cell_type": "code",
   "execution_count": null,
   "id": "706e002e",
   "metadata": {},
   "outputs": [],
   "source": [
    "#- Use slicing to remove outlier volume from rest volumes\n",
    "off_volumes_fixed = ...\n",
    "# Show the shape\n",
    "off_volumes_fixed.shape"
   ]
  },
  {
   "cell_type": "code",
   "execution_count": null,
   "id": "c75bb080",
   "metadata": {},
   "outputs": [],
   "source": [
    "assert off_volumes_fixed.shape == data.shape[:-1] + (88,)"
   ]
  },
  {
   "cell_type": "markdown",
   "id": "ec83ccdf",
   "metadata": {},
   "source": [
    "Make a new mean for the rest volumes, and subtract this mean from the mean for\n",
    "the task volumes to make a new difference image.\n",
    "\n",
    "Give the new difference image a new name, so we can compare to the old\n",
    "difference image later."
   ]
  },
  {
   "cell_type": "code",
   "execution_count": null,
   "id": "670f5755",
   "metadata": {},
   "outputs": [],
   "source": [
    "#- Make new mean for rest volumes, subtract from task mean\n",
    "difference_fixed = ..."
   ]
  },
  {
   "cell_type": "code",
   "execution_count": null,
   "id": "986ca96d",
   "metadata": {
    "lines_to_next_cell": 2
   },
   "outputs": [],
   "source": [
    "assert difference_fixed.shape == data.shape[:-1]"
   ]
  },
  {
   "cell_type": "markdown",
   "id": "88c48043",
   "metadata": {},
   "source": [
    "Show an example slice from the new difference volume. Show the same slice from\n",
    "the old difference volume, using matplotlib."
   ]
  },
  {
   "cell_type": "code",
   "execution_count": null,
   "id": "ff00ace8",
   "metadata": {},
   "outputs": [],
   "source": [
    "#- show slice from old difference volume\n",
    "plt.imshow(...)"
   ]
  },
  {
   "cell_type": "code",
   "execution_count": null,
   "id": "52e5f7b8",
   "metadata": {},
   "outputs": [],
   "source": [
    "#- show same slice from new difference volume\n",
    "plt.imshow(...)"
   ]
  }
 ],
 "metadata": {
  "jupytext": {
   "notebook_metadata_filter": "all,-language_info",
   "split_at_heading": true,
   "text_representation": {
    "extension": ".Rmd",
    "format_name": "rmarkdown",
    "format_version": "1.2",
    "jupytext_version": "1.13.7"
   }
  },
  "kernelspec": {
   "display_name": "Python 3",
   "language": "python",
   "name": "python3"
  }
 },
 "nbformat": 4,
 "nbformat_minor": 5
}
