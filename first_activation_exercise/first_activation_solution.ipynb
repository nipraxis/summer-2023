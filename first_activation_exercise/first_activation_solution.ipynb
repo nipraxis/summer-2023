{
 "cells": [
  {
   "cell_type": "markdown",
   "id": "195861b2",
   "metadata": {},
   "source": [
    "# First go at brain activation"
   ]
  },
  {
   "cell_type": "code",
   "execution_count": 1,
   "id": "e1d1a190",
   "metadata": {
    "execution": {
     "iopub.execute_input": "2022-08-29T18:46:53.684802Z",
     "iopub.status.busy": "2022-08-29T18:46:53.683896Z",
     "iopub.status.idle": "2022-08-29T18:46:54.679282Z",
     "shell.execute_reply": "2022-08-29T18:46:54.679711Z"
    }
   },
   "outputs": [],
   "source": [
    "# import common modules\n",
    "import numpy as np  # the Python array package\n",
    "import matplotlib.pyplot as plt  # the Python plotting package\n",
    "# Display array values to 6 digits of precision\n",
    "np.set_printoptions(precision=4, suppress=True)\n",
    "\n",
    "# Image library.\n",
    "import nibabel as nib\n",
    "\n",
    "# Course library.\n",
    "import nipraxis"
   ]
  },
  {
   "cell_type": "markdown",
   "id": "b611085b",
   "metadata": {},
   "source": [
    "## The simplest possible way to find task activation\n",
    "\n",
    "We are going to look at a functional MRI task run, taken while the subject did\n",
    "a task.  The task was a block design, where the subject rested, then thought of\n",
    "as many verbs as they could for 30 seconds, then rested for 30 seconds, and so\n",
    "on.\n",
    "\n",
    "We are interested to find voxels that have higher signal for the scans while the subject was doing the task, then when the subject was resting.\n",
    "\n",
    "One very simple way of doing this, is the following:\n",
    "\n",
    "* Identify all the scans taken while the subject was doing the task.  Call\n",
    "  these the *task volumes*.  Take an average across volume, of these task\n",
    "  volumes to get a *task average* volume.\n",
    "* Do the same thing for the rest volumes to get a *rest average* volume.\n",
    "* Subtract the rest average volume from the task average volume to get the\n",
    "  *difference average* volume.\n",
    "\n",
    "Voxels with high signal in the *difference average* volume are voxels that had\n",
    "higher average signal during the task scans than during the rest scans.  These\n",
    "may be voxels *activated* by the task."
   ]
  },
  {
   "cell_type": "markdown",
   "id": "a68b38e2",
   "metadata": {},
   "source": [
    "## The task time-course\n",
    "\n",
    "We have previously had a look at the file `ds114_sub009_t2r1.nii`. This is a 4D\n",
    "FMRI image."
   ]
  },
  {
   "cell_type": "code",
   "execution_count": 2,
   "id": "424e5e82",
   "metadata": {
    "execution": {
     "iopub.execute_input": "2022-08-29T18:46:54.684342Z",
     "iopub.status.busy": "2022-08-29T18:46:54.683711Z",
     "iopub.status.idle": "2022-08-29T18:46:54.761025Z",
     "shell.execute_reply": "2022-08-29T18:46:54.761516Z"
    }
   },
   "outputs": [],
   "source": [
    "# Fetch the data file to this computer.\n",
    "bold_fname = nipraxis.fetch_file('ds114_sub009_t2r1.nii')\n",
    "# Show the filename\n",
    "bold_fname"
   ]
  },
  {
   "cell_type": "markdown",
   "id": "b4794512",
   "metadata": {},
   "source": [
    "Now we want to see whether we can detect any signal in that image relating to\n",
    "the task.\n",
    "\n",
    "The task was a block design with 10 seconds rest followed by 7 repeats of (30\n",
    "seconds when the subject thought of verbs followed by 30 seconds rest). This\n",
    "is called a “covert” task, because the subjects were thinking of verbs instead\n",
    "of saying them.\n",
    "\n",
    "We next fetch the text file containing information about the block onsets. It\n",
    "comes from subject 9 task 2 and run 1 of the [ds114\n",
    "dataset](https://openfmri.org/dataset/ds000114), from the [OpenFMRI](https://openfmri.org/) project."
   ]
  },
  {
   "cell_type": "code",
   "execution_count": 3,
   "id": "6dc91ce4",
   "metadata": {
    "execution": {
     "iopub.execute_input": "2022-08-29T18:46:54.765188Z",
     "iopub.status.busy": "2022-08-29T18:46:54.764549Z",
     "iopub.status.idle": "2022-08-29T18:46:55.040159Z",
     "shell.execute_reply": "2022-08-29T18:46:55.042220Z"
    }
   },
   "outputs": [],
   "source": [
    "# Fetch the task definition file to this computer.\n",
    "stim_fname = nipraxis.fetch_file('ds114_sub009_t2r1_cond.txt')\n",
    "# Show the filename\n",
    "stim_fname"
   ]
  },
  {
   "cell_type": "markdown",
   "id": "bae8f174",
   "metadata": {},
   "source": [
    "The file has one line of text per “on” block, giving the onset time of the\n",
    "block (in seconds), the duration of the block (in seconds) and the amplitude\n",
    "(expected amount of activation for this block - not used in this case).\n",
    "\n",
    "Here are the first four lines:\n",
    "\n",
    "```\n",
    "10  30.000000   1\n",
    "70  30.000000   1\n",
    "130 30.000000   1\n",
    "190 30.000000   1\n",
    "```\n",
    "\n",
    "Read the file into a (number of blocks by 3) array called `task`."
   ]
  },
  {
   "cell_type": "code",
   "execution_count": 4,
   "id": "2fdfc1cd",
   "metadata": {
    "execution": {
     "iopub.execute_input": "2022-08-29T18:46:55.048346Z",
     "iopub.status.busy": "2022-08-29T18:46:55.047366Z",
     "iopub.status.idle": "2022-08-29T18:46:55.052604Z",
     "shell.execute_reply": "2022-08-29T18:46:55.054215Z"
    }
   },
   "outputs": [],
   "source": [
    "#- Read the file into an array called \"task\".\n",
    "#- \"task\" should have 3 columns (onset, duration, amplitude)\n",
    "task = np.loadtxt(stim_fname)\n",
    "# Show the result.\n",
    "task"
   ]
  },
  {
   "cell_type": "markdown",
   "id": "b563259b",
   "metadata": {},
   "source": [
    "The repetition time (time to repeat, TR) for this FMRI run was 2.5 seconds. We\n",
    "need to convert the onsets and durations to TRs - so for example the first\n",
    "onset was at 10 seconds, which was the start of TR 4 (10 / 2.5).\n",
    "\n",
    "Select out the first two columns of task, and divide by the TR to convert the\n",
    "onset and duration times to be in terms of TRs instead of seconds:"
   ]
  },
  {
   "cell_type": "code",
   "execution_count": 5,
   "id": "2918ae6e",
   "metadata": {
    "execution": {
     "iopub.execute_input": "2022-08-29T18:46:55.060462Z",
     "iopub.status.busy": "2022-08-29T18:46:55.059676Z",
     "iopub.status.idle": "2022-08-29T18:46:55.062678Z",
     "shell.execute_reply": "2022-08-29T18:46:55.063154Z"
    }
   },
   "outputs": [],
   "source": [
    "#- Select first two columns and divide by TR\n",
    "ons_durs = task[:, :2] / 2.5\n",
    "# Show the result\n",
    "ons_durs"
   ]
  },
  {
   "cell_type": "code",
   "execution_count": 6,
   "id": "e4405d90",
   "metadata": {
    "execution": {
     "iopub.execute_input": "2022-08-29T18:46:55.069637Z",
     "iopub.status.busy": "2022-08-29T18:46:55.066742Z",
     "iopub.status.idle": "2022-08-29T18:46:55.073170Z",
     "shell.execute_reply": "2022-08-29T18:46:55.074259Z"
    },
    "lines_to_next_cell": 2
   },
   "outputs": [],
   "source": [
    "assert ons_durs.shape == (7, 2)\n",
    "assert np.all(ons_durs[-1] == [148, 12])"
   ]
  },
  {
   "cell_type": "markdown",
   "id": "624bf707",
   "metadata": {},
   "source": [
    "Our next step is to make an on-off vector that is 0 when the subject is doing\n",
    "nothing and 1 when the subject is doing the covert verb task.\n",
    "\n",
    "The vector will have one value (either 0 or 1) for each TR.\n",
    "\n",
    "First use nibabel to load the image `ds114_sub009_t2r1.nii`. Check the image\n",
    "shape to find the number of TRs."
   ]
  },
  {
   "cell_type": "code",
   "execution_count": 7,
   "id": "3810d089",
   "metadata": {
    "execution": {
     "iopub.execute_input": "2022-08-29T18:46:55.081902Z",
     "iopub.status.busy": "2022-08-29T18:46:55.080984Z",
     "iopub.status.idle": "2022-08-29T18:46:55.085360Z",
     "shell.execute_reply": "2022-08-29T18:46:55.085903Z"
    }
   },
   "outputs": [],
   "source": [
    "#- Load the image and check the image shape to get the number of TRs\n",
    "img = nib.load(bold_fname)\n",
    "# Show the shape of the image.\n",
    "img.shape"
   ]
  },
  {
   "cell_type": "markdown",
   "id": "78dda3a1",
   "metadata": {},
   "source": [
    "Next make a new vector called `time_course` with one entry per TR, with all\n",
    "elements in the vector being zero:"
   ]
  },
  {
   "cell_type": "code",
   "execution_count": 8,
   "id": "79e1d5ef",
   "metadata": {
    "execution": {
     "iopub.execute_input": "2022-08-29T18:46:55.090515Z",
     "iopub.status.busy": "2022-08-29T18:46:55.089901Z",
     "iopub.status.idle": "2022-08-29T18:46:55.093303Z",
     "shell.execute_reply": "2022-08-29T18:46:55.093955Z"
    }
   },
   "outputs": [],
   "source": [
    "#- Make new zero vector\n",
    "time_course = np.zeros(img.shape[-1])"
   ]
  },
  {
   "cell_type": "code",
   "execution_count": 9,
   "id": "d56c2a9b",
   "metadata": {
    "execution": {
     "iopub.execute_input": "2022-08-29T18:46:55.099606Z",
     "iopub.status.busy": "2022-08-29T18:46:55.098750Z",
     "iopub.status.idle": "2022-08-29T18:46:55.102212Z",
     "shell.execute_reply": "2022-08-29T18:46:55.103082Z"
    },
    "lines_to_next_cell": 2
   },
   "outputs": [],
   "source": [
    "assert isinstance(time_course, np.ndarray)\n",
    "assert time_course.shape == (img.shape[-1],)"
   ]
  },
  {
   "cell_type": "markdown",
   "id": "a8b91a35",
   "metadata": {},
   "source": [
    "Loop over the rows in the onsets / durations array to give you an onset /\n",
    "duration pair. For each of these pairs, set the matching positions in the\n",
    "`time_course` vector to 1. For example, the first pair will be `4, 12`. That\n",
    "means the task started at the beginning of scan index 4, and lasted for 12\n",
    "scans. There should be 12 consecutive 1 values in `time_course`,\n",
    "starting at index 4. Index 4 + 12 = 16 should be zero again, because there are\n",
    "12 values starting at (including) 4 going up to (but *not* including) 16."
   ]
  },
  {
   "cell_type": "code",
   "execution_count": 10,
   "id": "2884d7a0",
   "metadata": {
    "execution": {
     "iopub.execute_input": "2022-08-29T18:46:55.110251Z",
     "iopub.status.busy": "2022-08-29T18:46:55.108370Z",
     "iopub.status.idle": "2022-08-29T18:46:55.117746Z",
     "shell.execute_reply": "2022-08-29T18:46:55.118581Z"
    }
   },
   "outputs": [],
   "source": [
    "# Try running this if you don't believe me\n",
    "len(range(4, 16))"
   ]
  },
  {
   "cell_type": "markdown",
   "id": "f31e9c41",
   "metadata": {},
   "source": [
    "So, for the first row, you will want to set `time_course[4]` through\n",
    "`time_course[15]` equal to 1.\n",
    "\n",
    "**Hint** - you may consider converting `ons_durs` to integers to make your task\n",
    "easier."
   ]
  },
  {
   "cell_type": "code",
   "execution_count": 11,
   "id": "1f44e5ce",
   "metadata": {
    "execution": {
     "iopub.execute_input": "2022-08-29T18:46:55.128043Z",
     "iopub.status.busy": "2022-08-29T18:46:55.127357Z",
     "iopub.status.idle": "2022-08-29T18:46:55.129999Z",
     "shell.execute_reply": "2022-08-29T18:46:55.130547Z"
    }
   },
   "outputs": [],
   "source": [
    "#- Fill in values of 1 for positions of on blocks in time course\n",
    "# See https://textbook.nipraxis.org/tuple_unpacking on how this next line\n",
    "# works.\n",
    "for onset, duration in ons_durs.astype(int):\n",
    "    time_course[onset:onset + duration] = 1\n",
    "# Show the result\n",
    "time_course"
   ]
  },
  {
   "cell_type": "markdown",
   "id": "c1f19013",
   "metadata": {},
   "source": [
    "Plot the time course:"
   ]
  },
  {
   "cell_type": "code",
   "execution_count": 12,
   "id": "a1440f02",
   "metadata": {
    "execution": {
     "iopub.execute_input": "2022-08-29T18:46:55.137057Z",
     "iopub.status.busy": "2022-08-29T18:46:55.134614Z",
     "iopub.status.idle": "2022-08-29T18:46:55.301639Z",
     "shell.execute_reply": "2022-08-29T18:46:55.302063Z"
    }
   },
   "outputs": [],
   "source": [
    "#- Plot the time course\n",
    "plt.plot(time_course)"
   ]
  },
  {
   "cell_type": "markdown",
   "id": "e017b953",
   "metadata": {},
   "source": [
    "## Comparing task to rest\n",
    "\n",
    "Make a Boolean array `is_task_tr` which is True when `time_course` is 1\n",
    "and False otherwise.\n",
    "\n",
    "Make another array `is_rest_tr` that is the opposite - True when\n",
    "`time_course` is 0 and False otherwise."
   ]
  },
  {
   "cell_type": "code",
   "execution_count": 13,
   "id": "cef8845d",
   "metadata": {
    "execution": {
     "iopub.execute_input": "2022-08-29T18:46:55.307455Z",
     "iopub.status.busy": "2022-08-29T18:46:55.306300Z",
     "iopub.status.idle": "2022-08-29T18:46:55.308962Z",
     "shell.execute_reply": "2022-08-29T18:46:55.309466Z"
    }
   },
   "outputs": [],
   "source": [
    "#- Make two Boolean arrays encoding task, rest\n",
    "is_task_tr = (time_course == 1)\n",
    "is_rest_tr = (time_course == 0)"
   ]
  },
  {
   "cell_type": "code",
   "execution_count": 14,
   "id": "baf754e3",
   "metadata": {
    "execution": {
     "iopub.execute_input": "2022-08-29T18:46:55.313557Z",
     "iopub.status.busy": "2022-08-29T18:46:55.312882Z",
     "iopub.status.idle": "2022-08-29T18:46:55.316185Z",
     "shell.execute_reply": "2022-08-29T18:46:55.316976Z"
    }
   },
   "outputs": [],
   "source": [
    "assert np.count_nonzero(is_task_tr) == 84  # 84 task scans\n",
    "assert np.count_nonzero(is_rest_tr) == 89  # 89 rest scans"
   ]
  },
  {
   "cell_type": "markdown",
   "id": "28b93aa6",
   "metadata": {},
   "source": [
    "Read the image data as a 4D array:"
   ]
  },
  {
   "cell_type": "code",
   "execution_count": 15,
   "id": "84284848",
   "metadata": {
    "execution": {
     "iopub.execute_input": "2022-08-29T18:46:55.348913Z",
     "iopub.status.busy": "2022-08-29T18:46:55.320778Z",
     "iopub.status.idle": "2022-08-29T18:46:55.455704Z",
     "shell.execute_reply": "2022-08-29T18:46:55.456216Z"
    }
   },
   "outputs": [],
   "source": [
    "#- Read the image data  an array.\n",
    "data = img.get_fdata()\n",
    "# Show the shape of the resulting array.\n",
    "data.shape"
   ]
  },
  {
   "cell_type": "markdown",
   "id": "74a7f743",
   "metadata": {},
   "source": [
    "Remember that the 4D array consists of one volume (3D array) per TR.\n",
    "\n",
    "We want to select the volumes where the time course is 1 (task volumes).  Do\n",
    "this by slicing, using the Boolean array you just made."
   ]
  },
  {
   "cell_type": "code",
   "execution_count": 16,
   "id": "b55a63dc",
   "metadata": {
    "execution": {
     "iopub.execute_input": "2022-08-29T18:46:55.459907Z",
     "iopub.status.busy": "2022-08-29T18:46:55.459289Z",
     "iopub.status.idle": "2022-08-29T18:46:55.504454Z",
     "shell.execute_reply": "2022-08-29T18:46:55.504855Z"
    }
   },
   "outputs": [],
   "source": [
    "#- Create a new 4D array only containing the task volumes\n",
    "on_volumes = data[..., is_task_tr]"
   ]
  },
  {
   "cell_type": "code",
   "execution_count": 17,
   "id": "e05a2a73",
   "metadata": {
    "execution": {
     "iopub.execute_input": "2022-08-29T18:46:55.510486Z",
     "iopub.status.busy": "2022-08-29T18:46:55.509739Z",
     "iopub.status.idle": "2022-08-29T18:46:55.511947Z",
     "shell.execute_reply": "2022-08-29T18:46:55.512423Z"
    },
    "lines_to_next_cell": 2
   },
   "outputs": [],
   "source": [
    "assert on_volumes.shape == data.shape[:-1] + (84,)"
   ]
  },
  {
   "cell_type": "markdown",
   "id": "1d16cb74",
   "metadata": {},
   "source": [
    "Select the volumes where the time course is 0 (rest volumes):"
   ]
  },
  {
   "cell_type": "code",
   "execution_count": 18,
   "id": "f25726bd",
   "metadata": {
    "execution": {
     "iopub.execute_input": "2022-08-29T18:46:55.517095Z",
     "iopub.status.busy": "2022-08-29T18:46:55.516354Z",
     "iopub.status.idle": "2022-08-29T18:46:55.567098Z",
     "shell.execute_reply": "2022-08-29T18:46:55.567565Z"
    }
   },
   "outputs": [],
   "source": [
    "#- Create a new 4D array only containing the rest volumes\n",
    "off_volumes = data[..., is_rest_tr]"
   ]
  },
  {
   "cell_type": "code",
   "execution_count": 19,
   "id": "cb97065b",
   "metadata": {
    "execution": {
     "iopub.execute_input": "2022-08-29T18:46:55.572571Z",
     "iopub.status.busy": "2022-08-29T18:46:55.571657Z",
     "iopub.status.idle": "2022-08-29T18:46:55.574303Z",
     "shell.execute_reply": "2022-08-29T18:46:55.574926Z"
    }
   },
   "outputs": [],
   "source": [
    "assert off_volumes.shape == data.shape[:-1] + (89,)"
   ]
  },
  {
   "cell_type": "markdown",
   "id": "4818bca6",
   "metadata": {},
   "source": [
    "We want to know whether there is a difference in signal in the task volumes\n",
    "compared to the rest volumes. Take the mean over the task volumes and mean\n",
    "over the rest volumes. You should end up with two 3D volumes."
   ]
  },
  {
   "cell_type": "code",
   "execution_count": 20,
   "id": "7602e7b6",
   "metadata": {
    "execution": {
     "iopub.execute_input": "2022-08-29T18:46:55.580887Z",
     "iopub.status.busy": "2022-08-29T18:46:55.580109Z",
     "iopub.status.idle": "2022-08-29T18:46:55.597558Z",
     "shell.execute_reply": "2022-08-29T18:46:55.596987Z"
    }
   },
   "outputs": [],
   "source": [
    "#- Create the mean volume across all the task volumes.\n",
    "#- Then create the mean volume across all the rest volumes\n",
    "# Hint: remember the `axis` keyword.\n",
    "on_mean = on_volumes.mean(axis=-1)\n",
    "off_mean = off_volumes.mean(axis=-1)"
   ]
  },
  {
   "cell_type": "code",
   "execution_count": 21,
   "id": "591b9ae9",
   "metadata": {
    "execution": {
     "iopub.execute_input": "2022-08-29T18:46:55.605489Z",
     "iopub.status.busy": "2022-08-29T18:46:55.604579Z",
     "iopub.status.idle": "2022-08-29T18:46:55.607034Z",
     "shell.execute_reply": "2022-08-29T18:46:55.607486Z"
    }
   },
   "outputs": [],
   "source": [
    "assert on_mean.shape == data.shape[:-1]\n",
    "assert off_mean.shape == data.shape[:-1]"
   ]
  },
  {
   "cell_type": "markdown",
   "id": "b7e00af3",
   "metadata": {},
   "source": [
    "Now subtract the rest mean from the task mean to get a difference volume."
   ]
  },
  {
   "cell_type": "code",
   "execution_count": 22,
   "id": "2dee1791",
   "metadata": {
    "execution": {
     "iopub.execute_input": "2022-08-29T18:46:55.615226Z",
     "iopub.status.busy": "2022-08-29T18:46:55.613046Z",
     "iopub.status.idle": "2022-08-29T18:46:55.619378Z",
     "shell.execute_reply": "2022-08-29T18:46:55.619913Z"
    }
   },
   "outputs": [],
   "source": [
    "#- Create a difference volume\n",
    "difference = on_mean - off_mean"
   ]
  },
  {
   "cell_type": "code",
   "execution_count": 23,
   "id": "2884d08b",
   "metadata": {
    "execution": {
     "iopub.execute_input": "2022-08-29T18:46:55.625383Z",
     "iopub.status.busy": "2022-08-29T18:46:55.624524Z",
     "iopub.status.idle": "2022-08-29T18:46:55.626207Z",
     "shell.execute_reply": "2022-08-29T18:46:55.626814Z"
    }
   },
   "outputs": [],
   "source": [
    "assert difference.shape == data.shape[:-1]"
   ]
  },
  {
   "cell_type": "markdown",
   "id": "0a036750",
   "metadata": {},
   "source": [
    "Show a slice over the third dimension of the difference volume, from somewhere\n",
    "around the center of the third axis:"
   ]
  },
  {
   "cell_type": "code",
   "execution_count": 24,
   "id": "a47b9a02",
   "metadata": {
    "execution": {
     "iopub.execute_input": "2022-08-29T18:46:55.650121Z",
     "iopub.status.busy": "2022-08-29T18:46:55.649311Z",
     "iopub.status.idle": "2022-08-29T18:46:55.782940Z",
     "shell.execute_reply": "2022-08-29T18:46:55.783424Z"
    }
   },
   "outputs": [],
   "source": [
    "#- Show a slice over the third dimension\n",
    "plt.imshow(difference[:, :, 14], cmap='gray')"
   ]
  },
  {
   "cell_type": "markdown",
   "id": "6ce3e668",
   "metadata": {},
   "source": [
    "This is the difference between activation and rest. It looks a little strange.\n",
    "Maybe there are some artefacts here."
   ]
  },
  {
   "cell_type": "markdown",
   "id": "251f1326",
   "metadata": {},
   "source": [
    "## Fixing the artefact\n",
    "\n",
    "One way of looking for artefacts in a 4D image to find volumes with unusually\n",
    "high variance / standard deviation.\n",
    "\n",
    "There is one volume in this 4D image with particularly high standard deviation.\n",
    "\n",
    "In fact, this volume has a particularly high standard deviation across voxels.\n",
    "\n",
    "The standard deviation across voxels is the standard deviation of all the voxels in the 3D volume.  Thus, there will be one standard deviation across voxels, per volume.\n",
    "\n",
    "Calculate the standard deviation across voxels for each volume."
   ]
  },
  {
   "cell_type": "code",
   "execution_count": 25,
   "id": "9e5ac3c6",
   "metadata": {
    "execution": {
     "iopub.execute_input": "2022-08-29T18:46:55.787947Z",
     "iopub.status.busy": "2022-08-29T18:46:55.787271Z",
     "iopub.status.idle": "2022-08-29T18:46:56.484880Z",
     "shell.execute_reply": "2022-08-29T18:46:56.485297Z"
    }
   },
   "outputs": [],
   "source": [
    "#- Calculate the SD across voxels for each volume\n",
    "#- Identify the outlier volume\n",
    "voxels_by_time = data.reshape((-1, data.shape[-1]))\n",
    "stds = np.std(voxels_by_time, axis=0)\n",
    "# Plot the result\n",
    "plt.plot(stds)"
   ]
  },
  {
   "cell_type": "markdown",
   "id": "963c5e16",
   "metadata": {},
   "source": [
    "Which volume is this (what position)?\n",
    "\n",
    "Use your slicing skills to remove this volume from your selection of rest (off)\n",
    "volumes."
   ]
  },
  {
   "cell_type": "code",
   "execution_count": 26,
   "id": "234c48d7",
   "metadata": {
    "execution": {
     "iopub.execute_input": "2022-08-29T18:46:56.489589Z",
     "iopub.status.busy": "2022-08-29T18:46:56.488973Z",
     "iopub.status.idle": "2022-08-29T18:46:56.491991Z",
     "shell.execute_reply": "2022-08-29T18:46:56.492701Z"
    }
   },
   "outputs": [],
   "source": [
    "#- Use slicing to remove outlier volume from rest volumes\n",
    "off_volumes_fixed = off_volumes[..., 1:]\n",
    "# Show the shape\n",
    "off_volumes_fixed.shape"
   ]
  },
  {
   "cell_type": "code",
   "execution_count": 27,
   "id": "44c4801e",
   "metadata": {
    "execution": {
     "iopub.execute_input": "2022-08-29T18:46:56.497413Z",
     "iopub.status.busy": "2022-08-29T18:46:56.496770Z",
     "iopub.status.idle": "2022-08-29T18:46:56.498665Z",
     "shell.execute_reply": "2022-08-29T18:46:56.499142Z"
    }
   },
   "outputs": [],
   "source": [
    "assert off_volumes_fixed.shape == data.shape[:-1] + (88,)"
   ]
  },
  {
   "cell_type": "markdown",
   "id": "a4a648eb",
   "metadata": {},
   "source": [
    "Make a new mean for the rest volumes, and subtract this mean from the mean for\n",
    "the task volumes to make a new difference image.\n",
    "\n",
    "Give the new difference image a new name, so we can compare to the old\n",
    "difference image later."
   ]
  },
  {
   "cell_type": "code",
   "execution_count": 28,
   "id": "1520e43a",
   "metadata": {
    "execution": {
     "iopub.execute_input": "2022-08-29T18:46:56.504013Z",
     "iopub.status.busy": "2022-08-29T18:46:56.503189Z",
     "iopub.status.idle": "2022-08-29T18:46:56.512503Z",
     "shell.execute_reply": "2022-08-29T18:46:56.512936Z"
    }
   },
   "outputs": [],
   "source": [
    "#- Make new mean for rest volumes, subtract from task mean\n",
    "off_mean_fixed = off_volumes_fixed.mean(axis=-1)\n",
    "difference_fixed = on_mean - off_mean_fixed"
   ]
  },
  {
   "cell_type": "code",
   "execution_count": 29,
   "id": "de0e1fcb",
   "metadata": {
    "execution": {
     "iopub.execute_input": "2022-08-29T18:46:56.518351Z",
     "iopub.status.busy": "2022-08-29T18:46:56.517636Z",
     "iopub.status.idle": "2022-08-29T18:46:56.520236Z",
     "shell.execute_reply": "2022-08-29T18:46:56.519760Z"
    },
    "lines_to_next_cell": 2
   },
   "outputs": [],
   "source": [
    "assert difference_fixed.shape == data.shape[:-1]"
   ]
  },
  {
   "cell_type": "markdown",
   "id": "0d9c3992",
   "metadata": {},
   "source": [
    "Show an example slice from the new difference volume. Show the same slice from\n",
    "the old difference volume, using matplotlib."
   ]
  },
  {
   "cell_type": "code",
   "execution_count": 30,
   "id": "0ceeac6c",
   "metadata": {
    "execution": {
     "iopub.execute_input": "2022-08-29T18:46:56.538703Z",
     "iopub.status.busy": "2022-08-29T18:46:56.537683Z",
     "iopub.status.idle": "2022-08-29T18:46:56.653099Z",
     "shell.execute_reply": "2022-08-29T18:46:56.654042Z"
    }
   },
   "outputs": [],
   "source": [
    "#- show slice from old difference volume\n",
    "plt.imshow(difference_fixed[:, :, 14], cmap='gray')"
   ]
  },
  {
   "cell_type": "code",
   "execution_count": 31,
   "id": "8c04c8a8",
   "metadata": {
    "execution": {
     "iopub.execute_input": "2022-08-29T18:46:56.672926Z",
     "iopub.status.busy": "2022-08-29T18:46:56.670174Z",
     "iopub.status.idle": "2022-08-29T18:46:56.784052Z",
     "shell.execute_reply": "2022-08-29T18:46:56.784454Z"
    }
   },
   "outputs": [],
   "source": [
    "#- show same slice from new difference volume\n",
    "plt.imshow(difference_fixed[:, :, 14], cmap='gray')"
   ]
  }
 ],
 "metadata": {
  "jupytext": {
   "notebook_metadata_filter": "all,-language_info",
   "split_at_heading": true,
   "text_representation": {
    "extension": ".Rmd",
    "format_name": "rmarkdown",
    "format_version": "1.2",
    "jupytext_version": "1.13.7"
   }
  },
  "kernelspec": {
   "display_name": "Python 3",
   "language": "python",
   "name": "python3"
  },
  "language_info": {
   "codemirror_mode": {
    "name": "ipython",
    "version": 3
   },
   "file_extension": ".py",
   "mimetype": "text/x-python",
   "name": "python",
   "nbconvert_exporter": "python",
   "pygments_lexer": "ipython3",
   "version": "3.8.13"
  }
 },
 "nbformat": 4,
 "nbformat_minor": 5
}
