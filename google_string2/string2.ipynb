{
 "cells": [
  {
   "cell_type": "markdown",
   "id": "8c125640",
   "metadata": {},
   "source": [
    "# Basic string exercises 2\n",
    "\n",
    "Copyright 2010 Google Inc. Licensed under the Apache License, Version 2.0\n",
    "<http://www.apache.org/licenses/LICENSE-2.0>\n",
    "\n",
    "Google's Python Class:\n",
    "<http://code.google.com/edu/languages/google-python-class/>\n"
   ]
  },
  {
   "cell_type": "markdown",
   "id": "a0cb4374",
   "metadata": {},
   "source": [
    "## Introduction"
   ]
  },
  {
   "cell_type": "markdown",
   "id": "7d4bae12",
   "metadata": {},
   "source": [
    "You might want to read the [Google course chapter on\n",
    "strings](https://developers.google.com/edu/python/strings).\n",
    "\n",
    "Fill in the code for the functions below.\n",
    "\n",
    "When you have filled in the code for the function, run the tests for the function in the cell below the function.\n",
    "\n",
    "The tests call the function with a few different inputs.  If the function is not correct, they will give an `AssertionError`.  If the function appears to be correct, the test cell will run without error.\n",
    "\n",
    "The starter code for each function includes a `return` which is just a\n",
    "placeholder for your code.\n",
    "\n",
    "It's OK if you do not complete all the functions, and there are some\n",
    "additional functions to try in the `google_string2` exercise.\n"
   ]
  },
  {
   "cell_type": "markdown",
   "id": "3dc58eae",
   "metadata": {},
   "source": [
    "## verbing\n",
    "\n",
    "Given a string, if its length is at least 3, add `'ing'` to its end. Unless it\n",
    "already ends in `'ing'`, in which case add `'ly'` instead. If the string length\n",
    "is less than 3, leave it unchanged. Return the resulting string."
   ]
  },
  {
   "cell_type": "code",
   "execution_count": null,
   "id": "150956a6",
   "metadata": {},
   "outputs": [],
   "source": [
    "def verbing(s):\n",
    "    #- +++your code here+++\n",
    "    if len(s) ... :\n",
    "        # do something\n",
    "    return ..."
   ]
  },
  {
   "cell_type": "code",
   "execution_count": null,
   "id": "fd80a867",
   "metadata": {},
   "outputs": [],
   "source": [
    "# Run this cell to test your function\n",
    "assert verbing('hail') == 'hailing'\n",
    "assert verbing('swimming') == 'swimmingly'\n",
    "assert verbing('do') == 'do'"
   ]
  },
  {
   "cell_type": "markdown",
   "id": "c950abde",
   "metadata": {},
   "source": [
    "## not_bad\n",
    "\n",
    "Given a string, find the first appearance of the substring `'not'` and the\n",
    "first appearance of the substring `'bad'`.\n",
    "\n",
    "If the `'bad'` follows the `'not'`, replace the whole `'not'...'bad'` substring\n",
    "with `'good'`.\n",
    "\n",
    "Return the resulting string.\n",
    "\n",
    "So `'This dinner is not that bad!'` yields: `'This dinner is good!'`."
   ]
  },
  {
   "cell_type": "code",
   "execution_count": null,
   "id": "dd553d51",
   "metadata": {},
   "outputs": [],
   "source": [
    "def not_bad(s):\n",
    "    #- +++your code here+++\n",
    "    return ..."
   ]
  },
  {
   "cell_type": "code",
   "execution_count": null,
   "id": "77345389",
   "metadata": {},
   "outputs": [],
   "source": [
    "# Run this cell to test your function\n",
    "assert not_bad('This movie is not so bad') == 'This movie is good'\n",
    "assert not_bad('This dinner is not that bad!') == 'This dinner is good!'\n",
    "assert not_bad('This tea is not hot') == 'This tea is not hot'\n",
    "assert not_bad(\"It's bad yet not\") == \"It's bad yet not\""
   ]
  },
  {
   "cell_type": "markdown",
   "id": "2b9ad7e8",
   "metadata": {},
   "source": [
    "## front_back\n",
    "\n",
    "Consider dividing a string into two halves.\n",
    "\n",
    "If the length is even, the front and back halves are the same length.\n",
    "\n",
    "If the length is odd, we'll say that the extra character goes in the front\n",
    "half. For example, in `'abcde'`, the front half is `'abc'`, the back half\n",
    "`'de'`.\n",
    "\n",
    "Given 2 strings, `a` and `b`, return a string of the form `a-front + b-front +\n",
    "a-back + b-back`\n",
    "\n",
    "**Hint**: you may want to use the `//` operator for integer division. So,\n",
    "`12 / 5` in Python is the usual floating point division, and gives 2.4, but `12\n",
    "// 5` is integer division, rounding towards 0 to the nearest integer, and gives\n",
    "2."
   ]
  },
  {
   "cell_type": "code",
   "execution_count": null,
   "id": "5a85bcf7",
   "metadata": {},
   "outputs": [],
   "source": [
    "def front_back(a, b):\n",
    "    #- +++your code here+++\n",
    "    return ..."
   ]
  },
  {
   "cell_type": "code",
   "execution_count": null,
   "id": "b833843a",
   "metadata": {},
   "outputs": [],
   "source": [
    "# Run this cell to test your function\n",
    "assert front_back('abcd', 'xy') == 'abxcdy'\n",
    "assert front_back('abcde', 'xyz') == 'abcxydez'\n",
    "assert front_back('Kitten', 'Donut') == 'KitDontenut'"
   ]
  },
  {
   "cell_type": "markdown",
   "id": "68f22bb0",
   "metadata": {},
   "source": [
    "## That's it!\n",
    "\n",
    "You've finished the exercise."
   ]
  }
 ],
 "metadata": {
  "jupytext": {
   "cell_metadata_filter": "-all",
   "notebook_metadata_filter": "all,-language_info",
   "split_at_heading": true,
   "text_representation": {
    "extension": ".Rmd",
    "format_name": "rmarkdown",
    "format_version": "1.2",
    "jupytext_version": "1.13.7"
   }
  },
  "kernelspec": {
   "display_name": "Python 3",
   "language": "python",
   "name": "python3"
  }
 },
 "nbformat": 4,
 "nbformat_minor": 5
}
