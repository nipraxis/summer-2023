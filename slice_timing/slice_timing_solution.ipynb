{
 "cells": [
  {
   "cell_type": "markdown",
   "id": "1848e838",
   "metadata": {},
   "source": [
    "# Slice timing exercise\n",
    "\n",
    "See: [slice timing correction](https://textbook.nipraxis.org/slice_timing.html)\n",
    "for the background to this exercise."
   ]
  },
  {
   "cell_type": "code",
   "execution_count": 1,
   "id": "0858a8ff",
   "metadata": {
    "execution": {
     "iopub.execute_input": "2022-05-30T15:24:03.389617Z",
     "iopub.status.busy": "2022-05-30T15:24:03.388928Z",
     "iopub.status.idle": "2022-05-30T15:24:04.158603Z",
     "shell.execute_reply": "2022-05-30T15:24:04.159043Z"
    }
   },
   "outputs": [],
   "source": [
    "#: Import common modules\n",
    "import numpy as np  # the Python array package\n",
    "np.set_printoptions(precision=4, suppress=True)  # print to 4 DP\n",
    "import matplotlib.pyplot as plt  # the Python plotting package\n",
    "#: Set defaults for plotting\n",
    "plt.rcParams['image.cmap'] = 'gray'\n",
    "\n",
    "import nibabel as nib\n",
    "\n",
    "import nipraxis"
   ]
  },
  {
   "cell_type": "markdown",
   "id": "a49321fb",
   "metadata": {},
   "source": [
    "Load the image `ds114_sub009_t2r1.nii` with nibabel. Get the data:"
   ]
  },
  {
   "cell_type": "code",
   "execution_count": 2,
   "id": "caafd357",
   "metadata": {
    "execution": {
     "iopub.execute_input": "2022-05-30T15:24:04.163825Z",
     "iopub.status.busy": "2022-05-30T15:24:04.163091Z",
     "iopub.status.idle": "2022-05-30T15:24:04.431863Z",
     "shell.execute_reply": "2022-05-30T15:24:04.432277Z"
    }
   },
   "outputs": [],
   "source": [
    "#: Load the image 'ds114_sub009_t2r1.nii' with nibabel\n",
    "# Get the data array from the image\n",
    "# Fetch image file.\n",
    "bold_fname = nipraxis.fetch_file('ds114_sub009_t2r1.nii')\n",
    "img = nib.load(bold_fname)\n",
    "data = img.get_fdata()\n",
    "data.shape"
   ]
  },
  {
   "cell_type": "markdown",
   "id": "cba6b1a4",
   "metadata": {},
   "source": [
    "As you remember, the first volume in this dataset is a lot different from the\n",
    "rest, and this will mess up our interpolation in time.\n",
    "\n",
    "So, we need to remove the first volume from the data first, using slicing:"
   ]
  },
  {
   "cell_type": "code",
   "execution_count": 3,
   "id": "0a7ec4c5",
   "metadata": {
    "execution": {
     "iopub.execute_input": "2022-05-30T15:24:04.436277Z",
     "iopub.status.busy": "2022-05-30T15:24:04.435624Z",
     "iopub.status.idle": "2022-05-30T15:24:04.438018Z",
     "shell.execute_reply": "2022-05-30T15:24:04.438561Z"
    }
   },
   "outputs": [],
   "source": [
    "#: Remove the first volume by slicing\n",
    "fixed_data = data[..., 1:]\n",
    "fixed_data.shape"
   ]
  },
  {
   "cell_type": "markdown",
   "id": "9ab4ac6d",
   "metadata": {},
   "source": [
    "We start off with example time-courses from the first and second slice.\n",
    "\n",
    "Use slicing to get a z slice 0 time series for an example voxel at voxel\n",
    "coordinates (23, 19, 0).\n",
    "\n",
    "Do the same for a z slice 1 time series from (23, 19, 1).\n",
    "\n",
    "Plot these time series against volume number on the same graph:"
   ]
  },
  {
   "cell_type": "code",
   "execution_count": 4,
   "id": "9e012a86",
   "metadata": {
    "execution": {
     "iopub.execute_input": "2022-05-30T15:24:04.462717Z",
     "iopub.status.busy": "2022-05-30T15:24:04.460996Z",
     "iopub.status.idle": "2022-05-30T15:24:04.579564Z",
     "shell.execute_reply": "2022-05-30T15:24:04.580044Z"
    }
   },
   "outputs": [],
   "source": [
    "#- Slice out time series for voxel (23, 19, 0)\n",
    "#- Slice out time series for voxel (23, 19, 1)\n",
    "#- Plot both these time series against volume number, on the same graph\n",
    "slice_0_ts = fixed_data[23, 19, 0, :]\n",
    "slice_1_ts = fixed_data[23, 19, 1, :]\n",
    "plt.plot(slice_0_ts)\n",
    "plt.plot(slice_1_ts)"
   ]
  },
  {
   "cell_type": "markdown",
   "id": "66bc3dde",
   "metadata": {},
   "source": [
    "The scanner collected slices for these data in an “ascending\n",
    "interleaved” order. That is, the scanner first collected z slice 0, then\n",
    "z slice 2, up to z slice 28. It then went back to collect z slice 1, 3,\n",
    "5 up to z slice 29.\n",
    "\n",
    "That means the scanner started collecting slice 0 in each volume, at the\n",
    "beginning of the volume.\n",
    "\n",
    "The TR (time to collect one volume) is 2.5 seconds."
   ]
  },
  {
   "cell_type": "code",
   "execution_count": 5,
   "id": "fb7b8f86",
   "metadata": {
    "execution": {
     "iopub.execute_input": "2022-05-30T15:24:04.583650Z",
     "iopub.status.busy": "2022-05-30T15:24:04.583001Z",
     "iopub.status.idle": "2022-05-30T15:24:04.585338Z",
     "shell.execute_reply": "2022-05-30T15:24:04.584823Z"
    }
   },
   "outputs": [],
   "source": [
    "#: The time between scans\n",
    "TR = 2.5"
   ]
  },
  {
   "cell_type": "markdown",
   "id": "183ce150",
   "metadata": {},
   "source": [
    "Make a time vector, length 172, that corresponds to the start time in seconds\n",
    "of each volume. This also gives the slice 0 start times."
   ]
  },
  {
   "cell_type": "code",
   "execution_count": 6,
   "id": "23cdf079",
   "metadata": {
    "execution": {
     "iopub.execute_input": "2022-05-30T15:24:04.590671Z",
     "iopub.status.busy": "2022-05-30T15:24:04.589936Z",
     "iopub.status.idle": "2022-05-30T15:24:04.592713Z",
     "shell.execute_reply": "2022-05-30T15:24:04.593155Z"
    }
   },
   "outputs": [],
   "source": [
    "#- Make time vector containing start times in second of each volume,\n",
    "#- relative to start of first volume.\n",
    "#- Call this `slice_0_times`\n",
    "slice_0_times = np.arange(fixed_data.shape[-1]) * 2.5\n",
    "slice_0_times"
   ]
  },
  {
   "cell_type": "markdown",
   "id": "dd3d7d39",
   "metadata": {},
   "source": [
    "The scanner starts to collect z slice 1 exactly half way through the volume\n",
    "(half way through the TR). Make a new vector that is the start time of\n",
    "acquisition of slice 1."
   ]
  },
  {
   "cell_type": "code",
   "execution_count": 7,
   "id": "d172839e",
   "metadata": {
    "execution": {
     "iopub.execute_input": "2022-05-30T15:24:04.598604Z",
     "iopub.status.busy": "2022-05-30T15:24:04.597981Z",
     "iopub.status.idle": "2022-05-30T15:24:04.600398Z",
     "shell.execute_reply": "2022-05-30T15:24:04.600869Z"
    }
   },
   "outputs": [],
   "source": [
    "#- Make time vector containing start times in seconds of z slice 1,\n",
    "#- relative to start of first volume.\n",
    "#- Call this `slice_1_times`\n",
    "slice_1_times = slice_0_times + 2.5 / 2\n",
    "slice_1_times"
   ]
  },
  {
   "cell_type": "markdown",
   "id": "9ad32489",
   "metadata": {},
   "source": [
    "Now plot the first 10 values for the slice 0 times, against the first 10\n",
    "values of the slice 0 time series.\n",
    "\n",
    "Do the same plot for the first 10 values of the slice 1 times, against the\n",
    "first 10 values of the slice 1 time series.\n",
    "\n",
    "Use the `:+` line marker for the plots to get the actual position of the\n",
    "points, and dotted lines between them."
   ]
  },
  {
   "cell_type": "code",
   "execution_count": 8,
   "id": "e29b52ff",
   "metadata": {
    "execution": {
     "iopub.execute_input": "2022-05-30T15:24:04.622274Z",
     "iopub.status.busy": "2022-05-30T15:24:04.621627Z",
     "iopub.status.idle": "2022-05-30T15:24:04.707388Z",
     "shell.execute_reply": "2022-05-30T15:24:04.707808Z"
    }
   },
   "outputs": [],
   "source": [
    "#- Plot first 10 values of slice 0 times against first 10 of slice 0\n",
    "#- time series;\n",
    "#- Plot first 10 values of slice 1 times against first 10 of slice 1\n",
    "#- time series.\n",
    "#- Use ':+' marker\n",
    "plt.plot(slice_0_times[:10], slice_0_ts[:10], ':+')\n",
    "plt.plot(slice_1_times[:10], slice_1_ts[:10], ':+')"
   ]
  },
  {
   "cell_type": "markdown",
   "id": "d8085e5c",
   "metadata": {},
   "source": [
    "Import `InterpolatedUnivariateSpline` from `scipy.interpolate`. Make a new\n",
    "linear (`k=1`) interpolation object for slice 1, with the slice 1 times and\n",
    "values."
   ]
  },
  {
   "cell_type": "code",
   "execution_count": 9,
   "id": "8c9502d6",
   "metadata": {
    "execution": {
     "iopub.execute_input": "2022-05-30T15:24:04.712015Z",
     "iopub.status.busy": "2022-05-30T15:24:04.711414Z",
     "iopub.status.idle": "2022-05-30T15:24:04.835262Z",
     "shell.execute_reply": "2022-05-30T15:24:04.835681Z"
    }
   },
   "outputs": [],
   "source": [
    "#- Import `InterpolatedUnivariateSpline` from `scipy.interpolate`\n",
    "#- Make a new linear (`k=1`) interpolation object for slice 1, with\n",
    "#- slice 1 times and values.\n",
    "from scipy.interpolate import InterpolatedUnivariateSpline\n",
    "interp = InterpolatedUnivariateSpline(slice_1_times, slice_1_ts, k=1)"
   ]
  },
  {
   "cell_type": "markdown",
   "id": "fdc7e8eb",
   "metadata": {},
   "source": [
    "Call the object you got with the slice 0 times, to get the estimated time\n",
    "series values for slice 1, if slice 1 had been collected at the same time as\n",
    "slice 0:"
   ]
  },
  {
   "cell_type": "code",
   "execution_count": 10,
   "id": "dd12705e",
   "metadata": {
    "execution": {
     "iopub.execute_input": "2022-05-30T15:24:04.839435Z",
     "iopub.status.busy": "2022-05-30T15:24:04.838789Z",
     "iopub.status.idle": "2022-05-30T15:24:04.840736Z",
     "shell.execute_reply": "2022-05-30T15:24:04.841162Z"
    }
   },
   "outputs": [],
   "source": [
    "#- Call interpolator with `slice_0_times` to get estimated values\n",
    "slice_1_ts_est = interp(slice_0_times)"
   ]
  },
  {
   "cell_type": "markdown",
   "id": "c832fc39",
   "metadata": {},
   "source": [
    "Repeat the plot of the first 10 values of the time series. This time, on the\n",
    "same plot, add the estimated values for slice 1, if they had been collected at\n",
    "the same time as slice 0. Use a black `x` for the estimated points (marker\n",
    "`'kx'`):"
   ]
  },
  {
   "cell_type": "code",
   "execution_count": 11,
   "id": "becb87c2",
   "metadata": {
    "execution": {
     "iopub.execute_input": "2022-05-30T15:24:04.863611Z",
     "iopub.status.busy": "2022-05-30T15:24:04.863010Z",
     "iopub.status.idle": "2022-05-30T15:24:04.949826Z",
     "shell.execute_reply": "2022-05-30T15:24:04.950246Z"
    }
   },
   "outputs": [],
   "source": [
    "#- Plot first 10 values of slice 0 times against first 10 of slice 0\n",
    "#- time series;\n",
    "#- Plot first 10 values of slice 1 times against first 10 of slice 1\n",
    "#- time series;\n",
    "#- Plot first 10 values of slice 0 times against first 10 of\n",
    "#- interpolated slice 1 time series.\n",
    "plt.plot(slice_0_times[:10], slice_0_ts[:10], ':+')\n",
    "plt.plot(slice_1_times[:10], slice_1_ts[:10], ':+')\n",
    "plt.plot(slice_0_times[:10], slice_1_ts_est[:10], 'kx')"
   ]
  },
  {
   "cell_type": "markdown",
   "id": "da24a147",
   "metadata": {},
   "source": [
    "Use numpy to make a new copy of the data matrix. This will contain the slice\n",
    "time corrected values for all voxels. Copying the data matrix will give us the\n",
    "data we want for slice 0, because we want to keep the values for z slice 0\n",
    "unchanged.  We need to make a copy of the array to make sure we do not\n",
    "overwrite the original data."
   ]
  },
  {
   "cell_type": "code",
   "execution_count": 12,
   "id": "9dddb843",
   "metadata": {
    "execution": {
     "iopub.execute_input": "2022-05-30T15:24:04.953556Z",
     "iopub.status.busy": "2022-05-30T15:24:04.952975Z",
     "iopub.status.idle": "2022-05-30T15:24:05.316889Z",
     "shell.execute_reply": "2022-05-30T15:24:05.317370Z"
    }
   },
   "outputs": [],
   "source": [
    "#- Copy old data to a new array\n",
    "new_data = fixed_data.copy()"
   ]
  },
  {
   "cell_type": "markdown",
   "id": "954bb5a9",
   "metadata": {},
   "source": [
    "Loop over every x voxel coordinate, and then loop over every y voxel\n",
    "coordinate.\n",
    "\n",
    "For each x, y voxel coordinate:\n",
    "\n",
    "* Extract the time series at this x, y coordinate for slice 1.\n",
    "* Make a linear interpolator object with the slice 1 times and the extracted\n",
    "  time series.\n",
    "* Resample this interpolator at the slice 0 times.\n",
    "* Put this new resampled time series into the new data at the same position."
   ]
  },
  {
   "cell_type": "code",
   "execution_count": 13,
   "id": "84fe6d5f",
   "metadata": {
    "execution": {
     "iopub.execute_input": "2022-05-30T15:24:05.323647Z",
     "iopub.status.busy": "2022-05-30T15:24:05.323039Z",
     "iopub.status.idle": "2022-05-30T15:24:05.603537Z",
     "shell.execute_reply": "2022-05-30T15:24:05.603959Z"
    }
   },
   "outputs": [],
   "source": [
    "#- loop over all x coordinate values\n",
    "#- loop over all y coordinate values\n",
    "#- extract the time series at this x, y coordinate for slice 1;\n",
    "#- make a linear interpolator object with the slice 1 times and the\n",
    "#- extracted time series;\n",
    "#- resample this interpolator at the slice 0 times;\n",
    "#- put this new resampled time series into the new data at the same\n",
    "#- position.\n",
    "for x in range(fixed_data.shape[0]):\n",
    "    for y in range(fixed_data.shape[1]):\n",
    "        time_series = fixed_data[x, y, 1, :]\n",
    "        interp = InterpolatedUnivariateSpline(slice_1_times, time_series, k=1)\n",
    "        new_series = interp(slice_0_times)\n",
    "        new_data[x, y, 1, :] = new_series"
   ]
  },
  {
   "cell_type": "markdown",
   "id": "e75db132",
   "metadata": {},
   "source": [
    "Now we need to do the same thing for all the z slices.\n",
    "\n",
    "To do this, we want to construct an offset vector (call it `time_offset`) of\n",
    "length (number of z slices) such that adding the `time_offset[z]` to the\n",
    "acquisition time of the first slice will give us the time of acquisition of\n",
    "slice `z`. The next few steps are to get to that `time_offset` vector.\n",
    "\n",
    "First, make a new vector `acquisition_order` that is length 30, where\n",
    "`acquisition_order[i]` is the order of acquisition of slice index `i`. For\n",
    "example, the first 4 elements of `acqusition_order` should be 0, 15, 1, 16."
   ]
  },
  {
   "cell_type": "code",
   "execution_count": 14,
   "id": "28b6e6fe",
   "metadata": {
    "execution": {
     "iopub.execute_input": "2022-05-30T15:24:05.609682Z",
     "iopub.status.busy": "2022-05-30T15:24:05.608892Z",
     "iopub.status.idle": "2022-05-30T15:24:05.611760Z",
     "shell.execute_reply": "2022-05-30T15:24:05.612263Z"
    }
   },
   "outputs": [],
   "source": [
    "#- Make acquisition_order vector, length 30, with values:\n",
    "#- 0, 15, 1, 16 ... 14, 29\n",
    "acquisition_order = np.zeros(30)\n",
    "acquisition_index = 0\n",
    "for i in range(0, 30, 2):\n",
    "    acquisition_order[i] = acquisition_index\n",
    "    acquisition_index += 1\n",
    "for i in range(1, 30, 2):\n",
    "    acquisition_order[i] = acquisition_index\n",
    "    acquisition_index += 1\n",
    "acquisition_order"
   ]
  },
  {
   "cell_type": "markdown",
   "id": "a578d2cb",
   "metadata": {},
   "source": [
    "Divide the acquisition order vector by number of slices, and multiply by the\n",
    "TR, to get the time offset for each z slice, relative to the start of the\n",
    "scan:"
   ]
  },
  {
   "cell_type": "code",
   "execution_count": 15,
   "id": "f9a100fb",
   "metadata": {
    "execution": {
     "iopub.execute_input": "2022-05-30T15:24:05.616692Z",
     "iopub.status.busy": "2022-05-30T15:24:05.616019Z",
     "iopub.status.idle": "2022-05-30T15:24:05.618625Z",
     "shell.execute_reply": "2022-05-30T15:24:05.619036Z"
    }
   },
   "outputs": [],
   "source": [
    "#- Divide acquisition_order by number of slices, multiply by TR\n",
    "time_offsets = acquisition_order / 30 * TR\n",
    "time_offsets"
   ]
  },
  {
   "cell_type": "markdown",
   "id": "05a86592",
   "metadata": {},
   "source": [
    "Now we can do our whole slice time correction, for every slice.\n",
    "\n",
    "* For each z coordinate (slice index):\n",
    "    * Make a time vector by adding the slice time offset for this slice, to the\n",
    "      `slice_0` times. Call this the `slice_z_times` vector;\n",
    "    * For each x coordinate:\n",
    "        * For each y coordinate:\n",
    "            * extract the time series at this x, y, z coordinate;\n",
    "            * make a linear interpolator object with the `slice_z_times` and\n",
    "              the extracted time series;\n",
    "            * resample this interpolator at the slice 0 times;\n",
    "            * put this new resampled time series into the new data at the same\n",
    "              position."
   ]
  },
  {
   "cell_type": "code",
   "execution_count": 16,
   "id": "7b3229bd",
   "metadata": {
    "execution": {
     "iopub.execute_input": "2022-05-30T15:24:05.624135Z",
     "iopub.status.busy": "2022-05-30T15:24:05.623445Z",
     "iopub.status.idle": "2022-05-30T15:24:13.938873Z",
     "shell.execute_reply": "2022-05-30T15:24:13.938420Z"
    }
   },
   "outputs": [],
   "source": [
    "#- For each z coordinate (slice index):\n",
    "#- # Make `slice_z_times` vector for this slice\n",
    "#- ## For each x coordinate:\n",
    "#- ### For each y coordinate:\n",
    "#- #### extract the time series at this x, y, z coordinate;\n",
    "#- #### make a linear interpolator object with the `slice_z_times` and\n",
    "#-      the extracted time series;\n",
    "#- #### resample this interpolator at the slice 0 times;\n",
    "#- #### put this new resampled time series into the new data at the\n",
    "#-      same position\n",
    "for z in range(fixed_data.shape[2]):\n",
    "    slice_z_times = slice_0_times + time_offsets[z]\n",
    "    for x in range(fixed_data.shape[0]):\n",
    "        for y in range(fixed_data.shape[1]):\n",
    "            time_series = fixed_data[x, y, z, :]\n",
    "            interp = InterpolatedUnivariateSpline(slice_z_times, time_series, k=1)\n",
    "            new_series = interp(slice_0_times)\n",
    "            new_data[x, y, z, :] = new_series"
   ]
  },
  {
   "cell_type": "markdown",
   "id": "48c3beaf",
   "metadata": {},
   "source": [
    "Congratulations - you have just done slice timing correction on this 4D image."
   ]
  }
 ],
 "metadata": {
  "jupytext": {
   "notebook_metadata_filter": "all,-language_info",
   "split_at_heading": true,
   "text_representation": {
    "extension": ".Rmd",
    "format_name": "rmarkdown",
    "format_version": "1.2",
    "jupytext_version": "1.13.7"
   }
  },
  "kernelspec": {
   "display_name": "Python 3",
   "language": "python",
   "name": "python3"
  },
  "language_info": {
   "codemirror_mode": {
    "name": "ipython",
    "version": 3
   },
   "file_extension": ".py",
   "mimetype": "text/x-python",
   "name": "python",
   "nbconvert_exporter": "python",
   "pygments_lexer": "ipython3",
   "version": "3.8.13"
  }
 },
 "nbformat": 4,
 "nbformat_minor": 5
}
