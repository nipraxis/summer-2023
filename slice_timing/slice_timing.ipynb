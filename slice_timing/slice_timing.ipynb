{
 "cells": [
  {
   "cell_type": "markdown",
   "id": "097c54da",
   "metadata": {},
   "source": [
    "# Slice timing exercise\n",
    "\n",
    "See: [slice timing correction](https://textbook.nipraxis.org/slice_timing.html)\n",
    "for the background to this exercise."
   ]
  },
  {
   "cell_type": "code",
   "execution_count": null,
   "id": "82221811",
   "metadata": {},
   "outputs": [],
   "source": [
    "#: Import common modules\n",
    "import numpy as np  # the Python array package\n",
    "np.set_printoptions(precision=4, suppress=True)  # print to 4 DP\n",
    "import matplotlib.pyplot as plt  # the Python plotting package\n",
    "#: Set defaults for plotting\n",
    "plt.rcParams['image.cmap'] = 'gray'\n",
    "\n",
    "import nibabel as nib\n",
    "\n",
    "import nipraxis"
   ]
  },
  {
   "cell_type": "markdown",
   "id": "209d2f17",
   "metadata": {},
   "source": [
    "Load the image `ds114_sub009_t2r1.nii` with nibabel. Get the data:"
   ]
  },
  {
   "cell_type": "code",
   "execution_count": null,
   "id": "cb20ad19",
   "metadata": {},
   "outputs": [],
   "source": [
    "#: Load the image 'ds114_sub009_t2r1.nii' with nibabel\n",
    "# Get the data array from the image\n",
    "# Fetch image file.\n",
    "bold_fname = nipraxis.fetch_file('ds114_sub009_t2r1.nii')\n",
    "img = nib.load(bold_fname)\n",
    "data = img.get_fdata()\n",
    "data.shape"
   ]
  },
  {
   "cell_type": "markdown",
   "id": "7df5ad99",
   "metadata": {},
   "source": [
    "As you remember, the first volume in this dataset is a lot different from the\n",
    "rest, and this will mess up our interpolation in time.\n",
    "\n",
    "So, we need to remove the first volume from the data first, using slicing:"
   ]
  },
  {
   "cell_type": "code",
   "execution_count": null,
   "id": "8d0eae50",
   "metadata": {},
   "outputs": [],
   "source": [
    "#: Remove the first volume by slicing\n",
    "fixed_data = data[..., 1:]\n",
    "fixed_data.shape"
   ]
  },
  {
   "cell_type": "markdown",
   "id": "1889f45f",
   "metadata": {},
   "source": [
    "We start off with example time-courses from the first and second slice.\n",
    "\n",
    "Use slicing to get a z slice 0 time series for an example voxel at voxel\n",
    "coordinates (23, 19, 0).\n",
    "\n",
    "Do the same for a z slice 1 time series from (23, 19, 1).\n",
    "\n",
    "Plot these time series against volume number on the same graph:"
   ]
  },
  {
   "cell_type": "code",
   "execution_count": null,
   "id": "35acfdda",
   "metadata": {},
   "outputs": [],
   "source": [
    "#- Slice out time series for voxel (23, 19, 0)\n",
    "#- Slice out time series for voxel (23, 19, 1)\n",
    "#- Plot both these time series against volume number, on the same graph"
   ]
  },
  {
   "cell_type": "markdown",
   "id": "39368f91",
   "metadata": {},
   "source": [
    "The scanner collected slices for these data in an “ascending\n",
    "interleaved” order. That is, the scanner first collected z slice 0, then\n",
    "z slice 2, up to z slice 28. It then went back to collect z slice 1, 3,\n",
    "5 up to z slice 29.\n",
    "\n",
    "That means the scanner started collecting slice 0 in each volume, at the\n",
    "beginning of the volume.\n",
    "\n",
    "The TR (time to collect one volume) is 2.5 seconds."
   ]
  },
  {
   "cell_type": "code",
   "execution_count": null,
   "id": "f46d58bd",
   "metadata": {},
   "outputs": [],
   "source": [
    "#: The time between scans\n",
    "TR = 2.5"
   ]
  },
  {
   "cell_type": "markdown",
   "id": "f3b2d63b",
   "metadata": {},
   "source": [
    "Make a time vector, length 172, that corresponds to the start time in seconds\n",
    "of each volume. This also gives the slice 0 start times."
   ]
  },
  {
   "cell_type": "code",
   "execution_count": null,
   "id": "76035459",
   "metadata": {},
   "outputs": [],
   "source": [
    "#- Make time vector containing start times in second of each volume,\n",
    "#- relative to start of first volume.\n",
    "#- Call this `slice_0_times`"
   ]
  },
  {
   "cell_type": "markdown",
   "id": "bbe20276",
   "metadata": {},
   "source": [
    "The scanner starts to collect z slice 1 exactly half way through the volume\n",
    "(half way through the TR). Make a new vector that is the start time of\n",
    "acquisition of slice 1."
   ]
  },
  {
   "cell_type": "code",
   "execution_count": null,
   "id": "edfa3233",
   "metadata": {},
   "outputs": [],
   "source": [
    "#- Make time vector containing start times in seconds of z slice 1,\n",
    "#- relative to start of first volume.\n",
    "#- Call this `slice_1_times`"
   ]
  },
  {
   "cell_type": "markdown",
   "id": "d19cc4cb",
   "metadata": {},
   "source": [
    "Now plot the first 10 values for the slice 0 times, against the first 10\n",
    "values of the slice 0 time series.\n",
    "\n",
    "Do the same plot for the first 10 values of the slice 1 times, against the\n",
    "first 10 values of the slice 1 time series.\n",
    "\n",
    "Use the `:+` line marker for the plots to get the actual position of the\n",
    "points, and dotted lines between them."
   ]
  },
  {
   "cell_type": "code",
   "execution_count": null,
   "id": "edf09315",
   "metadata": {},
   "outputs": [],
   "source": [
    "#- Plot first 10 values of slice 0 times against first 10 of slice 0\n",
    "#- time series;\n",
    "#- Plot first 10 values of slice 1 times against first 10 of slice 1\n",
    "#- time series.\n",
    "#- Use ':+' marker"
   ]
  },
  {
   "cell_type": "markdown",
   "id": "f0d9ae90",
   "metadata": {},
   "source": [
    "Import `InterpolatedUnivariateSpline` from `scipy.interpolate`. Make a new\n",
    "linear (`k=1`) interpolation object for slice 1, with the slice 1 times and\n",
    "values."
   ]
  },
  {
   "cell_type": "code",
   "execution_count": null,
   "id": "fb3a38b1",
   "metadata": {},
   "outputs": [],
   "source": [
    "#- Import `InterpolatedUnivariateSpline` from `scipy.interpolate`\n",
    "#- Make a new linear (`k=1`) interpolation object for slice 1, with\n",
    "#- slice 1 times and values."
   ]
  },
  {
   "cell_type": "markdown",
   "id": "96fe254e",
   "metadata": {},
   "source": [
    "Call the object you got with the slice 0 times, to get the estimated time\n",
    "series values for slice 1, if slice 1 had been collected at the same time as\n",
    "slice 0:"
   ]
  },
  {
   "cell_type": "code",
   "execution_count": null,
   "id": "0bb62ad0",
   "metadata": {},
   "outputs": [],
   "source": [
    "#- Call interpolator with `slice_0_times` to get estimated values"
   ]
  },
  {
   "cell_type": "markdown",
   "id": "c850d763",
   "metadata": {},
   "source": [
    "Repeat the plot of the first 10 values of the time series. This time, on the\n",
    "same plot, add the estimated values for slice 1, if they had been collected at\n",
    "the same time as slice 0. Use a black `x` for the estimated points (marker\n",
    "`'kx'`):"
   ]
  },
  {
   "cell_type": "code",
   "execution_count": null,
   "id": "9da9499d",
   "metadata": {},
   "outputs": [],
   "source": [
    "#- Plot first 10 values of slice 0 times against first 10 of slice 0\n",
    "#- time series;\n",
    "#- Plot first 10 values of slice 1 times against first 10 of slice 1\n",
    "#- time series;\n",
    "#- Plot first 10 values of slice 0 times against first 10 of\n",
    "#- interpolated slice 1 time series."
   ]
  },
  {
   "cell_type": "markdown",
   "id": "9a9fbdbc",
   "metadata": {},
   "source": [
    "Use numpy to make a new copy of the data matrix. This will contain the slice\n",
    "time corrected values for all voxels. Copying the data matrix will give us the\n",
    "data we want for slice 0, because we want to keep the values for z slice 0\n",
    "unchanged.  We need to make a copy of the array to make sure we do not\n",
    "overwrite the original data."
   ]
  },
  {
   "cell_type": "code",
   "execution_count": null,
   "id": "b1172fe5",
   "metadata": {},
   "outputs": [],
   "source": [
    "#- Copy old data to a new array"
   ]
  },
  {
   "cell_type": "markdown",
   "id": "80b800f8",
   "metadata": {},
   "source": [
    "Loop over every x voxel coordinate, and then loop over every y voxel\n",
    "coordinate.\n",
    "\n",
    "For each x, y voxel coordinate:\n",
    "\n",
    "* Extract the time series at this x, y coordinate for slice 1.\n",
    "* Make a linear interpolator object with the slice 1 times and the extracted\n",
    "  time series.\n",
    "* Resample this interpolator at the slice 0 times.\n",
    "* Put this new resampled time series into the new data at the same position."
   ]
  },
  {
   "cell_type": "code",
   "execution_count": null,
   "id": "d95f5de0",
   "metadata": {},
   "outputs": [],
   "source": [
    "#- loop over all x coordinate values\n",
    "#- loop over all y coordinate values\n",
    "#- extract the time series at this x, y coordinate for slice 1;\n",
    "#- make a linear interpolator object with the slice 1 times and the\n",
    "#- extracted time series;\n",
    "#- resample this interpolator at the slice 0 times;\n",
    "#- put this new resampled time series into the new data at the same\n",
    "#- position."
   ]
  },
  {
   "cell_type": "markdown",
   "id": "08728d73",
   "metadata": {},
   "source": [
    "Now we need to do the same thing for all the z slices.\n",
    "\n",
    "To do this, we want to construct an offset vector (call it `time_offset`) of\n",
    "length (number of z slices) such that adding the `time_offset[z]` to the\n",
    "acquisition time of the first slice will give us the time of acquisition of\n",
    "slice `z`. The next few steps are to get to that `time_offset` vector.\n",
    "\n",
    "First, make a new vector `acquisition_order` that is length 30, where\n",
    "`acquisition_order[i]` is the order of acquisition of slice index `i`. For\n",
    "example, the first 4 elements of `acqusition_order` should be 0, 15, 1, 16."
   ]
  },
  {
   "cell_type": "code",
   "execution_count": null,
   "id": "7a650b64",
   "metadata": {},
   "outputs": [],
   "source": [
    "#- Make acquisition_order vector, length 30, with values:\n",
    "#- 0, 15, 1, 16 ... 14, 29"
   ]
  },
  {
   "cell_type": "markdown",
   "id": "7f235781",
   "metadata": {},
   "source": [
    "Divide the acquisition order vector by number of slices, and multiply by the\n",
    "TR, to get the time offset for each z slice, relative to the start of the\n",
    "scan:"
   ]
  },
  {
   "cell_type": "code",
   "execution_count": null,
   "id": "193a90d2",
   "metadata": {},
   "outputs": [],
   "source": [
    "#- Divide acquisition_order by number of slices, multiply by TR"
   ]
  },
  {
   "cell_type": "markdown",
   "id": "c7e263f8",
   "metadata": {},
   "source": [
    "Now we can do our whole slice time correction, for every slice.\n",
    "\n",
    "* For each z coordinate (slice index):\n",
    "    * Make a time vector by adding the slice time offset for this slice, to the\n",
    "      `slice_0` times. Call this the `slice_z_times` vector;\n",
    "    * For each x coordinate:\n",
    "        * For each y coordinate:\n",
    "            * extract the time series at this x, y, z coordinate;\n",
    "            * make a linear interpolator object with the `slice_z_times` and\n",
    "              the extracted time series;\n",
    "            * resample this interpolator at the slice 0 times;\n",
    "            * put this new resampled time series into the new data at the same\n",
    "              position."
   ]
  },
  {
   "cell_type": "code",
   "execution_count": null,
   "id": "5738249b",
   "metadata": {},
   "outputs": [],
   "source": [
    "#- For each z coordinate (slice index):\n",
    "#- # Make `slice_z_times` vector for this slice\n",
    "#- ## For each x coordinate:\n",
    "#- ### For each y coordinate:\n",
    "#- #### extract the time series at this x, y, z coordinate;\n",
    "#- #### make a linear interpolator object with the `slice_z_times` and\n",
    "#-      the extracted time series;\n",
    "#- #### resample this interpolator at the slice 0 times;\n",
    "#- #### put this new resampled time series into the new data at the\n",
    "#-      same position"
   ]
  },
  {
   "cell_type": "markdown",
   "id": "3eebfc65",
   "metadata": {},
   "source": [
    "Congratulations - you have just done slice timing correction on this 4D image."
   ]
  }
 ],
 "metadata": {
  "jupytext": {
   "notebook_metadata_filter": "all,-language_info",
   "split_at_heading": true,
   "text_representation": {
    "extension": ".Rmd",
    "format_name": "rmarkdown",
    "format_version": "1.2",
    "jupytext_version": "1.13.7"
   }
  },
  "kernelspec": {
   "display_name": "Python 3",
   "language": "python",
   "name": "python3"
  }
 },
 "nbformat": 4,
 "nbformat_minor": 5
}
